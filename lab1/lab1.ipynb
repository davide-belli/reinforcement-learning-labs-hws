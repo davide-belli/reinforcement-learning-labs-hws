{
 "cells": [
  {
   "cell_type": "markdown",
   "metadata": {},
   "source": [
    "Parts of this assignment will be **automatically graded**. Please take note of the following:\n",
    "- Before you turn this problem in, make sure everything runs as expected. First, **restart the kernel** (in the menubar, select Kernel$\\rightarrow$Restart) and then **run all cells** (in the menubar, select Cell$\\rightarrow$Run All).\n",
    "- You can add additional cells, but it is not recommended to (re)move cells. Cells required for autograding cannot be moved and cells containing tests cannot be edited.\n",
    "- You are allowed to use a service such as [Google Colaboratory](https://colab.research.google.com/) to work together. However, you **cannot** hand in the notebook that was hosted on Google Colaboratory, but you need to copy your answers into the original notebook and verify that it runs succesfully offline. This is because Google Colaboratory destroys the metadata required for grading.\n",
    "- Name your notebook **exactly** `{TA_name}_{student1_id}_{student2_id}_lab{i}.ipynb`, for example `wouter_12345_67890_lab1.ipynb` (or elise or stephan, depending on your TA), **otherwise your submission will be skipped by our regex and you will get 0 points** (but no penalty as we cannot parse your student ids ;)).\n",
    "\n",
    "Make sure you fill in any place that says `YOUR CODE HERE` or \"YOUR ANSWER HERE\", as well as your names below:"
   ]
  },
  {
   "cell_type": "code",
   "execution_count": 1,
   "metadata": {},
   "outputs": [],
   "source": [
    "NAMES = \"Davide Belli, Gabriele Cesa\""
   ]
  },
  {
   "cell_type": "markdown",
   "metadata": {},
   "source": [
    "---"
   ]
  },
  {
   "cell_type": "code",
   "execution_count": 2,
   "metadata": {
    "deletable": false,
    "editable": false,
    "nbgrader": {
     "checksum": "4eed621d3748a44866956caa0de5247b",
     "grade": false,
     "grade_id": "cell-fc69f22067705372",
     "locked": true,
     "schema_version": 1,
     "solution": false
    }
   },
   "outputs": [],
   "source": [
    "import numpy as np\n",
    "import matplotlib.pyplot as plt\n",
    "import sys\n",
    "from tqdm import tqdm as _tqdm\n",
    "\n",
    "def tqdm(*args, **kwargs):\n",
    "    return _tqdm(*args, **kwargs, mininterval=1)  # Safety, do not overflow buffer\n",
    "\n",
    "%matplotlib inline\n",
    "\n",
    "assert sys.version_info[:3] >= (3, 6, 0), \"Make sure you have Python 3.6 installed!\""
   ]
  },
  {
   "cell_type": "markdown",
   "metadata": {
    "deletable": false,
    "editable": false,
    "nbgrader": {
     "checksum": "bab7b3976d6730a0739fd462766b1d42",
     "grade": false,
     "grade_id": "cell-9ebb0d5b306dbdea",
     "locked": true,
     "schema_version": 1,
     "solution": false
    }
   },
   "source": [
    "---\n",
    "## 1. Policy Evaluation (1 point)"
   ]
  },
  {
   "cell_type": "markdown",
   "metadata": {
    "deletable": false,
    "editable": false,
    "nbgrader": {
     "checksum": "8d010aef9b5b288e694006a2aefe67e0",
     "grade": false,
     "grade_id": "cell-1078e8f0b90517ce",
     "locked": true,
     "schema_version": 1,
     "solution": false
    }
   },
   "source": [
    "In this exercise we will evaluate a policy, e.g. find the value function for a policy. The problem we consider is the gridworld from Example 4.1 in the book. The environment is implemented as `GridworldEnv`, which is a subclass of the `Env` class from [OpenAI Gym](https://github.com/openai/gym). This means that we can interact with the environment. We can look at the documentation to see how we can interact with the environment."
   ]
  },
  {
   "cell_type": "code",
   "execution_count": 3,
   "metadata": {
    "deletable": false,
    "editable": false,
    "nbgrader": {
     "checksum": "990081b68602e7e0c46f2edeab0fcb53",
     "grade": false,
     "grade_id": "cell-de586c5ac92d8d74",
     "locked": true,
     "schema_version": 1,
     "solution": false
    }
   },
   "outputs": [],
   "source": [
    "from gridworld import GridworldEnv\n",
    "env = GridworldEnv()\n",
    "# Lets see what this is\n",
    "?env"
   ]
  },
  {
   "cell_type": "code",
   "execution_count": 4,
   "metadata": {
    "deletable": false,
    "editable": false,
    "nbgrader": {
     "checksum": "814f4db75653991276d29ebff9d6ae37",
     "grade": false,
     "grade_id": "cell-b3a84dfb0e66a0c0",
     "locked": true,
     "schema_version": 1,
     "solution": false
    }
   },
   "outputs": [],
   "source": [
    "# To have a quick look into the code\n",
    "??env"
   ]
  },
  {
   "cell_type": "markdown",
   "metadata": {
    "deletable": false,
    "editable": false,
    "nbgrader": {
     "checksum": "fe850a3b9a1be42ae79b895d206ac3b6",
     "grade": false,
     "grade_id": "cell-b2162d776f0c2014",
     "locked": true,
     "schema_version": 1,
     "solution": false
    }
   },
   "source": [
    "Now we want to evaluate a policy by using Dynamic Programming. For more information, see the [Intro to RL](https://drive.google.com/open?id=1opPSz5AZ_kVa1uWOdOiveNiBFiEOHjkG) book, section 4.1. This algorithm requires knowledge of the problem dynamics in the form of the transition probabilities $p(s',r|s,a)$. In general these are not available, but for our gridworld we know the dynamics and these can be accessed as `env.P`."
   ]
  },
  {
   "cell_type": "code",
   "execution_count": 5,
   "metadata": {
    "scrolled": true
   },
   "outputs": [
    {
     "data": {
      "text/plain": [
       "{0: {0: [(1.0, 0, 0.0, True)],\n",
       "  1: [(1.0, 0, 0.0, True)],\n",
       "  2: [(1.0, 0, 0.0, True)],\n",
       "  3: [(1.0, 0, 0.0, True)]},\n",
       " 1: {0: [(1.0, 1, -1.0, False)],\n",
       "  1: [(1.0, 2, -1.0, False)],\n",
       "  2: [(1.0, 5, -1.0, False)],\n",
       "  3: [(1.0, 0, -1.0, True)]},\n",
       " 2: {0: [(1.0, 2, -1.0, False)],\n",
       "  1: [(1.0, 3, -1.0, False)],\n",
       "  2: [(1.0, 6, -1.0, False)],\n",
       "  3: [(1.0, 1, -1.0, False)]},\n",
       " 3: {0: [(1.0, 3, -1.0, False)],\n",
       "  1: [(1.0, 3, -1.0, False)],\n",
       "  2: [(1.0, 7, -1.0, False)],\n",
       "  3: [(1.0, 2, -1.0, False)]},\n",
       " 4: {0: [(1.0, 0, -1.0, True)],\n",
       "  1: [(1.0, 5, -1.0, False)],\n",
       "  2: [(1.0, 8, -1.0, False)],\n",
       "  3: [(1.0, 4, -1.0, False)]},\n",
       " 5: {0: [(1.0, 1, -1.0, False)],\n",
       "  1: [(1.0, 6, -1.0, False)],\n",
       "  2: [(1.0, 9, -1.0, False)],\n",
       "  3: [(1.0, 4, -1.0, False)]},\n",
       " 6: {0: [(1.0, 2, -1.0, False)],\n",
       "  1: [(1.0, 7, -1.0, False)],\n",
       "  2: [(1.0, 10, -1.0, False)],\n",
       "  3: [(1.0, 5, -1.0, False)]},\n",
       " 7: {0: [(1.0, 3, -1.0, False)],\n",
       "  1: [(1.0, 7, -1.0, False)],\n",
       "  2: [(1.0, 11, -1.0, False)],\n",
       "  3: [(1.0, 6, -1.0, False)]},\n",
       " 8: {0: [(1.0, 4, -1.0, False)],\n",
       "  1: [(1.0, 9, -1.0, False)],\n",
       "  2: [(1.0, 12, -1.0, False)],\n",
       "  3: [(1.0, 8, -1.0, False)]},\n",
       " 9: {0: [(1.0, 5, -1.0, False)],\n",
       "  1: [(1.0, 10, -1.0, False)],\n",
       "  2: [(1.0, 13, -1.0, False)],\n",
       "  3: [(1.0, 8, -1.0, False)]},\n",
       " 10: {0: [(1.0, 6, -1.0, False)],\n",
       "  1: [(1.0, 11, -1.0, False)],\n",
       "  2: [(1.0, 14, -1.0, False)],\n",
       "  3: [(1.0, 9, -1.0, False)]},\n",
       " 11: {0: [(1.0, 7, -1.0, False)],\n",
       "  1: [(1.0, 11, -1.0, False)],\n",
       "  2: [(1.0, 15, -1.0, True)],\n",
       "  3: [(1.0, 10, -1.0, False)]},\n",
       " 12: {0: [(1.0, 8, -1.0, False)],\n",
       "  1: [(1.0, 13, -1.0, False)],\n",
       "  2: [(1.0, 12, -1.0, False)],\n",
       "  3: [(1.0, 12, -1.0, False)]},\n",
       " 13: {0: [(1.0, 9, -1.0, False)],\n",
       "  1: [(1.0, 14, -1.0, False)],\n",
       "  2: [(1.0, 13, -1.0, False)],\n",
       "  3: [(1.0, 12, -1.0, False)]},\n",
       " 14: {0: [(1.0, 10, -1.0, False)],\n",
       "  1: [(1.0, 15, -1.0, True)],\n",
       "  2: [(1.0, 14, -1.0, False)],\n",
       "  3: [(1.0, 13, -1.0, False)]},\n",
       " 15: {0: [(1.0, 15, 0.0, True)],\n",
       "  1: [(1.0, 15, 0.0, True)],\n",
       "  2: [(1.0, 15, 0.0, True)],\n",
       "  3: [(1.0, 15, 0.0, True)]}}"
      ]
     },
     "execution_count": 5,
     "metadata": {},
     "output_type": "execute_result"
    }
   ],
   "source": [
    "# Take a moment to figure out what P represents. \n",
    "# Note that this is a deterministic environment. \n",
    "# What would a stochastic environment look like?\n",
    "env.P"
   ]
  },
  {
   "cell_type": "code",
   "execution_count": 6,
   "metadata": {
    "deletable": false,
    "nbgrader": {
     "checksum": "d2d2b829d45d264cf8a6194dc8ccc132",
     "grade": false,
     "grade_id": "cell-209a484040bd874f",
     "locked": false,
     "schema_version": 1,
     "solution": true
    }
   },
   "outputs": [],
   "source": [
    "def policy_eval(policy, env, discount_factor=1.0, theta=0.00001):\n",
    "    \"\"\"\n",
    "    Evaluate a policy given an environment and a full description of the environment's dynamics.\n",
    "    \n",
    "    Args:\n",
    "        policy: [S, A] shaped matrix representing the policy.\n",
    "        env: OpenAI env. env.P represents the transition probabilities of the environment.\n",
    "            env.P[s][a] is a list of transition tuples (prob, next_state, reward, done).\n",
    "            env.nS is a number of states in the environment. \n",
    "            env.nA is a number of actions in the environment.\n",
    "        theta: We stop evaluation once our value function change is less than theta for all states.\n",
    "        discount_factor: Gamma discount factor.\n",
    "    \n",
    "    Returns:\n",
    "        Vector of length env.nS representing the value function.\n",
    "    \"\"\"\n",
    "    # Start with a random (all 0) value function\n",
    "    V = np.zeros(env.nS)\n",
    "    \n",
    "    thetas = np.ones(env.nS) * theta\n",
    "    diff_V = thetas * 2\n",
    "    while sum(diff_V > thetas):\n",
    "        V_new = np.zeros(env.nS)\n",
    "        for s in range(env.nS):\n",
    "            for a in range(env.nA):\n",
    "                value_s_a = 0\n",
    "                for (p, s_prime, r, _) in env.P[s][a]:\n",
    "                    value_s_a += p * (r + discount_factor * V[s_prime])\n",
    "                V_new[s] += policy[s][a] * value_s_a\n",
    "        diff_V = abs(V_new - V)\n",
    "        V = V_new\n",
    "    return np.array(V)"
   ]
  },
  {
   "cell_type": "code",
   "execution_count": 7,
   "metadata": {},
   "outputs": [
    {
     "data": {
      "text/plain": [
       "array([  0.        , -13.99989315, -19.99984167, -21.99982282,\n",
       "       -13.99989315, -17.99986052, -19.99984273, -19.99984167,\n",
       "       -19.99984167, -19.99984273, -17.99986052, -13.99989315,\n",
       "       -21.99982282, -19.99984167, -13.99989315,   0.        ])"
      ]
     },
     "execution_count": 7,
     "metadata": {},
     "output_type": "execute_result"
    }
   ],
   "source": [
    "# Let's run your code, does it make sense?\n",
    "random_policy = np.ones([env.nS, env.nA]) / env.nA\n",
    "V = policy_eval(random_policy, env)\n",
    "V"
   ]
  },
  {
   "cell_type": "code",
   "execution_count": 8,
   "metadata": {},
   "outputs": [
    {
     "data": {
      "image/png": "[encoded data removed]",
      "text/plain": [
       "<Figure size 432x288 with 2 Axes>"
      ]
     },
     "metadata": {
      "needs_background": "light"
     },
     "output_type": "display_data"
    }
   ],
   "source": [
    "def plot_gridworld_value(V):\n",
    "    plt.figure()\n",
    "    c = plt.pcolormesh(V, cmap='gray')\n",
    "    plt.colorbar(c)\n",
    "    plt.gca().invert_yaxis()  # In the array, first row = 0 is on top\n",
    "\n",
    "# Making a plot always helps\n",
    "plot_gridworld_value(V.reshape(env.shape))"
   ]
  },
  {
   "cell_type": "code",
   "execution_count": 9,
   "metadata": {
    "deletable": false,
    "editable": false,
    "nbgrader": {
     "checksum": "5d879d65fc89af254883e1b68234e76e",
     "grade": true,
     "grade_id": "cell-b5c9d69b1731aff5",
     "locked": true,
     "points": 1,
     "schema_version": 1,
     "solution": false
    }
   },
   "outputs": [],
   "source": [
    "# Test: When you hand in the nodebook we will check that the value function is (approximately) what we expected\n",
    "# but we need to make sure it is at least of the correct shape\n",
    "v = policy_eval(random_policy, env)\n",
    "assert v.shape == (env.nS)"
   ]
  },
  {
   "cell_type": "markdown",
   "metadata": {
    "deletable": false,
    "editable": false,
    "nbgrader": {
     "checksum": "863ed58baecbbb4923162f40084e870d",
     "grade": false,
     "grade_id": "cell-b680e98c9ff204b8",
     "locked": true,
     "schema_version": 1,
     "solution": false
    }
   },
   "source": [
    "---\n",
    "## 2. Policy Iteration (2 points)\n",
    "Using the policy evaluation algorithm we can implement policy iteration to find a good policy for this problem. Note that we do not need to use a discount_factor for episodic tasks but make sure your implementation can handle this correctly!"
   ]
  },
  {
   "cell_type": "code",
   "execution_count": 10,
   "metadata": {
    "deletable": false,
    "nbgrader": {
     "checksum": "cfa494b2b437f9007f6b29b1ed5e0f78",
     "grade": false,
     "grade_id": "cell-383c54749617512c",
     "locked": false,
     "schema_version": 1,
     "solution": true
    }
   },
   "outputs": [],
   "source": [
    "def policy_improvement(env, discount_factor=1.0):\n",
    "    \"\"\"\n",
    "    Policy Improvement Algorithm. Iteratively evaluates and improves a policy\n",
    "    until an optimal policy is found.\n",
    "    \n",
    "    Args:\n",
    "        env: The OpenAI envrionment.\n",
    "        policy_eval: Policy Evaluation function that takes 3 arguments:\n",
    "            policy, env, discount_factor.\n",
    "        discount_factor: gamma discount factor.\n",
    "        \n",
    "    Returns:\n",
    "        A tuple (policy, V). \n",
    "        policy is the optimal policy, a matrix of shape [S, A] where each state s\n",
    "        contains a valid probability distribution over actions.\n",
    "        V is the value function for the optimal policy.\n",
    "        \n",
    "    \"\"\"\n",
    "    # Start with a random policy\n",
    "    policy = np.ones([env.nS, env.nA]) / env.nA\n",
    "    \n",
    "    while True:\n",
    "        \n",
    "        V = policy_eval(policy, env, discount_factor)\n",
    "        \n",
    "        policy_stable = True\n",
    "        \n",
    "        for s in range(env.nS):\n",
    "            \n",
    "            aargmax, amax = -1, float('-inf')\n",
    "            \n",
    "            for a in range(env.nA):\n",
    "                val = 0\n",
    "                for p, t, r, d in env.P[s][a]:\n",
    "                    val += r + discount_factor*V[t]\n",
    "                \n",
    "                if val > amax:\n",
    "                    amax = val\n",
    "                    aargmax = a\n",
    "                    \n",
    "            p = np.zeros(env.nA)\n",
    "            p[aargmax] = 1\n",
    "            \n",
    "            policy_stable &= np.allclose(p, policy[s, :].reshape(-1))\n",
    "            policy[s, :] = p\n",
    "            \n",
    "        if policy_stable:\n",
    "            break\n",
    "    \n",
    "    return policy, V"
   ]
  },
  {
   "cell_type": "code",
   "execution_count": 11,
   "metadata": {
    "deletable": false,
    "editable": false,
    "nbgrader": {
     "checksum": "c4ab9c8d01a5902c276a3fbfbcc89e01",
     "grade": true,
     "grade_id": "cell-8c62e92d1f34720b",
     "locked": true,
     "points": 1,
     "schema_version": 1,
     "solution": false
    }
   },
   "outputs": [
    {
     "name": "stdout",
     "output_type": "stream",
     "text": [
      "Policy Probability Distribution:\n",
      "[[1. 0. 0. 0.]\n",
      " [0. 0. 0. 1.]\n",
      " [0. 0. 0. 1.]\n",
      " [0. 0. 1. 0.]\n",
      " [1. 0. 0. 0.]\n",
      " [1. 0. 0. 0.]\n",
      " [1. 0. 0. 0.]\n",
      " [0. 0. 1. 0.]\n",
      " [1. 0. 0. 0.]\n",
      " [1. 0. 0. 0.]\n",
      " [0. 1. 0. 0.]\n",
      " [0. 0. 1. 0.]\n",
      " [1. 0. 0. 0.]\n",
      " [0. 1. 0. 0.]\n",
      " [0. 1. 0. 0.]\n",
      " [1. 0. 0. 0.]]\n",
      "\n",
      "Reshaped Grid Policy (0=up, 1=right, 2=down, 3=left):\n",
      "[[0 3 3 2]\n",
      " [0 0 0 2]\n",
      " [0 0 1 2]\n",
      " [0 1 1 0]]\n",
      "^<<v\n",
      "^^^v\n",
      "^^>v\n",
      "^>>^\n",
      "\n",
      "Value Function:\n",
      "[ 0. -1. -2. -3. -1. -2. -3. -2. -2. -3. -2. -1. -3. -2. -1.  0.]\n",
      "\n",
      "Reshaped Grid Value Function:\n",
      "[[ 0. -1. -2. -3.]\n",
      " [-1. -2. -3. -2.]\n",
      " [-2. -3. -2. -1.]\n",
      " [-3. -2. -1.  0.]]\n",
      "\n"
     ]
    },
    {
     "data": {
      "image/png": "[encoded data removed]",
      "text/plain": [
       "<Figure size 432x288 with 2 Axes>"
      ]
     },
     "metadata": {
      "needs_background": "light"
     },
     "output_type": "display_data"
    }
   ],
   "source": [
    "# Let's see what it does\n",
    "policy, v = policy_improvement(env)\n",
    "print(\"Policy Probability Distribution:\")\n",
    "print(policy)\n",
    "print(\"\")\n",
    "\n",
    "def print_grid_policy(policy, symbols=[\"^\", \">\", \"v\", \"<\"]):\n",
    "    symbols = np.array(symbols)\n",
    "    for row in policy:\n",
    "        print(\"\".join(symbols[row]))\n",
    "\n",
    "print(\"Reshaped Grid Policy (0=up, 1=right, 2=down, 3=left):\")\n",
    "print(np.reshape(np.argmax(policy, axis=1), env.shape))\n",
    "print_grid_policy(np.reshape(np.argmax(policy, axis=1), env.shape))\n",
    "print(\"\")\n",
    "\n",
    "print(\"Value Function:\")\n",
    "print(v)\n",
    "print(\"\")\n",
    "\n",
    "print(\"Reshaped Grid Value Function:\")\n",
    "print(v.reshape(env.shape))\n",
    "print(\"\")\n",
    "\n",
    "plot_gridworld_value(v.reshape(env.shape))"
   ]
  },
  {
   "cell_type": "code",
   "execution_count": 12,
   "metadata": {
    "deletable": false,
    "editable": false,
    "nbgrader": {
     "checksum": "eee712b931eb830cb89792ef30675558",
     "grade": true,
     "grade_id": "cell-695dc14dbc6a8f95",
     "locked": true,
     "points": 1,
     "schema_version": 1,
     "solution": false
    }
   },
   "outputs": [],
   "source": [
    "# This is not an empty cell. It is needed for grading."
   ]
  },
  {
   "cell_type": "markdown",
   "metadata": {
    "deletable": false,
    "editable": false,
    "nbgrader": {
     "checksum": "c926edcbca292c79812c5b27eab63108",
     "grade": false,
     "grade_id": "cell-ceb755afcff43612",
     "locked": true,
     "schema_version": 1,
     "solution": false
    }
   },
   "source": [
    "---\n",
    "## 3. Value Iteration (3 points)\n",
    "Now implement the value iteration algorithm."
   ]
  },
  {
   "cell_type": "code",
   "execution_count": 13,
   "metadata": {
    "deletable": false,
    "nbgrader": {
     "checksum": "87f515e22f7ad0ea461271479dff3f5e",
     "grade": false,
     "grade_id": "cell-574fc5f6932fa4cc",
     "locked": false,
     "schema_version": 1,
     "solution": true
    }
   },
   "outputs": [],
   "source": [
    "def value_iteration(env, theta=0.0001, discount_factor=1.0):\n",
    "    \"\"\"\n",
    "    Value Iteration Algorithm.\n",
    "    \n",
    "    Args:\n",
    "        env: OpenAI env. env.P represents the transition probabilities of the environment.\n",
    "            env.P[s][a] is a list of transition tuples (prob, next_state, reward, done).\n",
    "            env.nS is a number of states in the environment. \n",
    "            env.nA is a number of actions in the environment.\n",
    "        theta: We stop evaluation once our value function change is less than theta for all states.\n",
    "        discount_factor: Gamma discount factor.\n",
    "        \n",
    "    Returns:\n",
    "        A tuple (policy, V) of the optimal policy and the optimal value function.        \n",
    "    \"\"\"\n",
    "    \n",
    "    V = np.zeros(env.nS)\n",
    "    V_actions = np.zeros(env.nS)\n",
    "    policy = np.zeros([env.nS, env.nA])\n",
    "    thetas = np.ones(env.nS) * theta\n",
    "    \n",
    "    while True:\n",
    "        V_old = np.copy(V)\n",
    "        for s in range(env.nS):\n",
    "            a_argmax, a_max = -1, float('-inf')\n",
    "            \n",
    "            for a in range(env.nA):\n",
    "                val = 0\n",
    "                \n",
    "                for p, s_prime, r, _ in env.P[s][a]:\n",
    "                    val += p * (r + discount_factor * V[s_prime])\n",
    "                if val > a_max:\n",
    "                    a_max = val\n",
    "                    a_argmax = a\n",
    "            policy[s] = np.zeros(env.nA)\n",
    "            V[s], policy[s, a_argmax] = a_max, 1\n",
    "            \n",
    "        if not sum(abs(V - V_old) > thetas):\n",
    "            break\n",
    "            \n",
    "    return policy, V"
   ]
  },
  {
   "cell_type": "code",
   "execution_count": 14,
   "metadata": {
    "deletable": false,
    "editable": false,
    "nbgrader": {
     "checksum": "d103427f5b98a8957ad486243f98e64c",
     "grade": true,
     "grade_id": "cell-b82ed3adfeecc757",
     "locked": true,
     "points": 1,
     "schema_version": 1,
     "solution": false
    }
   },
   "outputs": [
    {
     "name": "stdout",
     "output_type": "stream",
     "text": [
      "Policy Probability Distribution:\n",
      "[[1. 0. 0. 0.]\n",
      " [0. 0. 0. 1.]\n",
      " [0. 0. 0. 1.]\n",
      " [0. 0. 1. 0.]\n",
      " [1. 0. 0. 0.]\n",
      " [1. 0. 0. 0.]\n",
      " [1. 0. 0. 0.]\n",
      " [0. 0. 1. 0.]\n",
      " [1. 0. 0. 0.]\n",
      " [1. 0. 0. 0.]\n",
      " [0. 1. 0. 0.]\n",
      " [0. 0. 1. 0.]\n",
      " [1. 0. 0. 0.]\n",
      " [0. 1. 0. 0.]\n",
      " [0. 1. 0. 0.]\n",
      " [1. 0. 0. 0.]]\n",
      "\n",
      "Reshaped Grid Policy (0=up, 1=right, 2=down, 3=left):\n",
      "[[0 3 3 2]\n",
      " [0 0 0 2]\n",
      " [0 0 1 2]\n",
      " [0 1 1 0]]\n",
      "^<<v\n",
      "^^^v\n",
      "^^>v\n",
      "^>>^\n",
      "\n",
      "Value Function:\n",
      "[ 0. -1. -2. -3. -1. -2. -3. -2. -2. -3. -2. -1. -3. -2. -1.  0.]\n",
      "\n",
      "Reshaped Grid Value Function:\n",
      "[[ 0. -1. -2. -3.]\n",
      " [-1. -2. -3. -2.]\n",
      " [-2. -3. -2. -1.]\n",
      " [-3. -2. -1.  0.]]\n",
      "\n"
     ]
    }
   ],
   "source": [
    "# Oh let's test again\n",
    "# Let's see what it does\n",
    "policy, v = value_iteration(env)\n",
    "print(\"Policy Probability Distribution:\")\n",
    "print(policy)\n",
    "print(\"\")\n",
    "\n",
    "print(\"Reshaped Grid Policy (0=up, 1=right, 2=down, 3=left):\")\n",
    "print(np.reshape(np.argmax(policy, axis=1), env.shape))\n",
    "print_grid_policy(np.reshape(np.argmax(policy, axis=1), env.shape))\n",
    "print(\"\")\n",
    "\n",
    "print(\"Value Function:\")\n",
    "print(v)\n",
    "print(\"\")\n",
    "\n",
    "print(\"Reshaped Grid Value Function:\")\n",
    "print(v.reshape(env.shape))\n",
    "print(\"\")\n"
   ]
  },
  {
   "cell_type": "markdown",
   "metadata": {
    "deletable": false,
    "editable": false,
    "nbgrader": {
     "checksum": "3add7d8b6101d0e3b6250b6bb064566c",
     "grade": false,
     "grade_id": "cell-ded21ac846e244a3",
     "locked": true,
     "schema_version": 1,
     "solution": false
    }
   },
   "source": [
    "What is the difference between value iteration and policy iteration? Which algorithm is most efficient (e.g. needs to perform the least *backup* operations)? Please answer *concisely* in the cell below."
   ]
  },
  {
   "cell_type": "markdown",
   "metadata": {
    "deletable": false,
    "nbgrader": {
     "checksum": "078f713af4c6bf3af8fb31b8da772758",
     "grade": true,
     "grade_id": "cell-940a8d8e21f18f69",
     "locked": false,
     "points": 2,
     "schema_version": 1,
     "solution": true
    }
   },
   "source": [
    "Policy iteration algorithm needs to evaluate the policy at every iteration. By noticing that the evaluation steps do not always result in changes in the greedy policy, Value iteration algorithm rewrites the update rule combining both policy improvement and truncated policy evaluation steps.\n",
    "In particular, instead of computing the expected value for every state according to the current policy, and then updating the policy using the new value estimates (policy iteration), value iteration directly computes the value estimates as the best return obtained among all the possible action choices.\n",
    "\n",
    "As a result, value iteration is more efficient in terms of memory usage and number of updates executed. However, in this case the policy is only extracted at the end of the value function convergence. In case of the polici iteration, on the other hand, we check at every iteration if the policy is converged, and as a result, often times it is faster than value iteration."
   ]
  },
  {
   "cell_type": "markdown",
   "metadata": {
    "deletable": false,
    "editable": false,
    "nbgrader": {
     "checksum": "98ec4e85c09c116f6fe1658fa0451e33",
     "grade": false,
     "grade_id": "cell-7ab207a9f93cf4d3",
     "locked": true,
     "schema_version": 1,
     "solution": false
    }
   },
   "source": [
    "## 4. Monte Carlo Prediction (7 points)\n",
    "What is the difference between Dynamic Programming and Monte Carlo? When would you use the one or the other algorithm?"
   ]
  },
  {
   "cell_type": "markdown",
   "metadata": {
    "deletable": false,
    "nbgrader": {
     "checksum": "dba98a584a2d9c97735f96547ac7442a",
     "grade": true,
     "grade_id": "cell-74a904ed87b8e2cc",
     "locked": false,
     "points": 2,
     "schema_version": 1,
     "solution": true
    }
   },
   "source": [
    "Monte-Carlo methods do not need complete knowledge of the environment but learn from a sample of interactions with the environment (experience). Indeed, while Dynamic Programming approaches try to model a complete distribution over all possible transitions, Monte-Carlo methods only aim to sample from this distribution.\n",
    "For this reason, it is reasonable to use Dynamic-Programming approaches when this knowedge is available and prefer a Monte-Carlo approach when it is not. \n",
    "Moreover, explicitly storing the full distribution is often not computationally feasible. In these cases, using Monte-Carlo apporaches is a valid alternative."
   ]
  },
  {
   "cell_type": "markdown",
   "metadata": {
    "deletable": false,
    "editable": false,
    "nbgrader": {
     "checksum": "0d826feda7dc9cab51ad9db8ccbdfadf",
     "grade": false,
     "grade_id": "cell-5f0c1d608436b67b",
     "locked": true,
     "schema_version": 1,
     "solution": false
    }
   },
   "source": [
    "For the Monte Carlo Prediction we will look at the Blackjack game (Example 5.1 from the book), for which the `BlackjackEnv` is implemented in `blackjack.py`. Note that compared to the gridworld, the state is no longer a single integer, which is why we use a dictionary to represent the value function instead of a numpy array. By using `defaultdict`, each state gets a default value of 0."
   ]
  },
  {
   "cell_type": "code",
   "execution_count": 15,
   "metadata": {
    "deletable": false,
    "editable": false,
    "nbgrader": {
     "checksum": "fb7a884505c5973aff2fe9998cc104e2",
     "grade": false,
     "grade_id": "cell-a342b69fcfdea5b2",
     "locked": true,
     "schema_version": 1,
     "solution": false
    }
   },
   "outputs": [],
   "source": [
    "from blackjack import BlackjackEnv\n",
    "env = BlackjackEnv()"
   ]
  },
  {
   "cell_type": "markdown",
   "metadata": {
    "deletable": false,
    "editable": false,
    "nbgrader": {
     "checksum": "26ae90f402b5de7d07f23e776a525c4b",
     "grade": false,
     "grade_id": "cell-7366692dee80c32c",
     "locked": true,
     "schema_version": 1,
     "solution": false
    }
   },
   "source": [
    "For the Monte Carlo algorithm, we need to *interact* with the environment. This means that we start an episode by using `env.reset` and send the environment actions via `env.step` to observe the reward and next observation (state)."
   ]
  },
  {
   "cell_type": "code",
   "execution_count": 16,
   "metadata": {
    "deletable": false,
    "editable": false,
    "nbgrader": {
     "checksum": "ef5fc8c121d400f2192646c9201e7769",
     "grade": false,
     "grade_id": "cell-85356add2643980e",
     "locked": true,
     "schema_version": 1,
     "solution": false
    }
   },
   "outputs": [],
   "source": [
    "# So let's have a look at what we can do in general with an environment...\n",
    "import gym\n",
    "?gym.Env"
   ]
  },
  {
   "cell_type": "code",
   "execution_count": 17,
   "metadata": {
    "deletable": false,
    "editable": false,
    "nbgrader": {
     "checksum": "0433c9161cddc2d9171c8e87b1e9b444",
     "grade": false,
     "grade_id": "cell-251b7b17c5d08a24",
     "locked": true,
     "schema_version": 1,
     "solution": false
    }
   },
   "outputs": [],
   "source": [
    "# We can also look at the documentation/implementation of a method\n",
    "?env.step"
   ]
  },
  {
   "cell_type": "code",
   "execution_count": 18,
   "metadata": {
    "deletable": false,
    "editable": false,
    "nbgrader": {
     "checksum": "42aceb4ea182a1aacfb40c5f201d4b01",
     "grade": false,
     "grade_id": "cell-6decb2ab83c5bcec",
     "locked": true,
     "schema_version": 1,
     "solution": false
    }
   },
   "outputs": [],
   "source": [
    "??BlackjackEnv"
   ]
  },
  {
   "cell_type": "markdown",
   "metadata": {
    "deletable": false,
    "editable": false,
    "nbgrader": {
     "checksum": "8fa896a9ea64567134c861511cfa6011",
     "grade": false,
     "grade_id": "cell-ae161126d3cb1b7b",
     "locked": true,
     "schema_version": 1,
     "solution": false
    }
   },
   "source": [
    "A very simple policy for Blackjack is to *stick* if we have 20 or 21 points and *hit* otherwise. We want to know how good this policy is. This policy is *deterministic* and therefore a function that maps an observation to a single action. Technically, we can implement this as a dictionary or as a function, where we use the latter. To get started, let's implement this simple policy for BlackJack."
   ]
  },
  {
   "cell_type": "code",
   "execution_count": 19,
   "metadata": {
    "deletable": false,
    "nbgrader": {
     "checksum": "0a51bbe0d24d711482d0d0770e955a16",
     "grade": false,
     "grade_id": "cell-9fdcb503df9cdb08",
     "locked": false,
     "schema_version": 1,
     "solution": true
    }
   },
   "outputs": [],
   "source": [
    "def simple_policy(observation):\n",
    "    \"\"\"\n",
    "    A policy that sticks if the player score is >= 20 and hits otherwise.\n",
    "    \"\"\"\n",
    "    return int(observation[0] < 20)"
   ]
  },
  {
   "cell_type": "code",
   "execution_count": 20,
   "metadata": {
    "deletable": false,
    "editable": false,
    "nbgrader": {
     "checksum": "bf04382f012b102f2c5c360bb8da3241",
     "grade": true,
     "grade_id": "cell-99f02e2d9b338a5b",
     "locked": true,
     "points": 1,
     "schema_version": 1,
     "solution": false
    }
   },
   "outputs": [
    {
     "name": "stdout",
     "output_type": "stream",
     "text": [
      "(18, 5, False)\n",
      "((19, 5, False), 0, False, {})\n"
     ]
    }
   ],
   "source": [
    "s = env.reset()\n",
    "print(s)\n",
    "a = simple_policy(s)\n",
    "print(env.step(a))"
   ]
  },
  {
   "cell_type": "markdown",
   "metadata": {
    "deletable": false,
    "editable": false,
    "nbgrader": {
     "checksum": "b5e33f6499dd4040071dc62a3e8fccb2",
     "grade": false,
     "grade_id": "cell-0184f4c719afb98c",
     "locked": true,
     "schema_version": 1,
     "solution": false
    }
   },
   "source": [
    "Now implement either the MC prediction algorithm (either first visit or every visit). Hint: you can use `for i in tqdm(range(num_episodes))` to show a progress bar."
   ]
  },
  {
   "cell_type": "code",
   "execution_count": 21,
   "metadata": {
    "deletable": false,
    "nbgrader": {
     "checksum": "a90a42914d0f7ade801bee9a8bd04e19",
     "grade": true,
     "grade_id": "cell-b822e9d13cf1f65e",
     "locked": false,
     "points": 2,
     "schema_version": 1,
     "solution": true
    }
   },
   "outputs": [],
   "source": [
    "from collections import defaultdict\n",
    "\n",
    "def mc_prediction(policy, env, num_episodes, discount_factor=1.0):\n",
    "    \"\"\"\n",
    "    Monte Carlo prediction algorithm. Calculates the value function\n",
    "    for a given policy using sampling.\n",
    "    \n",
    "    Args:\n",
    "        policy: A function that maps an observation to action probabilities.\n",
    "        env: OpenAI gym environment.\n",
    "        num_episodes: Number of episodes to sample.\n",
    "        discount_factor: Gamma discount factor.\n",
    "    \n",
    "    Returns:\n",
    "        A dictionary that maps from state -> value.\n",
    "        The state is a tuple and the value is a float.\n",
    "    \"\"\"\n",
    "\n",
    "    # Keeps track of sum and count of returns for each state\n",
    "    # to calculate an average. We could use an array to save all\n",
    "    # returns (like in the book) but that's memory inefficient.\n",
    "    returns_sum = defaultdict(float)\n",
    "    returns_count = defaultdict(float)\n",
    "    \n",
    "    # The final value function\n",
    "    V = defaultdict(float)\n",
    "    \n",
    "    for e in tqdm(range(num_episodes)):\n",
    "        observation = env.reset()\n",
    "        done = False\n",
    "        \n",
    "        game = []\n",
    "        \n",
    "        while not done:\n",
    "            a = policy(observation)\n",
    "            \n",
    "            observation, reward, done, info = env.step(a)\n",
    "            \n",
    "            game.append((observation, reward))\n",
    "        \n",
    "        G = 0\n",
    "        rewards_history = []\n",
    "        for (observation, reward) in reversed(game):\n",
    "            G = reward + discount_factor * G\n",
    "            rewards_history.append((observation, G))\n",
    "        \n",
    "        already_set = set()\n",
    "        \n",
    "        for (observation, total_reward) in reversed(rewards_history):\n",
    "            if observation not in already_set:\n",
    "                already_set.add(observation)\n",
    "                returns_sum[observation] += total_reward\n",
    "                returns_count[observation] += 1\n",
    "    \n",
    "    for observation, sums in returns_sum.items():\n",
    "        V[observation] = sums / returns_count[observation]\n",
    "    \n",
    "    return V"
   ]
  },
  {
   "cell_type": "code",
   "execution_count": 22,
   "metadata": {},
   "outputs": [
    {
     "name": "stderr",
     "output_type": "stream",
     "text": [
      "100%|██████████| 1000/1000 [00:00<00:00, 11407.55it/s]"
     ]
    },
    {
     "name": "stdout",
     "output_type": "stream",
     "text": [
      "defaultdict(<class 'float'>, {(15, 10, False): -0.625, (18, 10, False): -0.7272727272727273, (28, 10, False): -1.0, (14, 10, False): -0.4, (16, 10, False): -0.42857142857142855, (21, 10, False): 0.8387096774193549, (13, 8, False): -1.0, (15, 8, False): -0.8, (25, 8, False): -1.0, (17, 9, False): -0.6, (27, 9, False): -1.0, (15, 2, True): -1.0, (13, 2, False): -1.0, (17, 2, False): -1.0, (23, 2, False): -1.0, (27, 5, False): -1.0, (27, 1, False): -1.0, (25, 1, False): -1.0, (16, 3, False): -1.0, (26, 3, False): -1.0, (22, 3, False): -1.0, (18, 8, False): -1.0, (19, 8, False): -1.0, (29, 8, False): -1.0, (23, 1, False): -1.0, (26, 8, False): -1.0, (17, 10, False): -0.8, (22, 10, False): -1.0, (21, 1, False): 0.8, (27, 3, False): -1.0, (19, 5, False): -1.0, (29, 5, False): -1.0, (16, 9, False): -1.0, (24, 9, False): -1.0, (19, 7, False): -1.0, (24, 7, False): -1.0, (20, 5, False): 0.6666666666666666, (13, 10, False): -0.6666666666666666, (24, 6, False): -1.0, (19, 10, False): -0.9310344827586207, (16, 7, False): -0.14285714285714285, (26, 7, False): -1.0, (22, 5, False): -1.0, (20, 10, False): 0.375, (23, 6, False): -1.0, (24, 4, False): -1.0, (15, 3, True): 1.0, (21, 3, True): 0.8571428571428571, (25, 3, False): -1.0, (29, 10, False): -1.0, (24, 10, False): -1.0, (27, 10, False): -1.0, (24, 1, False): -1.0, (25, 4, False): -1.0, (19, 10, True): 0.0, (26, 4, False): -1.0, (20, 3, False): 0.5416666666666666, (21, 8, False): 0.9230769230769231, (23, 10, False): -1.0, (24, 5, False): -1.0, (21, 6, False): 1.0, (27, 2, False): -1.0, (26, 5, False): -1.0, (27, 6, False): -1.0, (21, 2, False): 0.8571428571428571, (20, 9, False): 0.7222222222222222, (22, 7, False): -1.0, (13, 1, False): -1.0, (17, 1, False): -0.75, (22, 1, False): -1.0, (27, 4, False): -1.0, (29, 4, False): -1.0, (21, 9, True): 1.0, (20, 1, False): 0.6, (22, 4, False): -1.0, (22, 6, False): -1.0, (12, 10, False): -1.0, (25, 6, False): -1.0, (21, 6, True): 1.0, (21, 4, False): 0.875, (15, 6, False): -1.0, (24, 8, False): -1.0, (25, 10, False): -1.0, (21, 7, False): 0.9090909090909091, (20, 6, False): 1.0, (27, 7, False): -1.0, (20, 2, False): 0.6666666666666666, (25, 2, False): -1.0, (16, 4, False): -0.5, (26, 2, False): -1.0, (18, 9, False): 0.0, (21, 10, True): 0.6666666666666666, (20, 8, True): 1.0, (26, 10, False): -1.0, (24, 3, False): -1.0, (18, 7, False): -0.9090909090909091, (17, 3, True): -1.0, (17, 3, False): -1.0, (16, 1, False): -0.7777777777777778, (14, 4, False): -1.0, (23, 4, False): -1.0, (19, 2, False): -1.0, (22, 2, False): -1.0, (28, 7, False): -1.0, (23, 7, False): -1.0, (23, 5, False): -1.0, (21, 7, True): 1.0, (26, 9, False): -1.0, (19, 4, False): -0.3333333333333333, (17, 6, False): -1.0, (20, 8, False): 0.4, (18, 2, False): -1.0, (28, 2, False): -1.0, (21, 9, False): 1.0, (16, 8, False): -1.0, (16, 2, False): -1.0, (20, 1, True): 0.0, (19, 3, False): -0.7777777777777778, (29, 3, False): -1.0, (19, 3, True): -0.3333333333333333, (14, 3, False): -0.5, (24, 2, False): -1.0, (20, 4, False): 0.5555555555555556, (20, 10, True): 0.4, (23, 3, False): -1.0, (15, 7, False): 0.3333333333333333, (20, 7, False): 1.0, (21, 4, True): 1.0, (26, 6, False): -1.0, (22, 9, False): -1.0, (17, 8, False): -0.42857142857142855, (27, 8, False): -1.0, (19, 6, True): -1.0, (14, 6, False): -0.3333333333333333, (14, 7, False): 1.0, (26, 1, False): -1.0, (16, 10, True): -1.0, (21, 5, True): 1.0, (28, 4, False): -1.0, (18, 3, False): -1.0, (28, 3, False): -1.0, (14, 8, False): -1.0, (23, 8, False): -1.0, (19, 9, False): 0.5, (28, 6, False): -1.0, (20, 3, True): 1.0, (15, 6, True): -1.0, (22, 8, False): -1.0, (25, 9, False): -1.0, (19, 1, False): -0.6666666666666666, (29, 1, False): -1.0, (28, 8, False): -1.0, (21, 3, False): 1.0, (20, 7, True): 0.0, (16, 6, False): -1.0, (20, 4, True): 1.0, (29, 9, False): -1.0, (12, 8, False): -1.0, (23, 9, False): -1.0, (21, 5, False): 0.75, (15, 1, False): -1.0, (20, 5, True): 0.0, (12, 3, False): 1.0, (18, 5, False): -1.0, (15, 4, False): -1.0, (15, 7, True): 0.0, (18, 7, True): 0.0, (17, 4, False): -1.0, (19, 6, False): -1.0, (17, 5, False): -1.0, (28, 9, False): -1.0, (12, 2, False): 0.0, (17, 7, False): -1.0, (13, 3, False): -0.75, (29, 6, False): -1.0, (18, 6, False): -1.0, (28, 5, False): -1.0, (15, 2, False): -1.0, (20, 6, True): 0.5, (14, 1, False): -1.0, (19, 5, True): -1.0, (16, 5, False): -1.0, (12, 1, False): -1.0, (18, 1, False): -1.0, (28, 1, False): -1.0, (12, 5, False): -1.0, (19, 1, True): -1.0, (21, 2, True): 1.0, (16, 5, True): 0.0, (17, 5, True): 0.0, (13, 5, False): -0.6666666666666666, (13, 9, False): -0.6, (18, 10, True): -1.0, (15, 9, False): -1.0, (20, 2, True): 1.0, (25, 7, False): -1.0, (25, 5, False): -1.0, (13, 4, False): -1.0, (18, 4, False): -0.25, (18, 5, True): -1.0, (18, 4, True): -1.0, (12, 4, False): -1.0, (29, 2, False): -1.0, (12, 6, False): -1.0, (17, 10, True): -1.0, (14, 9, False): -1.0, (15, 5, False): -1.0, (17, 6, True): -1.0, (14, 5, False): -1.0, (12, 9, False): 1.0, (21, 8, True): 1.0, (15, 9, True): -1.0, (15, 3, False): -1.0})\n"
     ]
    },
    {
     "name": "stderr",
     "output_type": "stream",
     "text": [
      "\n"
     ]
    }
   ],
   "source": [
    "V = mc_prediction(simple_policy, env, num_episodes=1000)\n",
    "print(V)"
   ]
  },
  {
   "cell_type": "markdown",
   "metadata": {
    "deletable": false,
    "editable": false,
    "nbgrader": {
     "checksum": "65fb9d8060a4c843e72474169396eb3e",
     "grade": false,
     "grade_id": "cell-9d32f907f180c088",
     "locked": true,
     "schema_version": 1,
     "solution": false
    }
   },
   "source": [
    "Now make *4 plots* like Figure 5.1 in the book. You can either make 3D plots or heatmaps. Make sure that your results look similar to the results in the book. Give your plots appropriate titles, axis labels, etc."
   ]
  },
  {
   "cell_type": "code",
   "execution_count": 23,
   "metadata": {
    "deletable": false,
    "editable": false,
    "nbgrader": {
     "checksum": "8a4eee824f088a6c13ee8c9296af4561",
     "grade": false,
     "grade_id": "cell-cbaf4d6a0e4c00fa",
     "locked": true,
     "schema_version": 1,
     "solution": false
    }
   },
   "outputs": [
    {
     "name": "stderr",
     "output_type": "stream",
     "text": [
      "100%|██████████| 10000/10000 [00:00<00:00, 17956.92it/s]\n",
      "100%|██████████| 500000/500000 [00:21<00:00, 22781.20it/s]"
     ]
    },
    {
     "name": "stdout",
     "output_type": "stream",
     "text": [
      "CPU times: user 22.5 s, sys: 14.3 ms, total: 22.5 s\n",
      "Wall time: 22.5 s\n"
     ]
    },
    {
     "name": "stderr",
     "output_type": "stream",
     "text": [
      "\n"
     ]
    }
   ],
   "source": [
    "%%time\n",
    "# Let's run your code one time\n",
    "V_10k = mc_prediction(simple_policy, env, num_episodes=10000)\n",
    "V_500k = mc_prediction(simple_policy, env, num_episodes=500000)"
   ]
  },
  {
   "cell_type": "code",
   "execution_count": 24,
   "metadata": {
    "deletable": false,
    "nbgrader": {
     "checksum": "84102d69cdad07cf0100d846346b65e6",
     "grade": true,
     "grade_id": "cell-ba046443478aa517",
     "locked": false,
     "points": 2,
     "schema_version": 1,
     "solution": true
    }
   },
   "outputs": [
    {
     "data": {
      "image/png": "[encoded data removed]",
      "text/plain": [
       "<Figure size 864x576 with 8 Axes>"
      ]
     },
     "metadata": {
      "needs_background": "light"
     },
     "output_type": "display_data"
    }
   ],
   "source": [
    "def build_heatmap(V, usable_ace):\n",
    "    h = np.zeros((10, 10))\n",
    "    for observation, v in V.items():\n",
    "        ps, d, ua = observation\n",
    "        if ua == usable_ace and 12 <= ps <= 21:\n",
    "            h[d-1, ps- 12] = v\n",
    "    return h\n",
    "            \n",
    "\n",
    "cols = ['10000 episodes', '500000 episodes']\n",
    "rows = ['Usable Ace', 'No-Usable Ace']\n",
    "\n",
    "fig, axes = plt.subplots(nrows=len(rows), ncols=len(cols), figsize=(12, 8))\n",
    "plt.setp(axes.flat, xlabel='Player sum (-12)', ylabel='Dealer Showing')\n",
    "\n",
    "pad = 5 # in points\n",
    "\n",
    "for ax, col in zip(axes[0], cols):\n",
    "    ax.annotate(col, xy=(0.5, 1), xytext=(0, pad),\n",
    "                xycoords='axes fraction', textcoords='offset points',\n",
    "                size='large', ha='center', va='baseline')\n",
    "\n",
    "for ax, row in zip(axes[:,0], rows):\n",
    "    ax.annotate(row, xy=(0, 0.5), xytext=(-ax.yaxis.labelpad - pad, 0),\n",
    "                xycoords=ax.yaxis.label, textcoords='offset points',\n",
    "                size='large', ha='right', va='center')\n",
    "\n",
    "p = axes[0, 0].imshow(build_heatmap(V_10k, 1), cmap='hot', vmin=-1, vmax=1)\n",
    "fig.colorbar(p, ax=axes[0,0])\n",
    "p = axes[0, 1].imshow(build_heatmap(V_500k, 1), cmap='hot', vmin=-1, vmax=1)\n",
    "fig.colorbar(p, ax=axes[0,1])\n",
    "p = axes[1, 0].imshow(build_heatmap(V_10k, 0), cmap='hot', vmin=-1, vmax=1)\n",
    "fig.colorbar(p, ax=axes[1,0])\n",
    "p = axes[1, 1].imshow(build_heatmap(V_500k, 0), cmap='hot', vmin=-1, vmax=1)\n",
    "fig.colorbar(p, ax=axes[1,1])\n",
    "\n",
    "fig.tight_layout()\n",
    "# tight_layout doesn't take these labels into account. We'll need \n",
    "# to make some room. These numbers are are manually tweaked. \n",
    "# You could automatically calculate them, but it's a pain.\n",
    "fig.subplots_adjust(left=0.15, top=0.95)\n",
    "\n",
    "plt.show()"
   ]
  },
  {
   "cell_type": "markdown",
   "metadata": {
    "deletable": false,
    "editable": false,
    "nbgrader": {
     "checksum": "a65fdcbe1c3c2a4f23b847a8dae03570",
     "grade": false,
     "grade_id": "cell-a5cc039e3d648855",
     "locked": true,
     "schema_version": 1,
     "solution": false
    }
   },
   "source": [
    "## 5. Monte Carlo control with $\\epsilon$-greedy policy (5 points)\n",
    "Now we have a method to evaluate state-values given a policy. Take a moment to think whether we can use the value function to find a better policy? Assuming we do not know the dynamics of the environment, why is this not possible?\n",
    "\n",
    "We want a policy that selects _actions_ with maximum value, e.g. is _greedy_ with respect to the _action-value_ (or Q-value) function $Q(s,a)$. We need to keep exploring, so with probability $\\epsilon$ we will take a random action. First, lets implement a function `make_epsilon_greedy_policy` that takes the Q-value function and returns an $\\epsilon$-greedy policy."
   ]
  },
  {
   "cell_type": "code",
   "execution_count": 25,
   "metadata": {
    "deletable": false,
    "nbgrader": {
     "checksum": "ecd6cfa62fdf8463d6a97a865de84140",
     "grade": true,
     "grade_id": "cell-78eff3f4ca0f0e09",
     "locked": false,
     "points": 1,
     "schema_version": 1,
     "solution": true
    }
   },
   "outputs": [],
   "source": [
    "def make_epsilon_greedy_policy(Q, epsilon, nA):\n",
    "    \"\"\"\n",
    "    Creates an epsilon-greedy policy based on a given Q-function and epsilon.\n",
    "    \n",
    "    Args:\n",
    "        Q: A dictionary that maps from state -> action-values.\n",
    "            Each value is a numpy array of length nA (see below)\n",
    "        epsilon: The probability to select a random action . float between 0 and 1.\n",
    "        nA: Number of actions in the environment.\n",
    "    \n",
    "    Returns:\n",
    "        A function that takes the observation as an argument and returns\n",
    "        the probabilities for each action in the form of a numpy array of length nA.\n",
    "    \n",
    "    \"\"\"\n",
    "    def policy_fn(observation):\n",
    "        q = Q[observation]\n",
    "        \n",
    "        greedy = np.zeros(nA)\n",
    "        greedy[np.argmax(q)] = 1\n",
    "        \n",
    "        random = np.ones(nA)/nA\n",
    "        \n",
    "        \n",
    "        return (1-epsilon)*greedy + epsilon*random\n",
    "        \n",
    "    return policy_fn"
   ]
  },
  {
   "cell_type": "code",
   "execution_count": 26,
   "metadata": {
    "deletable": false,
    "nbgrader": {
     "checksum": "12a7f4ab3c649a1d768ce80d4573cf28",
     "grade": true,
     "grade_id": "cell-2fc0baa87f31ab98",
     "locked": false,
     "points": 2,
     "schema_version": 1,
     "solution": true
    }
   },
   "outputs": [
    {
     "name": "stderr",
     "output_type": "stream",
     "text": [
      "  0%|          | 0/10000 [00:00<?, ?it/s]/home/gabriele/miniconda3/envs/rl2018/lib/python3.6/site-packages/ipykernel_launcher.py:65: RuntimeWarning: invalid value encountered in true_divide\n",
      "100%|██████████| 10000/10000 [00:02<00:00, 3480.04it/s]\n"
     ]
    }
   ],
   "source": [
    "def mc_control_epsilon_greedy(env, num_episodes, discount_factor=1.0, epsilon=0.1):\n",
    "    \"\"\"\n",
    "    Monte Carlo Control using Epsilon-Greedy policies.\n",
    "    Finds an optimal epsilon-greedy policy.\n",
    "    \n",
    "    Args:\n",
    "        env: OpenAI gym environment.\n",
    "        num_episodes: Number of episodes to sample.\n",
    "        discount_factor: Gamma discount factor.\n",
    "        epsilon: Chance the sample a random action. Float betwen 0 and 1.\n",
    "    \n",
    "    Returns:\n",
    "        A tuple (Q, policy).\n",
    "        Q is a dictionary mapping state -> action values.\n",
    "        policy is a function that takes an observation as an argument and returns\n",
    "        action probabilities\n",
    "    \"\"\"\n",
    "    \n",
    "    # Again, keep track of counts for efficiency\n",
    "    # returns_sum, returns_count and Q are \n",
    "    # nested dictionaries that map state -> (action -> action-value).\n",
    "    # We could also use tuples (s, a) as keys in a 1d dictionary, but this\n",
    "    # way Q is in the format that works with make_epsilon_greedy_policy\n",
    "    \n",
    "    returns_sum = defaultdict(lambda: np.zeros(env.action_space.n))\n",
    "    returns_count = defaultdict(lambda: np.zeros(env.action_space.n, dtype=int))\n",
    "    \n",
    "    # The final action-value function.\n",
    "    Q = defaultdict(lambda: np.zeros(env.action_space.n))\n",
    "    \n",
    "    # The policy we're following\n",
    "    policy = make_epsilon_greedy_policy(Q, epsilon, env.action_space.n)\n",
    "    \n",
    "    for e in tqdm(range(num_episodes)):\n",
    "        observation = env.reset()\n",
    "        done = False\n",
    "        \n",
    "        game = []\n",
    "        \n",
    "        while not done:\n",
    "            a = np.argmax(np.random.multinomial(1, policy(observation)))\n",
    "            \n",
    "            new_observation, reward, done, info = env.step(a)\n",
    "            \n",
    "            game.append((observation, a, reward))\n",
    "            \n",
    "            observation = new_observation\n",
    "        \n",
    "        G = 0\n",
    "        rewards_history = []\n",
    "        for (observation, a, reward) in reversed(game):\n",
    "            G = reward + discount_factor * G\n",
    "            rewards_history.append((observation, a, G))\n",
    "        \n",
    "        already_set = set()\n",
    "        \n",
    "        for (observation, a, total_reward) in reversed(rewards_history):\n",
    "            if (observation, a) not in already_set:\n",
    "                already_set.add((observation, a))\n",
    "                returns_sum[observation][a] += total_reward\n",
    "                returns_count[observation][a] += 1\n",
    "        \n",
    "    \n",
    "        for observation, sums in returns_sum.items():\n",
    "            Q[observation] = sums / returns_count[observation]\n",
    "        \n",
    "        policy = make_epsilon_greedy_policy(Q, epsilon, env.action_space.n)\n",
    "    \n",
    "    return Q, policy\n",
    "\n",
    "# Test it quickly\n",
    "Q, policy = mc_control_epsilon_greedy(env, num_episodes=10000, epsilon=0.1)"
   ]
  },
  {
   "cell_type": "code",
   "execution_count": 27,
   "metadata": {
    "deletable": false,
    "editable": false,
    "nbgrader": {
     "checksum": "9ea50e12589ce430405fa2e92ee0c108",
     "grade": false,
     "grade_id": "cell-e6170d8979ca2a9c",
     "locked": true,
     "schema_version": 1,
     "solution": false
    }
   },
   "outputs": [
    {
     "name": "stderr",
     "output_type": "stream",
     "text": [
      "  0%|          | 0/500000 [00:00<?, ?it/s]/home/gabriele/miniconda3/envs/rl2018/lib/python3.6/site-packages/ipykernel_launcher.py:65: RuntimeWarning: invalid value encountered in true_divide\n",
      "100%|██████████| 500000/500000 [02:21<00:00, 3538.09it/s]"
     ]
    },
    {
     "name": "stdout",
     "output_type": "stream",
     "text": [
      "CPU times: user 2min 21s, sys: 71.8 ms, total: 2min 21s\n",
      "Wall time: 2min 21s\n"
     ]
    },
    {
     "name": "stderr",
     "output_type": "stream",
     "text": [
      "\n"
     ]
    }
   ],
   "source": [
    "%%time\n",
    "Q, policy = mc_control_epsilon_greedy(env, num_episodes=500000, epsilon=0.1)"
   ]
  },
  {
   "cell_type": "markdown",
   "metadata": {
    "deletable": false,
    "editable": false,
    "nbgrader": {
     "checksum": "94d3f0aecbe1b5ebfed94e7b1379f617",
     "grade": false,
     "grade_id": "cell-449e36eb98369942",
     "locked": true,
     "schema_version": 1,
     "solution": false
    }
   },
   "source": [
    "How can you obtain the (V-)value function from the Q-value function? Plot the (V-)value function that is the result of 500K iterations. Additionally, visualize the greedy policy similar to Figure 5.2 in the book. Use a white square for hitting, black for sticking."
   ]
  },
  {
   "cell_type": "code",
   "execution_count": 28,
   "metadata": {
    "deletable": false,
    "nbgrader": {
     "checksum": "ef932ff88d976ffefc0338822d7d2af9",
     "grade": true,
     "grade_id": "cell-7d797248a3b132f5",
     "locked": false,
     "points": 2,
     "schema_version": 1,
     "solution": true
    }
   },
   "outputs": [
    {
     "data": {
      "image/png": "[encoded data removed]",
      "text/plain": [
       "<Figure size 864x576 with 6 Axes>"
      ]
     },
     "metadata": {
      "needs_background": "light"
     },
     "output_type": "display_data"
    }
   ],
   "source": [
    "V = defaultdict(float)\n",
    "for s, v in Q.items():\n",
    "    V[s] = v.max()\n",
    "\n",
    "P = defaultdict(int)\n",
    "for s, v in Q.items():\n",
    "    P[s] = v.argmax()\n",
    "            \n",
    "\n",
    "cols = ['Policy', 'Value-Function']\n",
    "rows = ['Usable Ace', 'No-Usable Ace']\n",
    "\n",
    "fig, axes = plt.subplots(nrows=len(rows), ncols=len(cols), figsize=(12, 8))\n",
    "plt.setp(axes.flat, xlabel='Player sum (-12)', ylabel='Dealer Showing')\n",
    "\n",
    "pad = 5 # in points\n",
    "\n",
    "for ax, col in zip(axes[0], cols):\n",
    "    ax.annotate(col, xy=(0.5, 1), xytext=(0, pad),\n",
    "                xycoords='axes fraction', textcoords='offset points',\n",
    "                size='large', ha='center', va='baseline')\n",
    "\n",
    "for ax, row in zip(axes[:,0], rows):\n",
    "    ax.annotate(row, xy=(0, 0.5), xytext=(-ax.yaxis.labelpad - pad, 0),\n",
    "                xycoords=ax.yaxis.label, textcoords='offset points',\n",
    "                size='large', ha='right', va='center')\n",
    "\n",
    "axes[0, 0].imshow(build_heatmap(P, 1), cmap='gray', vmin=0, vmax=1)\n",
    "\n",
    "p = axes[0, 1].imshow(build_heatmap(V, 1), cmap='hot', vmin=-1, vmax=1)\n",
    "fig.colorbar(p, ax=axes[0,1])\n",
    "\n",
    "axes[1, 0].imshow(build_heatmap(P, 0), cmap='gray', vmin=0, vmax=1)\n",
    "\n",
    "p = axes[1, 1].imshow(build_heatmap(V, 0), cmap='hot', vmin=-1, vmax=1)\n",
    "fig.colorbar(p, ax=axes[1,1])\n",
    "\n",
    "fig.tight_layout()\n",
    "# tight_layout doesn't take these labels into account. We'll need \n",
    "# to make some room. These numbers are are manually tweaked. \n",
    "# You could automatically calculate them, but it's a pain.\n",
    "fig.subplots_adjust(left=0.15, top=0.95)\n",
    "\n",
    "plt.show()"
   ]
  },
  {
   "cell_type": "markdown",
   "metadata": {
    "deletable": false,
    "editable": false,
    "nbgrader": {
     "checksum": "1fd18efb629e87209d1db4236553de73",
     "grade": false,
     "grade_id": "cell-eecfd6fb626abfae",
     "locked": true,
     "schema_version": 1,
     "solution": false
    }
   },
   "source": [
    "## 6. Temporal Difference (TD) learning (8 points)\n",
    "Mention one advantage and one disadvantage of Monte Carlo methods. Mention an example where you would prefer to use TD learning."
   ]
  },
  {
   "cell_type": "markdown",
   "metadata": {
    "deletable": false,
    "nbgrader": {
     "checksum": "4b81bcd51404511164971c110ffa838f",
     "grade": true,
     "grade_id": "cell-cac4639044ba9074",
     "locked": false,
     "points": 1,
     "schema_version": 1,
     "solution": true
    }
   },
   "source": [
    "One advantage is that it allows for prediction/control without having an explicit model of the environment (e.g. transition probabilities) but, instead, interacts directly with the environment to learn from real episodes. A drawback of MC is that it needs a complete roll of the episode (until the agent reaches a terminal state, or until a maximum depth is reached). As a consequence, the policy/value function will only be learned/updated at the end of every episode and not at every step.\n",
    "\n",
    "Let's consider a task modeled as an infinite (or very long) MDP. For example, we want to teach a robot how to walk. If we approach this task with MC control, our agent would only update his policy/value function at the end of the episode. Since the MDP is infinite, the only way to learn is to constraint the simulation to terminate after n steps. On the other side, by approaching this task with TD, our agent would update its policy at every timestep in the simulation, allowing for a (much) faster learning of the optimal policy (thanks to more frequent updates of the value functions) and without the need to manually terminate an episode at some point, but possibly only running one infinite episode."
   ]
  },
  {
   "cell_type": "markdown",
   "metadata": {
    "deletable": false,
    "editable": false,
    "nbgrader": {
     "checksum": "e61bd7837d3b364741b4c3aa43597a10",
     "grade": false,
     "grade_id": "cell-21ca38ffcbe1c3ca",
     "locked": true,
     "schema_version": 1,
     "solution": false
    }
   },
   "source": [
    "For the TD algorithms, we will skip the prediction algorithm and go straight for the control setting where we optimize the policy that we are using. In other words: implement SARSA. To keep it dynamic, we will use the windy gridworld environment (Example 6.5)."
   ]
  },
  {
   "cell_type": "code",
   "execution_count": 29,
   "metadata": {
    "deletable": false,
    "editable": false,
    "nbgrader": {
     "checksum": "609d0f1e1ef6ad89c8dcd96dd43aa798",
     "grade": false,
     "grade_id": "cell-c046fd0377cee46d",
     "locked": true,
     "schema_version": 1,
     "solution": false
    }
   },
   "outputs": [],
   "source": [
    "from windy_gridworld import WindyGridworldEnv\n",
    "env = WindyGridworldEnv()"
   ]
  },
  {
   "cell_type": "code",
   "execution_count": 30,
   "metadata": {
    "deletable": false,
    "nbgrader": {
     "checksum": "42b89f13768d1cd3b41fb52cddef0d97",
     "grade": true,
     "grade_id": "cell-6b662771f3762bb1",
     "locked": false,
     "points": 2,
     "schema_version": 1,
     "solution": true
    }
   },
   "outputs": [
    {
     "name": "stderr",
     "output_type": "stream",
     "text": [
      "100%|██████████| 1000/1000 [00:00<00:00, 1787.52it/s]\n"
     ]
    },
    {
     "data": {
      "image/png": "[encoded data removed]",
      "text/plain": [
       "<Figure size 432x288 with 1 Axes>"
      ]
     },
     "metadata": {
      "needs_background": "light"
     },
     "output_type": "display_data"
    },
    {
     "data": {
      "image/png": "[encoded data removed]",
      "text/plain": [
       "<Figure size 432x288 with 1 Axes>"
      ]
     },
     "metadata": {
      "needs_background": "light"
     },
     "output_type": "display_data"
    }
   ],
   "source": [
    "def sarsa(env, num_episodes, discount_factor=1.0, alpha=0.5, epsilon=0.1, Q=None):\n",
    "    \"\"\"\n",
    "    SARSA algorithm: On-policy TD control. Finds the optimal epsilon-greedy policy.\n",
    "    \n",
    "    Args:\n",
    "        env: OpenAI environment.\n",
    "        num_episodes: Number of episodes to run for.\n",
    "        discount_factor: Gamma discount factor.\n",
    "        alpha: TD learning rate.\n",
    "        epsilon: Probability to sample a random action. Float between 0 and 1.\n",
    "        Q: hot-start the algorithm with a Q value function (optional)\n",
    "    \n",
    "    Returns:\n",
    "        A tuple (Q, stats).\n",
    "        Q is the optimal action-value function, a dictionary mapping state -> action values.\n",
    "        stats is a list of tuples giving the episode lengths and rewards.\n",
    "    \"\"\"\n",
    "    \n",
    "    # The final action-value function.\n",
    "    # A nested dictionary that maps state -> (action -> action-value).\n",
    "    if Q is None:\n",
    "        Q = defaultdict(lambda: np.zeros(env.action_space.n))\n",
    "    \n",
    "    # Keeps track of useful statistics\n",
    "    stats = []\n",
    "    \n",
    "    # The policy we're following\n",
    "    policy = make_epsilon_greedy_policy(Q, epsilon, env.action_space.n)\n",
    "    \n",
    "\n",
    "    for i_episode in tqdm(range(num_episodes)):\n",
    "    \n",
    "        i = 0\n",
    "        R = 0\n",
    "        \n",
    "        observation = env.reset()\n",
    "        a = np.argmax(np.random.multinomial(1, policy(observation)))\n",
    "        done = False\n",
    "        \n",
    "        while not done:\n",
    "            new_observation, reward, done, info = env.step(a)\n",
    "            if done:\n",
    "                break\n",
    "                \n",
    "            new_a = np.argmax(np.random.multinomial(1, policy(new_observation)))\n",
    "            \n",
    "            Q[observation][a] += alpha * (reward + discount_factor * \n",
    "                                          Q[new_observation][new_a] - Q[observation][a])\n",
    "            policy = make_epsilon_greedy_policy(Q, epsilon, env.action_space.n)\n",
    "            i += 1\n",
    "            R += reward\n",
    "            \n",
    "            observation = new_observation\n",
    "            a = new_a\n",
    "            \n",
    "        stats.append((i, R))\n",
    "    episode_lengths, episode_returns = zip(*stats)\n",
    "    return Q, (episode_lengths, episode_returns)\n",
    "\n",
    "Q_sarsa, (episode_lengths_sarsa, episode_returns_sarsa) = sarsa(env, 1000)\n",
    "\n",
    "# We will help you with plotting this time\n",
    "plt.plot(episode_lengths_sarsa)\n",
    "plt.title('Episode lengths SARSA')\n",
    "plt.show()\n",
    "plt.plot(episode_returns_sarsa)\n",
    "plt.title('Episode returns SARSA')\n",
    "plt.show()"
   ]
  },
  {
   "cell_type": "markdown",
   "metadata": {
    "deletable": false,
    "editable": false,
    "nbgrader": {
     "checksum": "6d2e2b63d4428913ca84b62fb4384ef9",
     "grade": false,
     "grade_id": "cell-0eaf4b925ab3ea34",
     "locked": true,
     "schema_version": 1,
     "solution": false
    }
   },
   "source": [
    "Since we might not be interested in falling off the cliff all the time, we can find another person to do this 'exploration' for us (in the name of science). Still, we would like to learn ourselfs from this persons policy, which is where we arrive at _off-policy_ learning. In the simplest variant, we learn our own value by bootstrapping based on the action value corresponding to the best action we could take, while the exploration policy actual follows the $\\epsilon$-greedy strategy. This is known as Q-learning."
   ]
  },
  {
   "cell_type": "code",
   "execution_count": 31,
   "metadata": {
    "deletable": false,
    "nbgrader": {
     "checksum": "954556134388a34f8d4b9a07834180c5",
     "grade": true,
     "grade_id": "cell-a87637d2e582fec0",
     "locked": false,
     "points": 1,
     "schema_version": 1,
     "solution": true
    }
   },
   "outputs": [
    {
     "name": "stderr",
     "output_type": "stream",
     "text": [
      "100%|██████████| 1000/1000 [00:00<00:00, 1914.98it/s]\n"
     ]
    },
    {
     "data": {
      "image/png": "[encoded data removed]",
      "text/plain": [
       "<Figure size 432x288 with 1 Axes>"
      ]
     },
     "metadata": {
      "needs_background": "light"
     },
     "output_type": "display_data"
    },
    {
     "data": {
      "image/png": "[encoded data removed]",
      "text/plain": [
       "<Figure size 432x288 with 1 Axes>"
      ]
     },
     "metadata": {
      "needs_background": "light"
     },
     "output_type": "display_data"
    }
   ],
   "source": [
    "def q_learning(env, num_episodes, discount_factor=1.0, alpha=0.5, epsilon=0.1, Q=None):\n",
    "    \"\"\"\n",
    "    Q-Learning algorithm: Off-policy TD control. Finds the optimal greedy policy\n",
    "    while following an epsilon-greedy policy\n",
    "    \n",
    "    \n",
    "    Args:\n",
    "        env: OpenAI environment.\n",
    "        num_episodes: Number of episodes to run for.\n",
    "        discount_factor: Gamma discount factor.\n",
    "        alpha: TD learning rate.\n",
    "        epsilon: Probability to sample a random action. Float between 0 and 1.\n",
    "        Q: hot-start the algorithm with a Q value function (optional)\n",
    "    \n",
    "    Returns:\n",
    "        A tuple (Q, stats).\n",
    "        Q is the optimal action-value function, a dictionary mapping state -> action values.\n",
    "        stats is a list of tuples giving the episode lengths and rewards.\n",
    "    \"\"\"\n",
    "    \n",
    "    # The final action-value function.\n",
    "    # A nested dictionary that maps state -> (action -> action-value).\n",
    "    if Q is None:\n",
    "        Q = defaultdict(lambda: np.zeros(env.action_space.n))\n",
    "    \n",
    "    # Keeps track of useful statistics\n",
    "    stats = []\n",
    "    \n",
    "    # The policy we're following\n",
    "    policy = make_epsilon_greedy_policy(Q, epsilon, env.action_space.n)\n",
    "    \n",
    "\n",
    "    for i_episode in tqdm(range(num_episodes)):\n",
    "        i = 0\n",
    "        R = 0\n",
    "        \n",
    "        observation = env.reset()\n",
    "        a = np.argmax(np.random.multinomial(1, policy(observation)))\n",
    "        done = False\n",
    "        \n",
    "        while True:\n",
    "            new_observation, reward, done, info = env.step(a)\n",
    "            if done:\n",
    "                break\n",
    "            \n",
    "            Q[observation][a] += alpha * (reward + discount_factor * \n",
    "                                          max(Q[new_observation]) - Q[observation][a])\n",
    "            policy = make_epsilon_greedy_policy(Q, epsilon, env.action_space.n)\n",
    "            i += 1\n",
    "            R += reward\n",
    "            \n",
    "            observation = new_observation\n",
    "            a = np.argmax(np.random.multinomial(1, policy(observation)))\n",
    "        \n",
    "        stats.append((i, R))\n",
    "    episode_lengths, episode_returns = zip(*stats)\n",
    "    return Q, (episode_lengths, episode_returns)\n",
    "\n",
    "Q_q_learning, (episode_lengths_q_learning, episode_returns_q_learning) = q_learning(env, 1000)\n",
    "\n",
    "# We will help you with plotting this time\n",
    "plt.plot(episode_lengths_q_learning)\n",
    "plt.title('Episode lengths Q-learning')\n",
    "plt.show()\n",
    "plt.plot(episode_returns_q_learning)\n",
    "plt.title('Episode returns Q-learning')\n",
    "plt.show()"
   ]
  },
  {
   "cell_type": "markdown",
   "metadata": {
    "deletable": false,
    "editable": false,
    "nbgrader": {
     "checksum": "829728d6b5eea5b47885e984a7faa416",
     "grade": false,
     "grade_id": "cell-9f1fcee44ba712c2",
     "locked": true,
     "schema_version": 1,
     "solution": false
    }
   },
   "source": [
    "Now compare the episode returns while learning for Q-learning and Sarsa (maybe run some more iterations?), by plotting the returns for both algorithms in a single plot, like in the book, Example 6.6. In order to be able to compare them, you may want to zoom in on the y-axis and smooth the returns (e.g. plotting the $n$ episode average instead). Which algorithm achieves higher return during learning? How does this compare to Example 6.6 from the book? Try to explain your observations."
   ]
  },
  {
   "cell_type": "code",
   "execution_count": 32,
   "metadata": {
    "deletable": false,
    "nbgrader": {
     "checksum": "3c1a110fe85c38220afed145a8cf09bc",
     "grade": true,
     "grade_id": "cell-69ed62a52a44dd78",
     "locked": false,
     "points": 1,
     "schema_version": 1,
     "solution": true
    }
   },
   "outputs": [
    {
     "name": "stderr",
     "output_type": "stream",
     "text": [
      "100%|██████████| 10000/10000 [00:04<00:00, 2043.31it/s]\n",
      "100%|██████████| 10000/10000 [00:04<00:00, 2061.00it/s]\n"
     ]
    },
    {
     "data": {
      "image/png": "[encoded data removed]",
      "text/plain": [
       "<Figure size 432x288 with 1 Axes>"
      ]
     },
     "metadata": {
      "needs_background": "light"
     },
     "output_type": "display_data"
    },
    {
     "data": {
      "image/png": "[encoded data removed]",
      "text/plain": [
       "<Figure size 432x288 with 1 Axes>"
      ]
     },
     "metadata": {
      "needs_background": "light"
     },
     "output_type": "display_data"
    }
   ],
   "source": [
    "EPISODES = 10000\n",
    "Q_sarsa, (episode_lengths_sarsa, episode_returns_sarsa) = sarsa(env, EPISODES)\n",
    "Q_q_learning, (episode_lengths_q_learning, episode_returns_q_learning) = q_learning(env, EPISODES)\n",
    "\n",
    "smoothed_returns_sarsa = []\n",
    "smoothed_returns_q_learning = []\n",
    "\n",
    "avg_k = EPISODES//500\n",
    "\n",
    "for i in range(int(EPISODES / avg_k)):\n",
    "    smoothed_returns_sarsa.append(sum(episode_returns_sarsa[avg_k*i:avg_k*i+avg_k])/avg_k)\n",
    "    smoothed_returns_q_learning.append(sum(episode_returns_q_learning[avg_k*i:avg_k*i+avg_k])/avg_k)\n",
    "\n",
    "plt.figure()\n",
    "plt.plot(smoothed_returns_sarsa[:], label=\"Sarsa\")\n",
    "plt.plot(smoothed_returns_q_learning[:], label=\"Q-learning\")\n",
    "plt.title('Episode returns')\n",
    "plt.legend()\n",
    "plt.show()\n",
    "\n",
    "plt.figure()\n",
    "plt.plot(smoothed_returns_sarsa[1:], label=\"Sarsa\")\n",
    "plt.plot(smoothed_returns_q_learning[1:], label=\"Q-learning\")\n",
    "plt.title('Episode returns (Zoomed y-axis)')\n",
    "plt.legend()\n",
    "plt.show()"
   ]
  },
  {
   "cell_type": "markdown",
   "metadata": {
    "deletable": false,
    "nbgrader": {
     "checksum": "a3357293c326223f2a02cae0f38ca24a",
     "grade": true,
     "grade_id": "cell-7acf9de8c94a171f",
     "locked": false,
     "points": 1,
     "schema_version": 1,
     "solution": true
    }
   },
   "source": [
    "In agreement with the results in Example 6.6 from the book, Q-learning outperforms Sarsa in terms of returns during learning. This behavior is expected and can be explained by the fact that Q-learning, in its Off-policy approach, updates the estimates of the action-value pairs using future rewards \n",
    "\n",
    "$\\max_a Q(S', a)$ \n",
    "\n",
    "which is the greedy policy choice for the next state $S'$."
   ]
  },
  {
   "cell_type": "markdown",
   "metadata": {
    "deletable": false,
    "editable": false,
    "nbgrader": {
     "checksum": "f2f954f745662334010f6fb0fcfd9896",
     "grade": false,
     "grade_id": "cell-316d3cfd35d55387",
     "locked": true,
     "schema_version": 1,
     "solution": false
    }
   },
   "source": [
    "After we have learned the policy, we do not care about exploration any more and we may switch to a deterministic (greedy) policy instead. If we evaluate this for both Sarsa and Q-learning (actually, for Q-learning the learned policy is already deterministic), which policy would you expect to perform better? Why?"
   ]
  },
  {
   "cell_type": "markdown",
   "metadata": {
    "deletable": false,
    "nbgrader": {
     "checksum": "011f8038ac100bfdc5e40b78c1bdc2f8",
     "grade": true,
     "grade_id": "cell-ea5058e6f352d717",
     "locked": false,
     "points": 1,
     "schema_version": 1,
     "solution": true
    }
   },
   "source": [
    "We expect both methods to converge to an optimal policy. Since the optimal path is unique, we expect the two methods to converge to the same policy, at least in the states which are visited during the optimal path (and the ones nearby). As a result, the two methods should have similar performances.\n",
    "\n",
    "However, SARSA learns a policy which is optimal with the epsilon-greedy exploration while Q-learning directly learns the greedy policy. For this reason, we expect Q-learning to converge to the optimal policy more easily than SARSA."
   ]
  },
  {
   "cell_type": "markdown",
   "metadata": {
    "deletable": false,
    "editable": false,
    "nbgrader": {
     "checksum": "57ab54058d433e24421d1e1224a9bc87",
     "grade": false,
     "grade_id": "cell-8bcc6f5839a36860",
     "locked": true,
     "schema_version": 1,
     "solution": false
    }
   },
   "source": [
    "Please run the experiments to test your hypothesis (print or plot your results). How many runs do you need to evaluate the policy? Note: without learning, the order of the episodes is not relevant so a normal `plt.plot` may not be the most appropriate choice."
   ]
  },
  {
   "cell_type": "markdown",
   "metadata": {},
   "source": [
    "In order to evaluate a policy we need only 1 run, since the policy is deterministic in this case"
   ]
  },
  {
   "cell_type": "code",
   "execution_count": 33,
   "metadata": {
    "deletable": false,
    "nbgrader": {
     "checksum": "149c39efef43f1807d2b06e6bc50bf95",
     "grade": true,
     "grade_id": "cell-55f9d1767bb7c011",
     "locked": false,
     "points": 1,
     "schema_version": 1,
     "solution": true
    }
   },
   "outputs": [
    {
     "name": "stdout",
     "output_type": "stream",
     "text": [
      "16 -16.0\n",
      "15 -15.0\n"
     ]
    }
   ],
   "source": [
    "def run_episode(env, policy):\n",
    "\n",
    "    i = 0\n",
    "    R = 0\n",
    "\n",
    "    observation = env.reset()\n",
    "    \n",
    "    done = False\n",
    "\n",
    "    while True:\n",
    "        a = np.argmax(np.random.multinomial(1, policy(observation)))\n",
    "        \n",
    "        observation, reward, done, info = env.step(a)\n",
    "\n",
    "        i += 1\n",
    "        R += reward\n",
    "        \n",
    "        if done or i > 1000:\n",
    "            break\n",
    "    \n",
    "    return i, R\n",
    "\n",
    "policy_sarsa = make_epsilon_greedy_policy(Q_sarsa, 0., env.action_space.n)\n",
    "policy_q_learning = make_epsilon_greedy_policy(Q_q_learning, 0., env.action_space.n)\n",
    "\n",
    "i_sarsa, R_sarsa = run_episode(env, policy_sarsa)\n",
    "\n",
    "print(i_sarsa, R_sarsa)\n",
    "\n",
    "i_q_learning, R_q_learning = run_episode(env, policy_q_learning)\n",
    "\n",
    "\n",
    "print(i_q_learning, R_q_learning)\n",
    "\n"
   ]
  },
  {
   "cell_type": "code",
   "execution_count": 34,
   "metadata": {},
   "outputs": [
    {
     "name": "stdout",
     "output_type": "stream",
     "text": [
      "Sarsa\n",
      "<>>>>>>>>v\n",
      ">>>>>>>>^v\n",
      "^>>>^>>>>v\n",
      ">>>>v>v^>v\n",
      ">^>^>>^v<<\n",
      "v>>>>^^>>^\n",
      ">>>>^^^^^<\n",
      "Q Learning\n",
      "<v>>>>>>>v\n",
      ">>>>>>>>>v\n",
      ">>>>>>>>>v\n",
      ">>>>>>>^>v\n",
      ">>>>>>^v<<\n",
      "<>>>>^^v<^\n",
      ">>>>^^^^^<\n"
     ]
    }
   ],
   "source": [
    "def print_grid_policy_dict(policy, symbols=[\"^\", \">\", \"v\", \"<\"]):\n",
    "    symbols = np.array(symbols)\n",
    "    \n",
    "    state = 0\n",
    "    \n",
    "    for r in range(env.shape[0]):\n",
    "        row = ''\n",
    "        for c in range(env.shape[1]):\n",
    "            a = np.argmax(np.random.multinomial(1, policy(state)))\n",
    "            row += symbols[a]\n",
    "            state += 1\n",
    "        print(row)\n",
    "\n",
    "\n",
    "print('Sarsa')\n",
    "print_grid_policy_dict(policy_sarsa)\n",
    "\n",
    "print('Q Learning')\n",
    "print_grid_policy_dict(policy_q_learning)"
   ]
  },
  {
   "cell_type": "code",
   "execution_count": 35,
   "metadata": {},
   "outputs": [],
   "source": [
    "def run_experiments(env, method, N=30, EPISODES=1000):\n",
    "    \n",
    "    rewards = []\n",
    "    \n",
    "    for e in range(N):\n",
    "        Q, (episode_lengths, episode_returns) = method(env, EPISODES)\n",
    "\n",
    "        policy = make_epsilon_greedy_policy(Q, 0., env.action_space.n)\n",
    "\n",
    "        i, R = run_episode(env, policy)\n",
    "        \n",
    "        rewards.append(R)\n",
    "    \n",
    "    return rewards"
   ]
  },
  {
   "cell_type": "code",
   "execution_count": 36,
   "metadata": {},
   "outputs": [
    {
     "name": "stderr",
     "output_type": "stream",
     "text": [
      "100%|██████████| 1000/1000 [00:00<00:00, 1744.48it/s]\n",
      "100%|██████████| 1000/1000 [00:00<00:00, 1694.71it/s]\n",
      "100%|██████████| 1000/1000 [00:00<00:00, 1841.21it/s]\n",
      "100%|██████████| 1000/1000 [00:00<00:00, 1892.59it/s]\n",
      "100%|██████████| 1000/1000 [00:00<00:00, 1855.03it/s]\n",
      "100%|██████████| 1000/1000 [00:00<00:00, 1776.20it/s]\n",
      "100%|██████████| 1000/1000 [00:00<00:00, 1616.81it/s]\n",
      "100%|██████████| 1000/1000 [00:00<00:00, 1779.99it/s]\n",
      "100%|██████████| 1000/1000 [00:00<00:00, 1821.58it/s]\n",
      "100%|██████████| 1000/1000 [00:00<00:00, 1915.29it/s]\n",
      "100%|██████████| 1000/1000 [00:00<00:00, 2020.33it/s]\n",
      "100%|██████████| 1000/1000 [00:00<00:00, 1942.27it/s]\n",
      "100%|██████████| 1000/1000 [00:00<00:00, 1844.66it/s]\n",
      "100%|██████████| 1000/1000 [00:00<00:00, 1771.11it/s]\n",
      "100%|██████████| 1000/1000 [00:00<00:00, 1921.38it/s]\n",
      "100%|██████████| 1000/1000 [00:00<00:00, 1911.67it/s]\n",
      "100%|██████████| 1000/1000 [00:00<00:00, 1895.13it/s]\n",
      "100%|██████████| 1000/1000 [00:00<00:00, 1952.33it/s]\n",
      "100%|██████████| 1000/1000 [00:00<00:00, 1834.38it/s]\n",
      "100%|██████████| 1000/1000 [00:00<00:00, 1861.23it/s]\n",
      "100%|██████████| 1000/1000 [00:00<00:00, 1941.27it/s]\n",
      "100%|██████████| 1000/1000 [00:00<00:00, 1852.55it/s]\n",
      "100%|██████████| 1000/1000 [00:00<00:00, 1889.21it/s]\n",
      "100%|██████████| 1000/1000 [00:00<00:00, 1928.30it/s]\n",
      "100%|██████████| 1000/1000 [00:00<00:00, 1916.50it/s]\n",
      "100%|██████████| 1000/1000 [00:00<00:00, 1891.48it/s]\n",
      "100%|██████████| 1000/1000 [00:00<00:00, 1903.62it/s]\n",
      "100%|██████████| 1000/1000 [00:00<00:00, 1907.92it/s]\n",
      "100%|██████████| 1000/1000 [00:00<00:00, 1886.69it/s]\n",
      "100%|██████████| 1000/1000 [00:00<00:00, 1928.37it/s]\n"
     ]
    }
   ],
   "source": [
    "r_sarsa = run_experiments(env, sarsa)"
   ]
  },
  {
   "cell_type": "code",
   "execution_count": 37,
   "metadata": {},
   "outputs": [
    {
     "name": "stderr",
     "output_type": "stream",
     "text": [
      "100%|██████████| 1000/1000 [00:00<00:00, 1861.24it/s]\n",
      "100%|██████████| 1000/1000 [00:00<00:00, 1938.55it/s]\n",
      "100%|██████████| 1000/1000 [00:00<00:00, 1982.92it/s]\n",
      "100%|██████████| 1000/1000 [00:00<00:00, 1898.33it/s]\n",
      "100%|██████████| 1000/1000 [00:00<00:00, 1908.01it/s]\n",
      "100%|██████████| 1000/1000 [00:00<00:00, 1907.76it/s]\n",
      "100%|██████████| 1000/1000 [00:00<00:00, 1954.18it/s]\n",
      "100%|██████████| 1000/1000 [00:00<00:00, 1898.39it/s]\n",
      "100%|██████████| 1000/1000 [00:00<00:00, 1958.76it/s]\n",
      "100%|██████████| 1000/1000 [00:00<00:00, 1930.30it/s]\n",
      "100%|██████████| 1000/1000 [00:00<00:00, 1935.86it/s]\n",
      "100%|██████████| 1000/1000 [00:00<00:00, 1870.09it/s]\n",
      "100%|██████████| 1000/1000 [00:00<00:00, 1942.48it/s]\n",
      "100%|██████████| 1000/1000 [00:00<00:00, 1812.83it/s]\n",
      "100%|██████████| 1000/1000 [00:00<00:00, 1497.38it/s]\n",
      "100%|██████████| 1000/1000 [00:00<00:00, 1593.77it/s]\n",
      "100%|██████████| 1000/1000 [00:00<00:00, 1689.65it/s]\n",
      "100%|██████████| 1000/1000 [00:00<00:00, 1700.63it/s]\n",
      "100%|██████████| 1000/1000 [00:00<00:00, 1921.98it/s]\n",
      "100%|██████████| 1000/1000 [00:00<00:00, 1588.10it/s]\n",
      "100%|██████████| 1000/1000 [00:00<00:00, 1469.38it/s]\n",
      "100%|██████████| 1000/1000 [00:00<00:00, 1761.56it/s]\n",
      "100%|██████████| 1000/1000 [00:00<00:00, 1794.52it/s]\n",
      "100%|██████████| 1000/1000 [00:00<00:00, 1728.96it/s]\n",
      "100%|██████████| 1000/1000 [00:00<00:00, 1786.04it/s]\n",
      "100%|██████████| 1000/1000 [00:00<00:00, 1829.24it/s]\n",
      "100%|██████████| 1000/1000 [00:00<00:00, 1821.50it/s]\n",
      "100%|██████████| 1000/1000 [00:00<00:00, 1897.47it/s]\n",
      "100%|██████████| 1000/1000 [00:00<00:00, 1764.63it/s]\n",
      "100%|██████████| 1000/1000 [00:00<00:00, 1828.54it/s]\n"
     ]
    }
   ],
   "source": [
    "r_q_learning = run_experiments(env, q_learning)"
   ]
  },
  {
   "cell_type": "code",
   "execution_count": 38,
   "metadata": {},
   "outputs": [
    {
     "data": {
      "text/plain": [
       "(-147.33333333333334, 334.8372075435398)"
      ]
     },
     "execution_count": 38,
     "metadata": {},
     "output_type": "execute_result"
    }
   ],
   "source": [
    "r_sarsa = np.array(r_sarsa)\n",
    "r_sarsa.mean(), r_sarsa.std()"
   ]
  },
  {
   "cell_type": "code",
   "execution_count": 40,
   "metadata": {},
   "outputs": [
    {
     "data": {
      "text/plain": [
       "(-15.0, 0.0)"
      ]
     },
     "execution_count": 40,
     "metadata": {},
     "output_type": "execute_result"
    }
   ],
   "source": [
    "r_q_learning = np.array(r_q_learning)\n",
    "r_q_learning.mean(), r_q_learning.std()"
   ]
  },
  {
   "cell_type": "markdown",
   "metadata": {},
   "source": [
    "As expected, Q-Learning converges to the optimal policy more easily (actually it always converges to the optimal one). Conversely, SARSA can require more episodes and doesn't always converge to optimal policies (indeed, in a few experiments, 1000 episodes have not even been enough to converge to a policy which reaches the terminal state. As a result, in these experiments, when testing these policies the simulation had to be stopped at 1000 steps)."
   ]
  }
 ],
 "metadata": {
  "kernelspec": {
   "display_name": "Python 3",
   "language": "python",
   "name": "python3"
  },
  "language_info": {
   "codemirror_mode": {
    "name": "ipython",
    "version": 3
   },
   "file_extension": ".py",
   "mimetype": "text/x-python",
   "name": "python",
   "nbconvert_exporter": "python",
   "pygments_lexer": "ipython3",
   "version": "3.6.6"
  }
 },
 "nbformat": 4,
 "nbformat_minor": 2
}
