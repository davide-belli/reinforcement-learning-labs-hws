{
 "cells": [
  {
   "cell_type": "markdown",
   "metadata": {},
   "source": [
    "Parts of this assignment will be **automatically graded**. Please take note of the following:\n",
    "- Before you turn this problem in, make sure everything runs as expected. First, **restart the kernel** (in the menubar, select Kernel$\\rightarrow$Restart) and then **run all cells** (in the menubar, select Cell$\\rightarrow$Run All).\n",
    "- You can add additional cells, but it is not recommended to (re)move cells. Cells required for autograding cannot be moved and cells containing tests cannot be edited.\n",
    "- You are allowed to use a service such as [Google Colaboratory](https://colab.research.google.com/) to work together. However, you **cannot** hand in the notebook that was hosted on Google Colaboratory, but you need to copy your answers into the original notebook and verify that it runs succesfully offline. This is because Google Colaboratory destroys the metadata required for grading.\n",
    "- Name your notebook **exactly** `{TA_name}_{student1_id}_{student2_id}_lab{i}.ipynb`, for example `wouter_12345_67890_lab1.ipynb` (or elise or stephan, depending on your TA), **otherwise your submission will be skipped by our regex and you will get 0 points** (but no penalty as we cannot parse your student ids ;)).\n",
    "\n",
    "Make sure you fill in any place that says `YOUR CODE HERE` or \"YOUR ANSWER HERE\", as well as your names below:"
   ]
  },
  {
   "cell_type": "code",
   "execution_count": 1,
   "metadata": {},
   "outputs": [],
   "source": [
    "NAMES = \"Davide Belli, Gabriele Cesa\""
   ]
  },
  {
   "cell_type": "markdown",
   "metadata": {},
   "source": [
    "---"
   ]
  },
  {
   "cell_type": "code",
   "execution_count": 2,
   "metadata": {
    "deletable": false,
    "editable": false,
    "nbgrader": {
     "checksum": "931b3dfcc3a02b92b499929fb27299cb",
     "grade": false,
     "grade_id": "cell-fc69f22067705372",
     "locked": true,
     "schema_version": 1,
     "solution": false
    }
   },
   "outputs": [],
   "source": [
    "%matplotlib inline\n",
    "import os\n",
    "import numpy as np\n",
    "import matplotlib.pyplot as plt\n",
    "import sys\n",
    "import torch\n",
    "from torch import nn\n",
    "import torch.nn.functional as F\n",
    "from torch import optim\n",
    "from tqdm import tqdm as _tqdm\n",
    "\n",
    "def tqdm(*args, **kwargs):\n",
    "    return _tqdm(*args, **kwargs, mininterval=1)  # Safety, do not overflow buffer\n",
    "\n",
    "EPS = float(np.finfo(np.float32).eps)\n",
    "\n",
    "assert sys.version_info[:3] >= (3, 6, 0), \"Make sure you have Python 3.6 installed!\""
   ]
  },
  {
   "cell_type": "markdown",
   "metadata": {
    "deletable": false,
    "editable": false,
    "nbgrader": {
     "checksum": "e83ecfc2751cf2e6ff05d0c01d311673",
     "grade": false,
     "grade_id": "cell-fef7e20e54e6243b",
     "locked": true,
     "schema_version": 1,
     "solution": false
    }
   },
   "source": [
    "---\n",
    "## 1. Deep Q-Network (DQN) (10 (+ 2 bonus) points)"
   ]
  },
  {
   "cell_type": "code",
   "execution_count": 3,
   "metadata": {
    "deletable": false,
    "editable": false,
    "nbgrader": {
     "checksum": "e27fe8f72a248bbcf1f7a21e5550e657",
     "grade": true,
     "grade_id": "cell-39519f4ab05eb2a1",
     "locked": true,
     "points": 0,
     "schema_version": 1,
     "solution": false
    }
   },
   "outputs": [],
   "source": [
    "import gym\n",
    "env = gym.envs.make(\"CartPole-v0\")"
   ]
  },
  {
   "cell_type": "code",
   "execution_count": 4,
   "metadata": {},
   "outputs": [],
   "source": [
    "# env is a TimeLimit wrapper around an env, so use env.env to look into the env (but otherwise you can forget about this)\n",
    "??env.env"
   ]
  },
  {
   "cell_type": "code",
   "execution_count": 5,
   "metadata": {},
   "outputs": [],
   "source": [
    "import time\n",
    "# The nice thing about the CARTPOLE is that it has very nice rendering functionality (if you are on a local environment). Let's have a look at an episode\n",
    "obs = env.reset()\n",
    "env.render()\n",
    "done = False\n",
    "while not done:\n",
    "    obs, reward, done, _ = env.step(env.action_space.sample())\n",
    "    env.render()\n",
    "    time.sleep(0.05)\n",
    "env.close()  # Close the environment or you will have a lot of render screens soon"
   ]
  },
  {
   "cell_type": "markdown",
   "metadata": {
    "deletable": false,
    "editable": false,
    "nbgrader": {
     "checksum": "11a9c014ee5fbe790ce999428cc22658",
     "grade": false,
     "grade_id": "cell-2d83f70e62b99520",
     "locked": true,
     "schema_version": 1,
     "solution": false
    }
   },
   "source": [
    "Remember from the previous lab, that in order to optimize a policy we need to estimate the Q-values (e.g. estimate the *action* values). In the CartPole problem, our state is current position of the cart, the current velocity of the cart, the current (angular) position of the pole and the (angular) speed of the pole. As these are continuous variables, we have an infinite number of states (ignoring the fact that a digital computer can only represent finitely many states in finite memory)."
   ]
  },
  {
   "cell_type": "markdown",
   "metadata": {
    "deletable": false,
    "editable": false,
    "nbgrader": {
     "checksum": "9692b7acb09d018d9f80ce95685b81d5",
     "grade": false,
     "grade_id": "cell-bf2ac21267daffbb",
     "locked": true,
     "schema_version": 1,
     "solution": false
    }
   },
   "source": [
    "Can you think of a way in which we can still use a tabular approach? Why would this work and can you think of an example problem where this would not work?"
   ]
  },
  {
   "cell_type": "markdown",
   "metadata": {
    "deletable": false,
    "nbgrader": {
     "checksum": "3ffce6fca4071a1b543186db1b74cc98",
     "grade": true,
     "grade_id": "cell-b0fa2cb0c2cd2a63",
     "locked": false,
     "points": 1,
     "schema_version": 1,
     "solution": true
    }
   },
   "source": [
    "# Check Me!\n",
    "\n",
    "We can use binning (aggregation) to approximate the infinite number of possible state with a discrete number of state representing interval over the feature's domains. \n",
    "\n",
    "This approach would not work for problems in which the optimal (or sufficient) action for every state is unique and can be expressed as a function of the state feature values. In this case an approximation of the infinite states using binning approach would result in a wrong action for that state"
   ]
  },
  {
   "cell_type": "markdown",
   "metadata": {
    "deletable": false,
    "editable": false,
    "nbgrader": {
     "checksum": "cd66b44d93f348df1e0ef8353377c879",
     "grade": false,
     "grade_id": "cell-0b3162496f5e6cf5",
     "locked": true,
     "schema_version": 1,
     "solution": false
    }
   },
   "source": [
    "### 1.1 Implement Q-Network"
   ]
  },
  {
   "cell_type": "markdown",
   "metadata": {
    "deletable": false,
    "editable": false,
    "nbgrader": {
     "checksum": "84b9c38718c952ef8e62486fc9bf5e4a",
     "grade": false,
     "grade_id": "cell-96a86bcfa1ebc84a",
     "locked": true,
     "schema_version": 1,
     "solution": false
    }
   },
   "source": [
    "We will not use the tabular approach but approximate the Q-value function by a general approximator function. We will skip the linear case and directly use a two layer Neural Network. We use [PyTorch](https://pytorch.org/) to implement the network, as this will allow us to train it easily later. We can implement a model using `torch.nn.Sequential`, but with PyTorch it is actually very easy to implement the model (e.g. the forward pass) from scratch. Now implement the `QNetwork.forward` function that uses one hidden layer with ReLU activation (no output activation)."
   ]
  },
  {
   "cell_type": "code",
   "execution_count": 6,
   "metadata": {
    "deletable": false,
    "nbgrader": {
     "checksum": "4ef7d14363dc2aa4beb638856c57a58c",
     "grade": false,
     "grade_id": "cell-216429a5dccf8a0e",
     "locked": false,
     "schema_version": 1,
     "solution": true
    }
   },
   "outputs": [],
   "source": [
    "import torch.nn.functional as F\n",
    "\n",
    "class QNetwork(nn.Module):\n",
    "    \n",
    "    def __init__(self, num_hidden=128):\n",
    "        nn.Module.__init__(self)\n",
    "        self.l1 = nn.Linear(4, num_hidden)\n",
    "        self.l2 = nn.Linear(num_hidden, 2)\n",
    "\n",
    "    def forward(self, x):\n",
    "        return self.l2(F.relu(self.l1(x)))"
   ]
  },
  {
   "cell_type": "code",
   "execution_count": 7,
   "metadata": {
    "deletable": false,
    "editable": false,
    "nbgrader": {
     "checksum": "2b9a48f9aee9ebc46da01c6f11cd789a",
     "grade": true,
     "grade_id": "cell-00ce108d640a5942",
     "locked": true,
     "points": 1,
     "schema_version": 1,
     "solution": false
    }
   },
   "outputs": [],
   "source": [
    "# Let's instantiate and test if it works\n",
    "num_hidden = 128\n",
    "torch.manual_seed(1234)\n",
    "model = QNetwork(num_hidden)\n",
    "\n",
    "torch.manual_seed(1234)\n",
    "test_model = nn.Sequential(\n",
    "    nn.Linear(4, num_hidden), \n",
    "    nn.ReLU(), \n",
    "    nn.Linear(num_hidden, 2)\n",
    ")\n",
    "\n",
    "x = torch.rand(10, 4)\n",
    "\n",
    "# If you do not need backpropagation, wrap the computation in the torch.no_grad() context\n",
    "# This saves time and memory, and PyTorch complaints when converting to numpy\n",
    "with torch.no_grad():\n",
    "    assert np.allclose(model(x).numpy(), test_model(x).numpy())"
   ]
  },
  {
   "cell_type": "markdown",
   "metadata": {
    "deletable": false,
    "editable": false,
    "nbgrader": {
     "checksum": "7fc82889691dbd60ff9469b770744fcc",
     "grade": false,
     "grade_id": "cell-ca77eae2e62180cf",
     "locked": true,
     "schema_version": 1,
     "solution": false
    }
   },
   "source": [
    "### 1.2 Experience Replay"
   ]
  },
  {
   "cell_type": "markdown",
   "metadata": {
    "deletable": false,
    "editable": false,
    "nbgrader": {
     "checksum": "5b3265bef151a12fe6969c378af76be2",
     "grade": false,
     "grade_id": "cell-b5b012e42dd2029e",
     "locked": true,
     "schema_version": 1,
     "solution": false
    }
   },
   "source": [
    "What could be a problem with doing gradient updates on a sequence of state, action pairs $((s_t, a_t), (s_{t+1}, a_{t+1}) ...)$ observed while interacting with the environment? How will using *experience replay* help to overcome this (potential problem)?"
   ]
  },
  {
   "cell_type": "markdown",
   "metadata": {
    "deletable": false,
    "nbgrader": {
     "checksum": "75e1a8b00b2bfa9b7dd8805b371c6a4e",
     "grade": true,
     "grade_id": "cell-70a2e59541668a25",
     "locked": false,
     "points": 1,
     "schema_version": 1,
     "solution": true
    }
   },
   "source": [
    "# Check me\n",
    "\n",
    "The problem is that successive updates in the original Q-learning approach are corralated to each other. This increases the variance in the learning and can cause instabilities. \n",
    "Experience replay can be used to solve this problem by saving an history of experiences from interacting with the environment and then learning a model by sampling experiences from this history, in order to avoid sequential updates (from Sutton and Barto, pp. 440-441)."
   ]
  },
  {
   "cell_type": "markdown",
   "metadata": {
    "deletable": false,
    "editable": false,
    "nbgrader": {
     "checksum": "9b3bbd8aaf3aade515736d0d07917a61",
     "grade": false,
     "grade_id": "cell-2c1d117a1a75fd69",
     "locked": true,
     "schema_version": 1,
     "solution": false
    }
   },
   "source": [
    "Now implement the `push` function that adds a transition to the replay buffer, and the sample function that returns a batch of samples. It should keep at most the maximum number of transitions. Also implement the `sample` function that samples a (random!) batch of data, for use during training (hint: you can use the function `random.sample`)."
   ]
  },
  {
   "cell_type": "code",
   "execution_count": 8,
   "metadata": {
    "deletable": false,
    "nbgrader": {
     "checksum": "93a9f55f3950fe63b44aa84c5fd7f793",
     "grade": false,
     "grade_id": "cell-a3cc876e51eb157f",
     "locked": false,
     "schema_version": 1,
     "solution": true
    }
   },
   "outputs": [],
   "source": [
    "import random\n",
    "class ReplayMemory:\n",
    "    \n",
    "    def __init__(self, capacity):\n",
    "        self.capacity = capacity\n",
    "        self.memory = []\n",
    "\n",
    "    def push(self, transition):\n",
    "        if len(self) < self.capacity:\n",
    "            self.memory.append(transition)\n",
    "\n",
    "    def sample(self, batch_size):\n",
    "        return random.sample(self.memory, batch_size)\n",
    "\n",
    "    def __len__(self):\n",
    "        return len(self.memory)"
   ]
  },
  {
   "cell_type": "code",
   "execution_count": 9,
   "metadata": {
    "deletable": false,
    "editable": false,
    "nbgrader": {
     "checksum": "6865749b3a8810bdaaf1604a9cea42e7",
     "grade": true,
     "grade_id": "cell-3b90135921c4da76",
     "locked": true,
     "points": 1,
     "schema_version": 1,
     "solution": false
    }
   },
   "outputs": [
    {
     "name": "stdout",
     "output_type": "stream",
     "text": [
      "[(array([ 0.04073589, -0.01653962, -0.02860587,  0.00222345]), 0, 1.0, array([ 0.0404051 , -0.2112399 , -0.0285614 ,  0.28574539]), False)]\n"
     ]
    }
   ],
   "source": [
    "capacity = 10\n",
    "memory = ReplayMemory(capacity)\n",
    "\n",
    "# Sample a transition\n",
    "s = env.reset()\n",
    "a = env.action_space.sample()\n",
    "s_next, r, done, _ = env.step(a)\n",
    "\n",
    "# Push a transition\n",
    "memory.push((s, a, r, s_next, done))\n",
    "\n",
    "# Sample a batch size of 1\n",
    "print(memory.sample(1))\n"
   ]
  },
  {
   "cell_type": "markdown",
   "metadata": {
    "deletable": false,
    "editable": false,
    "nbgrader": {
     "checksum": "3c742d499c0f9b7f10d1c0c3a085236a",
     "grade": false,
     "grade_id": "cell-88f67e3c051da6a9",
     "locked": true,
     "schema_version": 1,
     "solution": false
    }
   },
   "source": [
    "### 1.3 $\\epsilon$psilon greedy policy"
   ]
  },
  {
   "cell_type": "markdown",
   "metadata": {
    "deletable": false,
    "editable": false,
    "nbgrader": {
     "checksum": "61d26d0dec0133f2aa737ed4711d6e08",
     "grade": false,
     "grade_id": "cell-aa3c7d1b3000f697",
     "locked": true,
     "schema_version": 1,
     "solution": false
    }
   },
   "source": [
    "In order to learn a good policy, we need to explore quite a bit initially. As we start to learn a good policy, we want to decrease the exploration. As the amount of exploration using an $\\epsilon$-greedy policy is controlled by $\\epsilon$, we can define an 'exploration scheme' by writing $\\epsilon$ as a function of time. There are many possible schemes, but we will use a simple one: we will start with only exploring (so taking random actions) at iteration 0, and then in 1000 iterations linearly anneal $\\epsilon$ such that after 1000 iterations we take random (exploration) actions with 5\\% probability (forever, as you never know if the environment will change)."
   ]
  },
  {
   "cell_type": "code",
   "execution_count": 10,
   "metadata": {
    "deletable": false,
    "nbgrader": {
     "checksum": "270ab31d4bb29dc9a05223c16a4967a7",
     "grade": false,
     "grade_id": "cell-5789e7a792108576",
     "locked": false,
     "schema_version": 1,
     "solution": true
    }
   },
   "outputs": [],
   "source": [
    "def get_epsilon(it):\n",
    "    return .05 if it > 1000 else (1- it * 0.95 /1000)"
   ]
  },
  {
   "cell_type": "code",
   "execution_count": 11,
   "metadata": {
    "deletable": false,
    "editable": false,
    "nbgrader": {
     "checksum": "b1a81dd07e1b7a98d2cd06ebc171ebdd",
     "grade": true,
     "grade_id": "cell-40e66db45e742b2e",
     "locked": true,
     "points": 1,
     "schema_version": 1,
     "solution": false
    }
   },
   "outputs": [
    {
     "data": {
      "text/plain": [
       "[<matplotlib.lines.Line2D at 0x7f8f54105b00>]"
      ]
     },
     "execution_count": 11,
     "metadata": {},
     "output_type": "execute_result"
    },
    {
     "data": {
      "image/png": "[encoded data removed]",
      "text/plain": [
       "<Figure size 432x288 with 1 Axes>"
      ]
     },
     "metadata": {
      "needs_background": "light"
     },
     "output_type": "display_data"
    }
   ],
   "source": [
    "# So what's an easy way to check?\n",
    "plt.plot([get_epsilon(it) for it in range(5000)])\n"
   ]
  },
  {
   "cell_type": "markdown",
   "metadata": {
    "deletable": false,
    "editable": false,
    "nbgrader": {
     "checksum": "84685c23e4eb899d7fed3a87b7f8915e",
     "grade": false,
     "grade_id": "cell-a8b604c9998c6c3b",
     "locked": true,
     "schema_version": 1,
     "solution": false
    }
   },
   "source": [
    "Now write a function that takes a state and uses the Q-network to select an ($\\epsilon$-greedy) action. It should return a random action with probability epsilon (which we will pass later). Note, you do not need to backpropagate through the model computations, so use `with torch.no_grad():` (see above for example). Unlike numpy, PyTorch has no argmax function, but Google is your friend... Note that to convert a PyTorch tensor with only 1 element (0 dimensional) to a simple python scalar (int or float), you can use the '.item()' function."
   ]
  },
  {
   "cell_type": "code",
   "execution_count": 12,
   "metadata": {
    "deletable": false,
    "nbgrader": {
     "checksum": "882f51819100c850120e73340aec387d",
     "grade": false,
     "grade_id": "cell-878ad3a637cfb51c",
     "locked": false,
     "schema_version": 1,
     "solution": true
    }
   },
   "outputs": [],
   "source": [
    "def select_action(model, state, epsilon):\n",
    "    with torch.no_grad():\n",
    "        scores = model(torch.Tensor(state))\n",
    "        if random.random() > epsilon:\n",
    "            m, am = scores.max(0)\n",
    "            return am.item()\n",
    "        return random.randint(0, scores.shape[0] - 1)"
   ]
  },
  {
   "cell_type": "code",
   "execution_count": 13,
   "metadata": {
    "deletable": false,
    "editable": false,
    "nbgrader": {
     "checksum": "21f939075cb0c8dde152dabf47568a9d",
     "grade": true,
     "grade_id": "cell-e895338d56bee477",
     "locked": true,
     "points": 1,
     "schema_version": 1,
     "solution": false
    }
   },
   "outputs": [
    {
     "name": "stdout",
     "output_type": "stream",
     "text": [
      "1\n"
     ]
    }
   ],
   "source": [
    "s = env.reset()\n",
    "a = select_action(model, s, 0.05)\n",
    "assert not torch.is_tensor(a)\n",
    "print (a)\n"
   ]
  },
  {
   "cell_type": "markdown",
   "metadata": {
    "deletable": false,
    "editable": false,
    "nbgrader": {
     "checksum": "5d00ab2e5e0b39257771d0e778fda2d6",
     "grade": false,
     "grade_id": "cell-ec5e94e0b03f8aec",
     "locked": true,
     "schema_version": 1,
     "solution": false
    }
   },
   "source": [
    "### 1.4 Training function"
   ]
  },
  {
   "cell_type": "markdown",
   "metadata": {
    "deletable": false,
    "editable": false,
    "nbgrader": {
     "checksum": "4839aac72a80552046ebecc40c1615cf",
     "grade": false,
     "grade_id": "cell-d1a12cc97386fe56",
     "locked": true,
     "schema_version": 1,
     "solution": false
    }
   },
   "source": [
    "Now we will implement the function 'train' that samples a batch from the memory and performs a gradient step using some convenient PyTorch functionality. However, you still need to compute the Q-values for the (state, action) pairs in the experience, as well as their target (e.g. the value they should move towards). What is the target for a Q-learning update? What should be the target if `next_state` is terminal (e.g. `done`)?\n",
    "\n",
    "For computing the Q-values for the actions, note that the model returns all action values where you are only interested in a single action value. Because of the batch dimension, you can't use simple indexing, but you may want to have a look at [torch.gather](https://pytorch.org/docs/stable/torch.html?highlight=gather#torch.gather) or use [advanced indexing](https://docs.scipy.org/doc/numpy-1.13.0/reference/arrays.indexing.html) (numpy tutorial but works mostly the same in PyTorch). Note, you should NOT modify the function train. You can view the size of a tensor `x` with `x.size()` (similar to `x.shape` in numpy)."
   ]
  },
  {
   "cell_type": "code",
   "execution_count": 14,
   "metadata": {
    "deletable": false,
    "nbgrader": {
     "checksum": "c466ee49add35cb1ec6a3e4a85f733c9",
     "grade": false,
     "grade_id": "cell-6c45485324b40081",
     "locked": false,
     "schema_version": 1,
     "solution": true
    }
   },
   "outputs": [],
   "source": [
    "def compute_q_val(model, state, action):\n",
    "    values = model(state)\n",
    "    return torch.gather(values, 1, action.unsqueeze(-1)).reshape(-1)\n",
    "    \n",
    "def compute_target(model, reward, next_state, done, discount_factor):\n",
    "    # done is a boolean (vector) that indicates if next_state is terminal (episode is done)\n",
    "    # target = R + gamma * V(S')\n",
    "    next_values = model(next_state)\n",
    "    return reward + discount_factor * torch.max(next_values, 1)[0] * (1 - done.type(torch.FloatTensor)) \n",
    "    \n",
    "\n",
    "def train(model, memory, optimizer, batch_size, discount_factor):\n",
    "    # DO NOT MODIFY THIS FUNCTION\n",
    "    \n",
    "    # don't learn without some decent experience\n",
    "    if len(memory) < batch_size:\n",
    "        return None\n",
    "\n",
    "    # random transition batch is taken from experience replay memory\n",
    "    transitions = memory.sample(batch_size)\n",
    "    \n",
    "    # transition is a list of 4-tuples, instead we want 4 vectors (as torch.Tensor's)\n",
    "    state, action, reward, next_state, done = zip(*transitions)\n",
    "    \n",
    "    # convert to PyTorch and define types\n",
    "    state = torch.tensor(state, dtype=torch.float)\n",
    "    action = torch.tensor(action, dtype=torch.int64)  # Need 64 bit to use them as index\n",
    "    next_state = torch.tensor(next_state, dtype=torch.float)\n",
    "    reward = torch.tensor(reward, dtype=torch.float)\n",
    "    done = torch.tensor(done, dtype=torch.uint8)  # Boolean\n",
    "    \n",
    "    # compute the q value\n",
    "    q_val = compute_q_val(model, state, action)\n",
    "    \n",
    "    with torch.no_grad():  # Don't compute gradient info for the target (semi-gradient)\n",
    "        target = compute_target(model, reward, next_state, done, discount_factor)\n",
    "    \n",
    "    # loss is measured from error between current and newly expected Q values\n",
    "    loss = F.smooth_l1_loss(q_val, target)\n",
    "\n",
    "    # backpropagation of loss to Neural Network (PyTorch magic)\n",
    "    optimizer.zero_grad()\n",
    "    loss.backward()\n",
    "    optimizer.step()\n",
    "    \n",
    "    return loss.item()  # Returns a Python scalar, and releases history (similar to .detach())"
   ]
  },
  {
   "cell_type": "code",
   "execution_count": 15,
   "metadata": {
    "deletable": false,
    "editable": false,
    "nbgrader": {
     "checksum": "877c400001292b619e6871c1366524b9",
     "grade": true,
     "grade_id": "cell-b060b822eec4282f",
     "locked": true,
     "points": 2,
     "schema_version": 1,
     "solution": false
    }
   },
   "outputs": [
    {
     "name": "stdout",
     "output_type": "stream",
     "text": [
      "0.59531170129776\n"
     ]
    }
   ],
   "source": [
    "# You may want to test your functions individually, but after you do so lets see if the method train works.\n",
    "batch_size = 64\n",
    "discount_factor = 0.8\n",
    "learn_rate = 1e-3\n",
    "# Simple gradient descent may take long, so we will use Adam\n",
    "optimizer = optim.Adam(model.parameters(), learn_rate)\n",
    "\n",
    "# We need a larger memory, fill with dummy data\n",
    "transition = memory.sample(1)[0]\n",
    "memory = ReplayMemory(10 * batch_size)\n",
    "for i in range(batch_size):\n",
    "    memory.push(transition)\n",
    "\n",
    "# Now let's see if it works\n",
    "loss = train(model, memory, optimizer, batch_size, discount_factor)\n",
    "\n",
    "print (loss)\n"
   ]
  },
  {
   "cell_type": "markdown",
   "metadata": {
    "deletable": false,
    "editable": false,
    "nbgrader": {
     "checksum": "2057dee580a43fb0442fe52557c0ac64",
     "grade": false,
     "grade_id": "cell-3eafd0ab49103f3b",
     "locked": true,
     "schema_version": 1,
     "solution": false
    }
   },
   "source": [
    "### 1.5 Put it all together"
   ]
  },
  {
   "cell_type": "markdown",
   "metadata": {
    "deletable": false,
    "editable": false,
    "nbgrader": {
     "checksum": "06dd71aae5c3c699f2b707b348a88107",
     "grade": false,
     "grade_id": "cell-36b8a04b393d8104",
     "locked": true,
     "schema_version": 1,
     "solution": false
    }
   },
   "source": [
    "Now that you have implemented the training step, you should be able to put everything together. Implement the function `run_episodes` that runs a number of episodes of DQN training. It should return the durations (e.g. number of steps) of each episode. Note: we pass the train function as an argument such that we can swap it for a different training step later."
   ]
  },
  {
   "cell_type": "code",
   "execution_count": 16,
   "metadata": {
    "deletable": false,
    "nbgrader": {
     "checksum": "c3f61b2ca270d84ab9b28d989dd65d4c",
     "grade": false,
     "grade_id": "cell-540a7d50ecc1d046",
     "locked": false,
     "schema_version": 1,
     "solution": true
    }
   },
   "outputs": [],
   "source": [
    "def run_episodes(train, model, memory, env, num_episodes, batch_size, discount_factor, learn_rate):\n",
    "    \n",
    "    optimizer = optim.Adam(model.parameters(), learn_rate)\n",
    "    \n",
    "    global_steps = 0  # Count the steps (do not reset at episode start, to compute epsilon)\n",
    "    episode_durations = []  #\n",
    "    for i in range(num_episodes):\n",
    "        s = env.reset()\n",
    "        done = False\n",
    "        duration = 0\n",
    "        while not done:\n",
    "            epsilon = get_epsilon(global_steps)\n",
    "            a = select_action(model, s, epsilon)\n",
    "            s_next, r, done, _ = env.step(a)\n",
    "            memory.push((s, a, r, s_next, done))\n",
    "            \n",
    "            train(model, memory, optimizer, batch_size, discount_factor)\n",
    "            \n",
    "            s = s_next\n",
    "            duration += 1\n",
    "            global_steps += 1\n",
    "            \n",
    "        env.close()\n",
    "        episode_durations.append(duration)\n",
    "        \n",
    "    return episode_durations"
   ]
  },
  {
   "cell_type": "code",
   "execution_count": 17,
   "metadata": {},
   "outputs": [],
   "source": [
    "# Let's run it!\n",
    "num_episodes = 100\n",
    "batch_size = 64\n",
    "discount_factor = 0.8\n",
    "learn_rate = 1e-3\n",
    "memory = ReplayMemory(10000)\n",
    "num_hidden = 128\n",
    "seed = 42  # This is not randomly chosen\n",
    "\n",
    "# We will seed the algorithm (before initializing QNetwork!) for reproducability\n",
    "random.seed(seed)\n",
    "torch.manual_seed(seed)\n",
    "env.seed(seed)\n",
    "\n",
    "model = QNetwork(num_hidden)\n",
    "\n",
    "episode_durations = run_episodes(train, model, memory, env, num_episodes, batch_size, discount_factor, learn_rate)"
   ]
  },
  {
   "cell_type": "code",
   "execution_count": 12,
   "metadata": {
    "deletable": false,
    "editable": false,
    "nbgrader": {
     "checksum": "70d16eb61eae34605e8d7813a70a604a",
     "grade": true,
     "grade_id": "cell-928ecc11ed5c43d8",
     "locked": true,
     "points": 2,
     "schema_version": 1,
     "solution": false
    }
   },
   "outputs": [
    {
     "ename": "NameError",
     "evalue": "name 'episode_durations' is not defined",
     "output_type": "error",
     "traceback": [
      "\u001b[0;31m---------------------------------------------------------------------------\u001b[0m",
      "\u001b[0;31mNameError\u001b[0m                                 Traceback (most recent call last)",
      "\u001b[0;32m<ipython-input-12-88f369d76629>\u001b[0m in \u001b[0;36m<module>\u001b[0;34m\u001b[0m\n\u001b[1;32m      4\u001b[0m     \u001b[0;32mreturn\u001b[0m \u001b[0;34m(\u001b[0m\u001b[0mcumsum\u001b[0m\u001b[0;34m[\u001b[0m\u001b[0mN\u001b[0m\u001b[0;34m:\u001b[0m\u001b[0;34m]\u001b[0m \u001b[0;34m-\u001b[0m \u001b[0mcumsum\u001b[0m\u001b[0;34m[\u001b[0m\u001b[0;34m:\u001b[0m\u001b[0;34m-\u001b[0m\u001b[0mN\u001b[0m\u001b[0;34m]\u001b[0m\u001b[0;34m)\u001b[0m \u001b[0;34m/\u001b[0m \u001b[0mfloat\u001b[0m\u001b[0;34m(\u001b[0m\u001b[0mN\u001b[0m\u001b[0;34m)\u001b[0m\u001b[0;34m\u001b[0m\u001b[0m\n\u001b[1;32m      5\u001b[0m \u001b[0;34m\u001b[0m\u001b[0m\n\u001b[0;32m----> 6\u001b[0;31m \u001b[0mplt\u001b[0m\u001b[0;34m.\u001b[0m\u001b[0mplot\u001b[0m\u001b[0;34m(\u001b[0m\u001b[0msmooth\u001b[0m\u001b[0;34m(\u001b[0m\u001b[0mepisode_durations\u001b[0m\u001b[0;34m,\u001b[0m \u001b[0;36m10\u001b[0m\u001b[0;34m)\u001b[0m\u001b[0;34m)\u001b[0m\u001b[0;34m\u001b[0m\u001b[0m\n\u001b[0m\u001b[1;32m      7\u001b[0m \u001b[0mplt\u001b[0m\u001b[0;34m.\u001b[0m\u001b[0mtitle\u001b[0m\u001b[0;34m(\u001b[0m\u001b[0;34m'Episode durations per episode'\u001b[0m\u001b[0;34m)\u001b[0m\u001b[0;34m\u001b[0m\u001b[0m\n",
      "\u001b[0;31mNameError\u001b[0m: name 'episode_durations' is not defined"
     ]
    }
   ],
   "source": [
    "# And see the results\n",
    "def smooth(x, N):\n",
    "    cumsum = np.cumsum(np.insert(x, 0, 0)) \n",
    "    return (cumsum[N:] - cumsum[:-N]) / float(N)\n",
    "\n",
    "plt.plot(smooth(episode_durations, 10))\n",
    "plt.title('Episode durations per episode')\n"
   ]
  },
  {
   "cell_type": "code",
   "execution_count": 13,
   "metadata": {},
   "outputs": [],
   "source": [
    "# # Extra cell di Davide, To be removed!!\n",
    "\n",
    "# # Con 1000 episodi si vede qualcosa di più chiaro, proviamo anche a renderizzare gli ultimi 5 episodi\n",
    "# def run_episodes_and_render(train, model, memory, env, num_episodes, batch_size, discount_factor, learn_rate):\n",
    "    \n",
    "#     optimizer = optim.Adam(model.parameters(), learn_rate)\n",
    "    \n",
    "#     global_steps = 0  # Count the steps (do not reset at episode start, to compute epsilon)\n",
    "#     episode_durations = []  #\n",
    "#     for i in range(num_episodes):\n",
    "#         s = env.reset()\n",
    "#         done = False\n",
    "#         duration = 0\n",
    "#         while not done:\n",
    "#             epsilon = get_epsilon(i)\n",
    "#             a = select_action(model, s, epsilon)\n",
    "#             s_next, r, done, _ = env.step(a)\n",
    "#             memory.push((s, a, r, s_next, done))\n",
    "            \n",
    "#             train(model, memory, optimizer, batch_size, discount_factor)\n",
    "            \n",
    "#             # visualizziamo gli ultimi 5 episodi\n",
    "#             if(i >= num_episodes-5):\n",
    "#                 env.render()\n",
    "#                 time.sleep(0.05)\n",
    "            \n",
    "#             s = s_next\n",
    "#             duration += 1\n",
    "            \n",
    "#         env.close()\n",
    "#         episode_durations.append(duration)\n",
    "        \n",
    "#     return episode_durations, memory\n",
    "\n",
    "# num_episodes = 1000\n",
    "# memory = ReplayMemory(10000)\n",
    "# model = QNetwork(num_hidden)\n",
    "\n",
    "# episode_durations, memory = run_episodes_and_render(train, model, memory, env, num_episodes, batch_size, discount_factor, learn_rate)\n",
    "\n",
    "# def smooth(x, N):\n",
    "#     cumsum = np.cumsum(np.insert(x, 0, 0)) \n",
    "#     return (cumsum[N:] - cumsum[:-N]) / float(N)\n",
    "\n",
    "# plt.plot(smooth(episode_durations, 10))\n",
    "# plt.title('Episode durations per episode')"
   ]
  },
  {
   "cell_type": "markdown",
   "metadata": {
    "deletable": false,
    "editable": false,
    "nbgrader": {
     "checksum": "1e106dba734da10d4d8b3bf90d6bb772",
     "grade": false,
     "grade_id": "cell-49e6bf74834a67ef",
     "locked": true,
     "schema_version": 1,
     "solution": false
    }
   },
   "source": [
    "### 1.6 Semi-gradient vs. true gradient (bonus)"
   ]
  },
  {
   "cell_type": "markdown",
   "metadata": {
    "deletable": false,
    "editable": false,
    "nbgrader": {
     "checksum": "acf155c686f3916453a3d11d95994987",
     "grade": false,
     "grade_id": "cell-fc30be2a6983bc77",
     "locked": true,
     "schema_version": 1,
     "solution": false
    }
   },
   "source": [
    "Note that by using automatic differentiation in PyTorch, it is (relatively) easy to implement the true gradient method. Hint: PyTorch may complain about computing gradients for the target in [smooth_l1_loss](https://pytorch.org/docs/stable/nn.html?highlight=smooth_l1_loss#torch.nn.functional.smooth_l1_loss). How can you circumvent this problem? Implement the `train_true_gradient` method below."
   ]
  },
  {
   "cell_type": "code",
   "execution_count": 11,
   "metadata": {
    "deletable": false,
    "nbgrader": {
     "checksum": "3d1e72257ed8c59175352e163f1bfdaf",
     "grade": true,
     "grade_id": "cell-71707640573b23d1",
     "locked": false,
     "points": 1,
     "schema_version": 1,
     "solution": true
    }
   },
   "outputs": [
    {
     "ename": "NameError",
     "evalue": "name 'seed' is not defined",
     "output_type": "error",
     "traceback": [
      "\u001b[0;31m---------------------------------------------------------------------------\u001b[0m",
      "\u001b[0;31mNameError\u001b[0m                                 Traceback (most recent call last)",
      "\u001b[0;32m<ipython-input-11-4c3a4b9c5357>\u001b[0m in \u001b[0;36m<module>\u001b[0;34m\u001b[0m\n\u001b[1;32m     34\u001b[0m     \u001b[0;32mreturn\u001b[0m \u001b[0mloss\u001b[0m\u001b[0;34m.\u001b[0m\u001b[0mitem\u001b[0m\u001b[0;34m(\u001b[0m\u001b[0;34m)\u001b[0m  \u001b[0;31m# Returns a Python scalar, and releases history (similar to .detach())\u001b[0m\u001b[0;34m\u001b[0m\u001b[0m\n\u001b[1;32m     35\u001b[0m \u001b[0;34m\u001b[0m\u001b[0m\n\u001b[0;32m---> 36\u001b[0;31m \u001b[0mrandom\u001b[0m\u001b[0;34m.\u001b[0m\u001b[0mseed\u001b[0m\u001b[0;34m(\u001b[0m\u001b[0mseed\u001b[0m\u001b[0;34m)\u001b[0m\u001b[0;34m\u001b[0m\u001b[0m\n\u001b[0m\u001b[1;32m     37\u001b[0m \u001b[0mtorch\u001b[0m\u001b[0;34m.\u001b[0m\u001b[0mmanual_seed\u001b[0m\u001b[0;34m(\u001b[0m\u001b[0mseed\u001b[0m\u001b[0;34m)\u001b[0m\u001b[0;34m\u001b[0m\u001b[0m\n\u001b[1;32m     38\u001b[0m \u001b[0menv\u001b[0m\u001b[0;34m.\u001b[0m\u001b[0mseed\u001b[0m\u001b[0;34m(\u001b[0m\u001b[0mseed\u001b[0m\u001b[0;34m)\u001b[0m\u001b[0;34m\u001b[0m\u001b[0m\n",
      "\u001b[0;31mNameError\u001b[0m: name 'seed' is not defined"
     ]
    }
   ],
   "source": [
    "def train_true_gradient(model, memory, optimizer, batch_size, discount_factor):\n",
    "    \n",
    "    # don't learn without some decent experience\n",
    "    if len(memory) < batch_size:\n",
    "        return None\n",
    "\n",
    "    # random transition batch is taken from experience replay memory\n",
    "    transitions = memory.sample(batch_size)\n",
    "    \n",
    "    # transition is a list of 4-tuples, instead we want 4 vectors (as torch.Tensor's)\n",
    "    state, action, reward, next_state, done = zip(*transitions)\n",
    "    \n",
    "    # convert to PyTorch and define types\n",
    "    state = torch.tensor(state, dtype=torch.float)\n",
    "    action = torch.tensor(action, dtype=torch.int64)  # Need 64 bit to use them as index\n",
    "    next_state = torch.tensor(next_state, dtype=torch.float)\n",
    "    reward = torch.tensor(reward, dtype=torch.float)\n",
    "    done = torch.tensor(done, dtype=torch.uint8)  # Boolean\n",
    "    \n",
    "    # compute the q value\n",
    "    q_val = compute_q_val(model, state, action)\n",
    "    \n",
    "    # come fare in modo che il gradiente sia calcolato?\n",
    "    target = compute_target(model, reward, next_state, done, discount_factor)\n",
    "    \n",
    "    # loss is measured from error between current and newly expected Q values\n",
    "    loss = F.smooth_l1_loss(q_val - target, torch.zeros_like(q_val))\n",
    "\n",
    "    # backpropagation of loss to Neural Network (PyTorch magic)\n",
    "    optimizer.zero_grad()\n",
    "    loss.backward()\n",
    "    optimizer.step()\n",
    "    \n",
    "    return loss.item()  # Returns a Python scalar, and releases history (similar to .detach())\n",
    "\n",
    "random.seed(seed)\n",
    "torch.manual_seed(seed)\n",
    "env.seed(seed)\n",
    "\n",
    "model = QNetwork(num_hidden)\n",
    "\n",
    "episode_durations_true_gradient = run_episodes(\n",
    "    train_true_gradient, model, memory, env, num_episodes, batch_size, discount_factor, learn_rate)\n",
    "\n",
    "plt.plot(smooth(episode_durations, 10))\n",
    "plt.plot(smooth(episode_durations_true_gradient, 10))\n",
    "plt.title('Episode durations per episode')\n",
    "plt.legend(['Semi-gradient', 'True gradient'])"
   ]
  },
  {
   "cell_type": "markdown",
   "metadata": {
    "deletable": false,
    "editable": false,
    "nbgrader": {
     "checksum": "95b462060bc00fccd7e8bc2ccc857215",
     "grade": false,
     "grade_id": "cell-b6fb5a1b0894fb4e",
     "locked": true,
     "schema_version": 1,
     "solution": false
    }
   },
   "source": [
    "Which algorithm performs better? Is this what you would expect? Can you explain this?\n",
    "\n",
    "Note: you may want to play around with the number of episodes to answer this question, but please reset it to 100 before handing in the notebook."
   ]
  },
  {
   "cell_type": "markdown",
   "metadata": {
    "deletable": false,
    "nbgrader": {
     "checksum": "b2e5712195d20cce7d1a6afb34e24a41",
     "grade": true,
     "grade_id": "cell-d99dae457ea5bde6",
     "locked": false,
     "points": 1,
     "schema_version": 1,
     "solution": true
    }
   },
   "source": [
    "YOUR ANSWER HERE"
   ]
  },
  {
   "cell_type": "markdown",
   "metadata": {
    "deletable": false,
    "editable": false,
    "nbgrader": {
     "checksum": "de7203182e41f55f391af5892477e89d",
     "grade": false,
     "grade_id": "cell-6607b79e73a101a9",
     "locked": true,
     "schema_version": 1,
     "solution": false
    }
   },
   "source": [
    "---\n",
    "\n",
    "## 2. Policy Gradient (8 points)"
   ]
  },
  {
   "cell_type": "markdown",
   "metadata": {
    "deletable": false,
    "editable": false,
    "nbgrader": {
     "checksum": "951b88e9cd8396d088d3f80e6da9690c",
     "grade": false,
     "grade_id": "cell-083fe71da94aa7aa",
     "locked": true,
     "schema_version": 1,
     "solution": false
    }
   },
   "source": [
    "So we have spent a lot of time working on *value based* methods. We will now switch to *policy based* methods, i.e. learn a policy directly rather than learn a value function from which the policy follows. Mention two advantages of using a policy based method."
   ]
  },
  {
   "cell_type": "markdown",
   "metadata": {
    "deletable": false,
    "nbgrader": {
     "checksum": "a5c1f505cb22eca6eb3b8213ff23e60f",
     "grade": true,
     "grade_id": "cell-134510705650d5ac",
     "locked": false,
     "points": 2,
     "schema_version": 1,
     "solution": true
    }
   },
   "source": [
    "Some advantages of using policy based methods are:\n",
    "- easier to include prior knowledge\n",
    "- we directly optimize the quantities of interest\n",
    "- easier to ensure smooth changes of the policies"
   ]
  },
  {
   "cell_type": "markdown",
   "metadata": {
    "deletable": false,
    "editable": false,
    "nbgrader": {
     "checksum": "174629c02b62968e23fa6088c4d5763b",
     "grade": false,
     "grade_id": "cell-76a10fe31897025f",
     "locked": true,
     "schema_version": 1,
     "solution": false
    }
   },
   "source": [
    "### 2.1 Policy Network"
   ]
  },
  {
   "cell_type": "markdown",
   "metadata": {
    "deletable": false,
    "editable": false,
    "nbgrader": {
     "checksum": "2bc16b45e6145226b8a6f5117003b7f5",
     "grade": false,
     "grade_id": "cell-34f0712f792bbcca",
     "locked": true,
     "schema_version": 1,
     "solution": false
    }
   },
   "source": [
    "In order to do so, we will implement a Policy network. Although in general this does not have to be the case, we will use an architecture very similar to the Q-network (two layers with ReLU activation for the hidden layer). Since we have discrete actions, our model will output one value per action, where each value represents the (normalized!) log-probability of selecting that action. *Use the (log-)softmax activation function.*"
   ]
  },
  {
   "cell_type": "code",
   "execution_count": 22,
   "metadata": {
    "deletable": false,
    "nbgrader": {
     "checksum": "155baf230fd6deb5f6ccf93138fa3419",
     "grade": false,
     "grade_id": "cell-6a31440f9477f963",
     "locked": false,
     "schema_version": 1,
     "solution": true
    }
   },
   "outputs": [],
   "source": [
    "class PolicyNetwork(nn.Module):\n",
    "    \n",
    "    def __init__(self, num_hidden=128):\n",
    "        nn.Module.__init__(self)\n",
    "        self.l1 = nn.Linear(4, num_hidden)\n",
    "        self.do = nn.Dropout(p=0.6)\n",
    "        self.l2 = nn.Linear(num_hidden, 2)\n",
    "        self.sm = nn.LogSoftmax(dim=-1)\n",
    "\n",
    "    def forward(self, x):\n",
    "        x = self.l1(x)\n",
    "#         x = self.do(x)\n",
    "        x = torch.relu(x)\n",
    "        x = self.l2(x)\n",
    "        x = self.sm(x)\n",
    "        return x"
   ]
  },
  {
   "cell_type": "code",
   "execution_count": 18,
   "metadata": {
    "deletable": false,
    "editable": false,
    "nbgrader": {
     "checksum": "3cb94e04b03fa4b663bcf38a96ef656d",
     "grade": true,
     "grade_id": "cell-9d280fe6520edc91",
     "locked": true,
     "points": 1,
     "schema_version": 1,
     "solution": false
    }
   },
   "outputs": [
    {
     "name": "stdout",
     "output_type": "stream",
     "text": [
      "tensor([[0.4578, 0.5422],\n",
      "        [0.4657, 0.5343],\n",
      "        [0.4563, 0.5437],\n",
      "        [0.4634, 0.5366],\n",
      "        [0.4564, 0.5436],\n",
      "        [0.4725, 0.5275],\n",
      "        [0.4769, 0.5231],\n",
      "        [0.4834, 0.5166],\n",
      "        [0.4797, 0.5203],\n",
      "        [0.4618, 0.5382]], grad_fn=<ExpBackward>)\n"
     ]
    }
   ],
   "source": [
    "# Let's instantiate and test if it works\n",
    "num_hidden = 128\n",
    "torch.manual_seed(1234)\n",
    "model = PolicyNetwork(num_hidden)\n",
    "\n",
    "x = torch.rand(10, 4)\n",
    "\n",
    "log_p = model(x)\n",
    "\n",
    "# Does the outcome make sense?\n",
    "print(log_p.exp())\n"
   ]
  },
  {
   "cell_type": "markdown",
   "metadata": {
    "deletable": false,
    "editable": false,
    "nbgrader": {
     "checksum": "619c714e930c0d167304597d188f229b",
     "grade": false,
     "grade_id": "cell-35294ca4eda15b11",
     "locked": true,
     "schema_version": 1,
     "solution": false
    }
   },
   "source": [
    "### 2.2 Monte Carlo REINFORCE"
   ]
  },
  {
   "cell_type": "markdown",
   "metadata": {
    "deletable": false,
    "editable": false,
    "nbgrader": {
     "checksum": "93ed9cbcf70541f5a04709ee89a16e78",
     "grade": false,
     "grade_id": "cell-44f33e587542974d",
     "locked": true,
     "schema_version": 1,
     "solution": false
    }
   },
   "source": [
    "Now we will implement the *Monte Carlo* policy gradient algorithm. Remember from lab 1 that this means that we will estimate returns for states by sample episodes. Compared to DQN, this means that we do *not* perform an update step at every environment step, but only at the end of each episode. This means that we should generate an episode of data, compute the REINFORCE loss (which requires computing the returns) and then perform a gradient step.\n",
    "\n",
    "To help you, we already implemented a few functions that you can (but do not have to) use.\n",
    "\n",
    "* You can use `torch.multinomial` to sample from a categorical distribution.\n",
    "* The REINFORCE loss is defined as $- \\sum_t \\log \\pi_\\theta(a_t|s_t) G_t$, which means that you should compute the (discounted) return $G_t$ for all $t$. Make sure that you do this in **linear time**, otherwise your algorithm will be very slow! Note the - (minus) since you want to maximize return while you want to minimize the loss.\n",
    "* Importantly, you should **normalize the returns** (not the rewards!, e.g. subtract mean and divide by standard deviation within the episode) before computing the loss, or your estimator will have very high variance."
   ]
  },
  {
   "cell_type": "code",
   "execution_count": 19,
   "metadata": {
    "deletable": false,
    "nbgrader": {
     "checksum": "3b2c75181678fed25fcc7c8b39bb7de3",
     "grade": true,
     "grade_id": "cell-3f6e32c4931392bf",
     "locked": false,
     "points": 5,
     "schema_version": 1,
     "solution": true
    }
   },
   "outputs": [],
   "source": [
    "def select_action(model, state):\n",
    "    # Samples an action according to the probability distribution induced by the model\n",
    "    # Also returns the log_probability\n",
    "    \n",
    "    log_p = model(torch.FloatTensor(state).reshape(1, -1)).view(-1)\n",
    "    \n",
    "    action = torch.multinomial(torch.exp(log_p), 1).item()\n",
    "#     prob = torch.distributions.Categorical(torch.exp(log_p))\n",
    "#     action = prob.sample().item()\n",
    "    \n",
    "    return action, log_p[action]\n",
    "\n",
    "def run_episode(env, model):\n",
    "    \n",
    "    episode = []\n",
    "    \n",
    "    s = env.reset()\n",
    "    done = False\n",
    "    while not done:\n",
    "        a, log_p = select_action(model, s)\n",
    "        s_next, r, done, _ = env.step(a)\n",
    "        \n",
    "        episode.append((s, a, log_p, s_next, r))\n",
    "        s = s_next\n",
    "    \n",
    "    return episode\n",
    "\n",
    "def compute_reinforce_loss(episode, discount_factor):\n",
    "    # Compute the reinforce loss\n",
    "    # Make sure that your function runs in LINEAR TIME\n",
    "    # Don't forget to normalize your RETURNS (not rewards)\n",
    "    # Note that the rewards/returns should be maximized \n",
    "    # while the loss should be minimized so you need a - somewhere\n",
    "    \n",
    "    returns = []\n",
    "    log_ps = []\n",
    "    G = 0\n",
    "    for _, _, log_p, _, r in reversed(episode):\n",
    "        G = r + discount_factor * G\n",
    "        returns.append(G)\n",
    "        log_ps.append(log_p)\n",
    "        \n",
    "    log_ps = torch.stack(log_ps)\n",
    "    returns = torch.FloatTensor(returns)\n",
    "    returns -= returns.mean()\n",
    "    returns /= returns.std()\n",
    "    \n",
    "    loss = -1 * torch.sum(log_ps * returns)\n",
    "    return loss\n",
    "\n",
    "def run_episodes_policy_gradient(model, env, num_episodes, discount_factor, learn_rate):\n",
    "    \n",
    "    optimizer = optim.Adam(model.parameters(), learn_rate)\n",
    "    \n",
    "    episode_durations = []\n",
    "    for i in range(num_episodes):\n",
    "        \n",
    "        episode = run_episode(env, model)\n",
    "        loss = compute_reinforce_loss(episode, discount_factor)\n",
    "        \n",
    "        optimizer.zero_grad()\n",
    "        loss.backward()\n",
    "        optimizer.step()\n",
    "                           \n",
    "        if i % 20 == 0:\n",
    "            print(\"{2} Episode {0} finished after {1} steps\"\n",
    "                  .format(i, len(episode), '\\033[92m' if len(episode) >= 195 else '\\033[99m'))\n",
    "        episode_durations.append(len(episode))\n",
    "        \n",
    "    return episode_durations"
   ]
  },
  {
   "cell_type": "code",
   "execution_count": 22,
   "metadata": {},
   "outputs": [
    {
     "name": "stdout",
     "output_type": "stream",
     "text": [
      "\u001b[99m Episode 0 finished after 19 steps\n",
      "\u001b[99m Episode 20 finished after 13 steps\n",
      "\u001b[99m Episode 40 finished after 14 steps\n",
      "\u001b[99m Episode 60 finished after 14 steps\n",
      "\u001b[99m Episode 80 finished after 23 steps\n",
      "\u001b[99m Episode 100 finished after 13 steps\n",
      "\u001b[99m Episode 120 finished after 34 steps\n",
      "\u001b[99m Episode 140 finished after 13 steps\n",
      "\u001b[99m Episode 160 finished after 29 steps\n",
      "\u001b[99m Episode 180 finished after 17 steps\n",
      "\u001b[99m Episode 200 finished after 21 steps\n",
      "\u001b[99m Episode 220 finished after 62 steps\n",
      "\u001b[99m Episode 240 finished after 81 steps\n",
      "\u001b[99m Episode 260 finished after 71 steps\n",
      "\u001b[99m Episode 280 finished after 41 steps\n",
      "\u001b[99m Episode 300 finished after 19 steps\n",
      "\u001b[99m Episode 320 finished after 72 steps\n",
      "\u001b[99m Episode 340 finished after 101 steps\n",
      "\u001b[99m Episode 360 finished after 87 steps\n",
      "\u001b[99m Episode 380 finished after 69 steps\n",
      "\u001b[92m Episode 400 finished after 200 steps\n",
      "\u001b[92m Episode 420 finished after 200 steps\n",
      "\u001b[92m Episode 440 finished after 200 steps\n",
      "\u001b[99m Episode 460 finished after 110 steps\n",
      "\u001b[92m Episode 480 finished after 200 steps\n",
      "\u001b[92m Episode 500 finished after 200 steps\n",
      "\u001b[92m Episode 520 finished after 200 steps\n",
      "\u001b[99m Episode 540 finished after 144 steps\n",
      "\u001b[92m Episode 560 finished after 200 steps\n",
      "\u001b[92m Episode 580 finished after 200 steps\n",
      "\u001b[92m Episode 600 finished after 200 steps\n",
      "\u001b[92m Episode 620 finished after 200 steps\n",
      "\u001b[92m Episode 640 finished after 200 steps\n",
      "\u001b[99m Episode 660 finished after 132 steps\n",
      "\u001b[99m Episode 680 finished after 186 steps\n",
      "\u001b[99m Episode 700 finished after 127 steps\n",
      "\u001b[92m Episode 720 finished after 200 steps\n",
      "\u001b[92m Episode 740 finished after 200 steps\n",
      "\u001b[92m Episode 760 finished after 200 steps\n",
      "\u001b[92m Episode 780 finished after 200 steps\n",
      "\u001b[92m Episode 800 finished after 200 steps\n",
      "\u001b[99m Episode 820 finished after 139 steps\n",
      "\u001b[92m Episode 840 finished after 200 steps\n",
      "\u001b[92m Episode 860 finished after 200 steps\n",
      "\u001b[92m Episode 880 finished after 200 steps\n",
      "\u001b[92m Episode 900 finished after 200 steps\n",
      "\u001b[92m Episode 920 finished after 200 steps\n",
      "\u001b[92m Episode 940 finished after 200 steps\n",
      "\u001b[92m Episode 960 finished after 200 steps\n",
      "\u001b[92m Episode 980 finished after 200 steps\n"
     ]
    },
    {
     "data": {
      "text/plain": [
       "<matplotlib.legend.Legend at 0x7fd6ca6b5f98>"
      ]
     },
     "execution_count": 22,
     "metadata": {},
     "output_type": "execute_result"
    },
    {
     "data": {
      "image/png": "[encoded data removed]",
      "text/plain": [
       "<Figure size 432x288 with 1 Axes>"
      ]
     },
     "metadata": {
      "needs_background": "light"
     },
     "output_type": "display_data"
    }
   ],
   "source": [
    "# Feel free to play around with the parameters!\n",
    "num_episodes = 1000\n",
    "discount_factor = 0.99\n",
    "learn_rate = 0.001\n",
    "seed = 42\n",
    "random.seed(seed)\n",
    "torch.manual_seed(seed)\n",
    "env.seed(seed)\n",
    "\n",
    "model = PolicyNetwork(num_hidden)\n",
    "\n",
    "episode_durations_policy_gradient = run_episodes_policy_gradient(\n",
    "    model, env, num_episodes, discount_factor, learn_rate)\n",
    "\n",
    "plt.plot(smooth(episode_durations_policy_gradient, 10))\n",
    "plt.title('Episode durations per episode')\n",
    "plt.legend(['Policy gradient'])"
   ]
  },
  {
   "cell_type": "markdown",
   "metadata": {
    "deletable": false,
    "editable": false,
    "nbgrader": {
     "checksum": "b9fe846472bc09094ba671593c4b40b4",
     "grade": false,
     "grade_id": "cell-af9c49b396393dc0",
     "locked": true,
     "schema_version": 1,
     "solution": false
    }
   },
   "source": [
    "---\n",
    "## Actor-Critic (7 points)"
   ]
  },
  {
   "cell_type": "markdown",
   "metadata": {
    "deletable": false,
    "editable": false,
    "nbgrader": {
     "checksum": "ff32c0931b08aa9a5719639105a7b3e5",
     "grade": false,
     "grade_id": "cell-7eabad968ce02adf",
     "locked": true,
     "schema_version": 1,
     "solution": false
    }
   },
   "source": [
    "We will now implement the basic Actor-Critic algorithm, which means that instead of using Monte Carlo returns, we will bootstrap (1-step) returns using a critic (state-value function), so $G_t = R_t + \\gamma V(s_{t+1})$. What happens at the end of the episode? Hint: you may find it useful to have a look at the `train` method for DQN.\n",
    "\n",
    "* Note that we now have to train an actor (policy) and a critic (value network).\n",
    "* We will do this using a single optimizer, which means that we have to sum the loss for the actor and the critic into a single loss term. \n",
    "* For the critic, use the `smooth_l1_loss` like with DQN.\n",
    "* For the actor, the loss should be the REINFORCE loss, but with two differences:\n",
    "    - Instead of the Monte Carlo return $G_t$, use the one step return $G_{t:t+1}$ where the critic is used to bootstrap the value of $s_{t+1}$.\n",
    "    - Instead of normalizing the returns (which can be viewed as using the average as baseline and then scaling), we will use the estimated value $V(s_t)$ as baseline.\n",
    "* **Important**: note that you cannot use `with torch.no_grad():` to compute the critic value (for the current state) since you need gradients to train the critic! However, when using the value to compute the actor loss, you do not want to get gradients of the critic parameters w.r.t. the actor loss (e.g. your target and baseline must be constant)! Therefore, use `v.detach()` on the output of the critic when it is used in the loss term for the actor, this will make sure the value(s) are treated as a constant and no gradients will be backpropagated."
   ]
  },
  {
   "cell_type": "code",
   "execution_count": 31,
   "metadata": {
    "deletable": false,
    "nbgrader": {
     "checksum": "3b649f137296d2c6e9ac367781f1b04e",
     "grade": true,
     "grade_id": "cell-5a7326fd2ab9349c",
     "locked": false,
     "points": 5,
     "schema_version": 1,
     "solution": true
    },
    "scrolled": true
   },
   "outputs": [
    {
     "name": "stdout",
     "output_type": "stream",
     "text": [
      "Step 0, finished 0 / 10000 episodes, average episode duration of last 100 episodes: nan\n",
      "Step 100, finished 82 / 10000 episodes, average episode duration of last 100 episodes: 18.01219512195122\n",
      "Step 200, finished 178 / 10000 episodes, average episode duration of last 100 episodes: 16.59\n",
      "Step 300, finished 273 / 10000 episodes, average episode duration of last 100 episodes: 17.42\n",
      "Step 400, finished 353 / 10000 episodes, average episode duration of last 100 episodes: 18.91\n",
      "Step 500, finished 401 / 10000 episodes, average episode duration of last 100 episodes: 24.83\n",
      "Step 600, finished 444 / 10000 episodes, average episode duration of last 100 episodes: 33.29\n",
      "Step 700, finished 478 / 10000 episodes, average episode duration of last 100 episodes: 37.95\n",
      "Step 800, finished 509 / 10000 episodes, average episode duration of last 100 episodes: 43.04\n",
      "Step 900, finished 542 / 10000 episodes, average episode duration of last 100 episodes: 46.68\n",
      "Step 1000, finished 571 / 10000 episodes, average episode duration of last 100 episodes: 50.91\n",
      "Step 1100, finished 596 / 10000 episodes, average episode duration of last 100 episodes: 53.57\n",
      "Step 1200, finished 619 / 10000 episodes, average episode duration of last 100 episodes: 55.54\n",
      "Step 1300, finished 638 / 10000 episodes, average episode duration of last 100 episodes: 62.53\n",
      "Step 1400, finished 661 / 10000 episodes, average episode duration of last 100 episodes: 68.16\n",
      "Step 1500, finished 687 / 10000 episodes, average episode duration of last 100 episodes: 69.94\n",
      "Step 1600, finished 706 / 10000 episodes, average episode duration of last 100 episodes: 72.47\n",
      "Step 1700, finished 722 / 10000 episodes, average episode duration of last 100 episodes: 76.07\n",
      "Step 1800, finished 738 / 10000 episodes, average episode duration of last 100 episodes: 78.31\n",
      "Step 1900, finished 755 / 10000 episodes, average episode duration of last 100 episodes: 81.51\n",
      "Step 2000, finished 769 / 10000 episodes, average episode duration of last 100 episodes: 86.62\n",
      "Step 2100, finished 790 / 10000 episodes, average episode duration of last 100 episodes: 93.1\n",
      "Step 2200, finished 802 / 10000 episodes, average episode duration of last 100 episodes: 95.53\n",
      "Step 2300, finished 814 / 10000 episodes, average episode duration of last 100 episodes: 101.65\n",
      "Step 2400, finished 825 / 10000 episodes, average episode duration of last 100 episodes: 105.92\n",
      "Step 2500, finished 837 / 10000 episodes, average episode duration of last 100 episodes: 109.59\n",
      "Step 2600, finished 846 / 10000 episodes, average episode duration of last 100 episodes: 115.58\n",
      "Step 2700, finished 856 / 10000 episodes, average episode duration of last 100 episodes: 122.27\n",
      "Step 2800, finished 863 / 10000 episodes, average episode duration of last 100 episodes: 126.79\n",
      "Step 2900, finished 876 / 10000 episodes, average episode duration of last 100 episodes: 135.77\n",
      "Step 3000, finished 891 / 10000 episodes, average episode duration of last 100 episodes: 141.99\n",
      "Step 3100, finished 897 / 10000 episodes, average episode duration of last 100 episodes: 145.92\n",
      "Step 3200, finished 908 / 10000 episodes, average episode duration of last 100 episodes: 152.68\n",
      "Step 3300, finished 918 / 10000 episodes, average episode duration of last 100 episodes: 154.14\n",
      "Step 3400, finished 926 / 10000 episodes, average episode duration of last 100 episodes: 156.63\n",
      "Step 3500, finished 937 / 10000 episodes, average episode duration of last 100 episodes: 160.39\n",
      "Step 3600, finished 946 / 10000 episodes, average episode duration of last 100 episodes: 161.89\n",
      "Step 3700, finished 955 / 10000 episodes, average episode duration of last 100 episodes: 162.85\n",
      "Step 3800, finished 964 / 10000 episodes, average episode duration of last 100 episodes: 162.27\n",
      "Step 3900, finished 971 / 10000 episodes, average episode duration of last 100 episodes: 163.45\n",
      "Step 4000, finished 981 / 10000 episodes, average episode duration of last 100 episodes: 169.25\n",
      "Step 4100, finished 992 / 10000 episodes, average episode duration of last 100 episodes: 171.71\n",
      "Step 4200, finished 1000 / 10000 episodes, average episode duration of last 100 episodes: 172.27\n",
      "Step 4300, finished 1011 / 10000 episodes, average episode duration of last 100 episodes: 169.6\n",
      "Step 4400, finished 1017 / 10000 episodes, average episode duration of last 100 episodes: 171.84\n",
      "Step 4500, finished 1029 / 10000 episodes, average episode duration of last 100 episodes: 173.52\n",
      "Step 4600, finished 1033 / 10000 episodes, average episode duration of last 100 episodes: 175.47\n",
      "Step 4700, finished 1045 / 10000 episodes, average episode duration of last 100 episodes: 178.36\n",
      "Step 4800, finished 1049 / 10000 episodes, average episode duration of last 100 episodes: 178.55\n",
      "Step 4900, finished 1063 / 10000 episodes, average episode duration of last 100 episodes: 179.99\n",
      "Step 5000, finished 1071 / 10000 episodes, average episode duration of last 100 episodes: 176.31\n",
      "Step 5100, finished 1080 / 10000 episodes, average episode duration of last 100 episodes: 175.39\n",
      "Step 5200, finished 1095 / 10000 episodes, average episode duration of last 100 episodes: 177.19\n",
      "Step 5300, finished 1099 / 10000 episodes, average episode duration of last 100 episodes: 175.33\n",
      "Step 5400, finished 1112 / 10000 episodes, average episode duration of last 100 episodes: 176.99\n",
      "Step 5500, finished 1116 / 10000 episodes, average episode duration of last 100 episodes: 176.53\n",
      "Step 5600, finished 1130 / 10000 episodes, average episode duration of last 100 episodes: 175.66\n",
      "Step 5700, finished 1132 / 10000 episodes, average episode duration of last 100 episodes: 175.66\n",
      "Step 5800, finished 1146 / 10000 episodes, average episode duration of last 100 episodes: 175.62\n",
      "Step 5900, finished 1149 / 10000 episodes, average episode duration of last 100 episodes: 174.98\n",
      "Step 6000, finished 1162 / 10000 episodes, average episode duration of last 100 episodes: 176.77\n",
      "Step 6100, finished 1165 / 10000 episodes, average episode duration of last 100 episodes: 177.54\n",
      "Step 6200, finished 1178 / 10000 episodes, average episode duration of last 100 episodes: 183.74\n",
      "Step 6300, finished 1181 / 10000 episodes, average episode duration of last 100 episodes: 184.51\n",
      "Step 6400, finished 1194 / 10000 episodes, average episode duration of last 100 episodes: 188.06\n",
      "Step 6500, finished 1197 / 10000 episodes, average episode duration of last 100 episodes: 188.67\n",
      "Step 6600, finished 1210 / 10000 episodes, average episode duration of last 100 episodes: 193.58\n",
      "Step 6700, finished 1215 / 10000 episodes, average episode duration of last 100 episodes: 192.82\n",
      "Step 6800, finished 1229 / 10000 episodes, average episode duration of last 100 episodes: 194.3\n",
      "Step 6900, finished 1239 / 10000 episodes, average episode duration of last 100 episodes: 189.38\n",
      "Step 7000, finished 1245 / 10000 episodes, average episode duration of last 100 episodes: 188.15\n",
      "Step 7100, finished 1256 / 10000 episodes, average episode duration of last 100 episodes: 187.8\n",
      "Step 7200, finished 1261 / 10000 episodes, average episode duration of last 100 episodes: 187.72\n",
      "Step 7300, finished 1272 / 10000 episodes, average episode duration of last 100 episodes: 187.16\n",
      "Step 7400, finished 1277 / 10000 episodes, average episode duration of last 100 episodes: 187.02\n",
      "Step 7500, finished 1288 / 10000 episodes, average episode duration of last 100 episodes: 186.51\n",
      "Step 7600, finished 1293 / 10000 episodes, average episode duration of last 100 episodes: 186.71\n",
      "Step 7700, finished 1304 / 10000 episodes, average episode duration of last 100 episodes: 187.55\n",
      "Step 7800, finished 1309 / 10000 episodes, average episode duration of last 100 episodes: 187.63\n",
      "Step 7900, finished 1320 / 10000 episodes, average episode duration of last 100 episodes: 188.68\n",
      "Step 8000, finished 1325 / 10000 episodes, average episode duration of last 100 episodes: 188.69\n",
      "Step 8100, finished 1336 / 10000 episodes, average episode duration of last 100 episodes: 194.73\n",
      "Step 8200, finished 1343 / 10000 episodes, average episode duration of last 100 episodes: 195.69\n",
      "Step 8300, finished 1353 / 10000 episodes, average episode duration of last 100 episodes: 195.24\n",
      "Step 8400, finished 1361 / 10000 episodes, average episode duration of last 100 episodes: 194.1\n",
      "Step 8500, finished 1369 / 10000 episodes, average episode duration of last 100 episodes: 194.12\n"
     ]
    },
    {
     "name": "stdout",
     "output_type": "stream",
     "text": [
      "Step 8600, finished 1378 / 10000 episodes, average episode duration of last 100 episodes: 193.51\n",
      "Step 8700, finished 1386 / 10000 episodes, average episode duration of last 100 episodes: 193.29\n",
      "Step 8800, finished 1394 / 10000 episodes, average episode duration of last 100 episodes: 193.24\n",
      "Step 8900, finished 1402 / 10000 episodes, average episode duration of last 100 episodes: 193.24\n",
      "Step 9000, finished 1411 / 10000 episodes, average episode duration of last 100 episodes: 192.56\n",
      "Step 9100, finished 1418 / 10000 episodes, average episode duration of last 100 episodes: 191.8\n",
      "Step 9200, finished 1428 / 10000 episodes, average episode duration of last 100 episodes: 191.23\n",
      "Step 9300, finished 1437 / 10000 episodes, average episode duration of last 100 episodes: 188.48\n",
      "Step 9400, finished 1448 / 10000 episodes, average episode duration of last 100 episodes: 186.98\n",
      "Step 9500, finished 1454 / 10000 episodes, average episode duration of last 100 episodes: 186.32\n",
      "Step 9600, finished 1465 / 10000 episodes, average episode duration of last 100 episodes: 187.34\n",
      "Step 9700, finished 1472 / 10000 episodes, average episode duration of last 100 episodes: 187.36\n",
      "Step 9800, finished 1482 / 10000 episodes, average episode duration of last 100 episodes: 187.31\n",
      "Step 9900, finished 1488 / 10000 episodes, average episode duration of last 100 episodes: 187.94\n"
     ]
    }
   ],
   "source": [
    "class ValueNetwork(nn.Module):\n",
    "    \n",
    "    def __init__(self, num_hidden=128):\n",
    "        nn.Module.__init__(self)\n",
    "        self.l1 = nn.Linear(4, num_hidden)\n",
    "        self.l2 = nn.Linear(num_hidden, 1)\n",
    "\n",
    "    def forward(self, x):\n",
    "        x = self.l1(x)\n",
    "        x = torch.relu(x)\n",
    "        x = self.l2(x)\n",
    "        return x.view(-1)\n",
    "\n",
    "def select_action(model, state):\n",
    "    # Samples an action according to the probability distribution induced by the model\n",
    "    # Also returns the log_probability\n",
    "    \n",
    "    log_p = model(torch.FloatTensor(state))\n",
    "    \n",
    "    action = torch.multinomial(torch.exp(log_p), 1)\n",
    "    \n",
    "    log_p = log_p.gather(1, action).squeeze()\n",
    "    action = action.squeeze()\n",
    "    \n",
    "    # action and log_p should be a 1 dimensional vector\n",
    "    n = len(state)\n",
    "    assert action.size() == (n, )\n",
    "    assert log_p.size() == (n, )\n",
    "    return action, log_p\n",
    "\n",
    "def train_actor_critic(actor, critic, optimizer, log_ps, state, reward, next_state, done, discount_factor):\n",
    "    \n",
    "    value = critic(state)\n",
    "    \n",
    "    # target = R + gamma * V(S')\n",
    "    dones = done.type(torch.FloatTensor).view(-1)\n",
    "    reward = reward.view(-1)\n",
    "    next_values = critic(next_state)\n",
    "    target = reward + discount_factor * next_values * (1 - dones)\n",
    "    \n",
    "    err = target - value\n",
    "    value_loss = F.smooth_l1_loss(err, torch.zeros_like(err))\n",
    "    \n",
    "    # instead of \"target\", we use \"err = target - value\" since the value of the\n",
    "    # current state is used as baseline\n",
    "    actor_loss = -1 * (err.detach() * log_ps)\n",
    "    actor_loss = actor_loss.mean() \n",
    "    \n",
    "    # The loss is composed of the value_loss (for the critic) and the actor_loss\n",
    "    loss = actor_loss + value_loss*0.5\n",
    "\n",
    "    # backpropagation of loss to Neural Network (PyTorch magic)\n",
    "    optimizer.zero_grad()\n",
    "    loss.backward()\n",
    "    torch.nn.utils.clip_grad_norm_(actor.parameters(), 1)\n",
    "    torch.nn.utils.clip_grad_norm_(critic.parameters(), 1)\n",
    "    optimizer.step()\n",
    "    \n",
    "    return loss.item(), value_loss.item(), actor_loss.item()  # Returns a Python scalar, and releases history (similar to .detach())\n",
    "\n",
    "def run_episodes_actor_critic(actor, critic, envs, max_episodes, max_steps, discount_factor, actor_learn_rate, critic_learn_rate):\n",
    "    \n",
    "    # We can use a single optimizer for both the actor and the critic, even with separate learn rates\n",
    "    optimizer = optim.Adam([\n",
    "        {'params': actor.parameters(), 'lr': actor_learn_rate},\n",
    "        {'params': critic.parameters(), 'lr': critic_learn_rate}\n",
    "    ])\n",
    "    \n",
    "    episode_durations = []\n",
    "    state = torch.tensor([env.reset() for env in envs], dtype=torch.float)\n",
    "    current_episode_lengths = torch.zeros(len(envs), dtype=torch.int64)\n",
    "    step_losses = []  # Keep track of losses for plotting\n",
    "    for i in range(max_steps):\n",
    "        \n",
    "        if i % 100 == 0:\n",
    "            print(f\"Step {i}, finished {len(episode_durations)} / {max_episodes} episodes, average episode duration of last 100 episodes: {np.mean(episode_durations[-100:])}\")\n",
    "        \n",
    "        action, log_ps = select_action(actor, state)\n",
    "        next_state, reward, done, _ = zip(*[env.step(a.item()) for env, a in zip(envs, action)])\n",
    "        \n",
    "        next_state = torch.tensor(next_state, dtype=torch.float)\n",
    "        reward = torch.tensor(reward, dtype=torch.float)\n",
    "        done = torch.tensor(done, dtype=torch.uint8)  # Boolean\n",
    "        current_episode_lengths += 1\n",
    "        \n",
    "        losses = train_actor_critic(actor, critic, optimizer, log_ps, state, reward, next_state, done, discount_factor)\n",
    "        \n",
    "        step_losses.append(losses)\n",
    "        \n",
    "        # Reset envs that are done\n",
    "        next_state = torch.tensor([\n",
    "            env.reset() if d else s.tolist()\n",
    "            for env, s, d in zip(envs, next_state, done)\n",
    "        ], dtype=torch.float)\n",
    "        \n",
    "        episode_durations.extend(current_episode_lengths[done])\n",
    "        current_episode_lengths[done] = 0  # PyTorch can also work in place\n",
    "        \n",
    "        state = next_state\n",
    "        \n",
    "        # Check if we have finished sufficiently many episodes\n",
    "        if len(episode_durations) >= max_episodes:\n",
    "            break\n",
    "        \n",
    "    return episode_durations[:max_episodes], step_losses  # In case we want exactly num_episodes returned\n",
    "\n",
    "\n",
    "num_envs = 16\n",
    "max_steps = 10000\n",
    "max_episodes = 10000\n",
    "discount_factor = 0.8\n",
    "lr_actor = 5e-4\n",
    "lr_critic = 5e-4\n",
    "seed = 42\n",
    "\n",
    "actor = PolicyNetwork(num_hidden)\n",
    "critic = ValueNetwork(num_hidden)\n",
    "\n",
    "envs = [gym.envs.make(\"CartPole-v0\") for i in range(num_envs)]\n",
    "\n",
    "for i, env in enumerate(envs):\n",
    "    env.seed(seed + i)\n",
    "torch.manual_seed(seed)\n",
    "\n",
    "episode_durations, step_losses = run_episodes_actor_critic(actor, critic, envs, max_episodes, max_steps, discount_factor, lr_actor, lr_critic)"
   ]
  },
  {
   "cell_type": "code",
   "execution_count": 32,
   "metadata": {
    "scrolled": false
   },
   "outputs": [
    {
     "data": {
      "image/png": "[encoded data removed]",
      "text/plain": [
       "<Figure size 432x288 with 1 Axes>"
      ]
     },
     "metadata": {
      "needs_background": "light"
     },
     "output_type": "display_data"
    },
    {
     "data": {
      "image/png": "[encoded data removed]",
      "text/plain": [
       "<Figure size 432x288 with 1 Axes>"
      ]
     },
     "metadata": {
      "needs_background": "light"
     },
     "output_type": "display_data"
    },
    {
     "data": {
      "image/png": "[encoded data removed]",
      "text/plain": [
       "<Figure size 432x288 with 1 Axes>"
      ]
     },
     "metadata": {
      "needs_background": "light"
     },
     "output_type": "display_data"
    }
   ],
   "source": [
    "plt.plot(smooth(episode_durations, 20))\n",
    "plt.title('Episode durations')\n",
    "plt.show()\n",
    "loss, v_loss, a_loss = zip(*step_losses)\n",
    "\n",
    "plt.plot(smooth(v_loss, 100))\n",
    "plt.title('Value loss')\n",
    "plt.show()\n",
    "plt.plot(smooth(a_loss, 100))\n",
    "plt.title('Actor loss')\n",
    "plt.show()"
   ]
  },
  {
   "cell_type": "markdown",
   "metadata": {
    "deletable": false,
    "editable": false,
    "nbgrader": {
     "checksum": "de8c4cba2ebd1a8bba2236f92a0b550c",
     "grade": false,
     "grade_id": "cell-8d15d4c9c0310bec",
     "locked": true,
     "schema_version": 1,
     "solution": false
    }
   },
   "source": [
    "What is the difficulty of training AC algorithms? What could you try to do to overcome these difficulties? Hint: look at some online implementations."
   ]
  },
  {
   "cell_type": "markdown",
   "metadata": {
    "deletable": false,
    "nbgrader": {
     "checksum": "1e51e82a7730101dfd07b2f0e470d1b4",
     "grade": true,
     "grade_id": "cell-f68c6134a9df40b9",
     "locked": false,
     "points": 2,
     "schema_version": 1,
     "solution": true
    }
   },
   "source": [
    "# TODO: Answer Here"
   ]
  },
  {
   "cell_type": "markdown",
   "metadata": {
    "deletable": false,
    "editable": false,
    "nbgrader": {
     "checksum": "5947c1e643f533003715ae8da659af9e",
     "grade": false,
     "grade_id": "cell-ad1138b69e6728a0",
     "locked": true,
     "schema_version": 1,
     "solution": false
    }
   },
   "source": [
    "## Deep Reinforcement Learning (5 bonus points)\n",
    "Note that so far we used the state variables as input. However, the true power of Deep Learning is that we can directly learn from raw inputs, e.g. we can learn to balance the cart pole *by just looking at the screen*. This probably means that you need a deep(er) (convolutional) network, as well as tweaking some parameters, running for more iterations (perhaps on GPU) and do other tricks to stabilize learning. Can you get this to work? This will earn you bonus points!\n",
    "\n",
    "Hints:\n",
    "* You may want to use [Google Colab](https://colab.research.google.com/) such that you can benefit from GPU acceleration.\n",
    "* Even if you don't use Colab, save the weights of your final model and load it in the code here (see example below). Hand in the model file with the .ipynb in a .zip. We likely won't be able to run your training code during grading!\n",
    "* To run the code below, you need to install `torchvision`, for this uncomment the two lines in the cell below or run the command in a terminal. Note: you may need to restart the terminal after installing.\n",
    "* Preprocessing is already done for you, and the observation is the difference between two consequtive frames such that the model can 'see' (angular) speed from a single image. Now do you see why we (sometimes) use the word observation (and not state)?"
   ]
  },
  {
   "cell_type": "code",
   "execution_count": 14,
   "metadata": {},
   "outputs": [],
   "source": [
    "# %%bash\n",
    "# conda install torchvision -c pytorch"
   ]
  },
  {
   "cell_type": "code",
   "execution_count": 13,
   "metadata": {
    "deletable": false,
    "editable": false,
    "nbgrader": {
     "checksum": "f660e1484fe2bf60d66467326eacb1ba",
     "grade": false,
     "grade_id": "cell-9c9dfa80827c5680",
     "locked": true,
     "schema_version": 1,
     "solution": false
    }
   },
   "outputs": [
    {
     "data": {
      "image/png": "[encoded data removed]",
      "text/plain": [
       "<Figure size 432x288 with 1 Axes>"
      ]
     },
     "metadata": {
      "needs_background": "light"
     },
     "output_type": "display_data"
    },
    {
     "data": {
      "image/png": "[encoded data removed]",
      "text/plain": [
       "<Figure size 432x288 with 1 Axes>"
      ]
     },
     "metadata": {
      "needs_background": "light"
     },
     "output_type": "display_data"
    }
   ],
   "source": [
    "import torchvision.transforms as T\n",
    "from PIL import Image\n",
    "\n",
    "\n",
    "resize = T.Compose([T.ToPILImage(),\n",
    "                    T.Resize(40, interpolation=Image.CUBIC),\n",
    "                    T.ToTensor()])\n",
    "\n",
    "class CartPoleRawEnv(gym.Env):\n",
    "    \n",
    "    def __init__(self, *args, **kwargs):\n",
    "        self._env = gym.make('CartPole-v0', *args, **kwargs)  #.unwrapped\n",
    "        self.action_space = self._env.action_space\n",
    "        screen_height, screen_width = 40, 80  # TODO\n",
    "        self.observation_space = gym.spaces.Box(\n",
    "            low=0, high=255, \n",
    "            shape=(screen_height, screen_width, 3), dtype=np.uint8)\n",
    "    \n",
    "    def seed(self, seed=None):\n",
    "        return self._env.seed(seed)\n",
    "    \n",
    "    def reset(self):\n",
    "        s = self._env.reset()\n",
    "        self.prev_screen = self.screen = self.get_screen()\n",
    "        return self._get_observation()\n",
    "    \n",
    "    def step(self, action):\n",
    "        s, r, done, info = self._env.step(action)\n",
    "        self.prev_screen = self.screen\n",
    "        self.screen = self.get_screen()\n",
    "        return self._get_observation(), r, done, info\n",
    "    \n",
    "    def _get_observation(self):\n",
    "        return self.screen - self.prev_screen\n",
    "    \n",
    "    def _get_cart_location(self, screen_width):\n",
    "        _env = self._env.unwrapped\n",
    "        world_width = _env.x_threshold * 2\n",
    "        scale = screen_width / world_width\n",
    "        return int(_env.state[0] * scale + screen_width / 2.0)  # MIDDLE OF CART\n",
    "\n",
    "    def get_screen(self):\n",
    "        screen = self._env.unwrapped.render(mode='rgb_array').transpose(\n",
    "            (2, 0, 1))  # transpose into torch order (CHW)\n",
    "        # Strip off the top and bottom of the screen\n",
    "        _, screen_height, screen_width = screen.shape\n",
    "        screen = screen[:, screen_height * 4 // 10:screen_height * 8 // 10]\n",
    "        view_width = screen_height * 8 // 10\n",
    "        cart_location = self._get_cart_location(screen_width)\n",
    "        if cart_location < view_width // 2:\n",
    "            slice_range = slice(view_width)\n",
    "        elif cart_location > (screen_width - view_width // 2):\n",
    "            slice_range = slice(-view_width, None)\n",
    "        else:\n",
    "            slice_range = slice(cart_location - view_width // 2,\n",
    "                                cart_location + view_width // 2)\n",
    "        # Strip off the edges, so that we have a square image centered on a cart\n",
    "        screen = screen[:, :, slice_range]\n",
    "        # Convert to float, rescare, convert to torch tensor\n",
    "        # (this doesn't require a copy)\n",
    "        screen = np.ascontiguousarray(screen, dtype=np.float32) / 255\n",
    "        screen = torch.from_numpy(screen)\n",
    "        # Resize, and add a batch dimension (BCHW)\n",
    "        #return screen.unsqueeze(0).to(device)\n",
    "        return resize(screen).unsqueeze(0)\n",
    "    \n",
    "    def close(self):\n",
    "        return self._env.close()\n",
    "\n",
    "raw_env = CartPoleRawEnv()\n",
    "s = raw_env.reset()\n",
    "\n",
    "# \n",
    "s, r, done, _ = raw_env.step(env.action_space.sample())\n",
    "\n",
    "raw_env.reset()\n",
    "plt.figure()\n",
    "plt.imshow(raw_env.get_screen().cpu().squeeze(0).permute(1, 2, 0).numpy(),\n",
    "           interpolation='none')\n",
    "plt.title('Example extracted screen')\n",
    "plt.show()\n",
    "\n",
    "# Observations are (-1, 1) while we need to plot (0, 1) so show (rgb + 1) / 2\n",
    "plt.figure()\n",
    "plt.imshow((s.cpu().squeeze(0).permute(1, 2, 0).numpy() + 1) / 2,\n",
    "           interpolation='none')\n",
    "plt.title('Example observation')\n",
    "plt.show()\n",
    "raw_env.close()"
   ]
  },
  {
   "cell_type": "code",
   "execution_count": null,
   "metadata": {},
   "outputs": [
    {
     "name": "stdout",
     "output_type": "stream",
     "text": [
      "Step 30, finished 12 / 10000 episodes. Last 30 episodes:\n",
      "\t\t\tavg episode duration: 18.75\n",
      "\t\t\tmax episode duration: 30\n",
      "\t\tAvg Loss. Total: 0.5699072301387786; Actor: 0.465696515639623; Critic: 0.3370589723189672\n",
      "Step 60, finished 25 / 10000 episodes. Last 30 episodes:\n",
      "\t\t\tavg episode duration: 21.76\n",
      "\t\t\tmax episode duration: 57\n",
      "\t\tAvg Loss. Total: 0.800053068002065; Actor: 0.6563565810521443; Critic: 0.4718747764825821\n",
      "Step 90, finished 47 / 10000 episodes. Last 30 episodes:\n",
      "\t\t\tavg episode duration: 20.933333333333334\n",
      "\t\t\tmax episode duration: 76\n",
      "\t\tAvg Loss. Total: 0.7507122536500295; Actor: 0.618131572008133; Critic: 0.4416464736064275\n",
      "Step 120, finished 65 / 10000 episodes. Last 30 episodes:\n",
      "\t\t\tavg episode duration: 18.866666666666667\n",
      "\t\t\tmax episode duration: 76\n",
      "\t\tAvg Loss. Total: 0.7708434462547302; Actor: 0.6329330106576284; Critic: 0.45437694489955904\n",
      "Step 150, finished 80 / 10000 episodes. Last 30 episodes:\n",
      "\t\t\tavg episode duration: 21.566666666666666\n",
      "\t\t\tmax episode duration: 52\n",
      "\t\tAvg Loss. Total: 0.7689405858516694; Actor: 0.6264227529366811; Critic: 0.45572921335697175\n",
      "Step 180, finished 95 / 10000 episodes. Last 30 episodes:\n",
      "\t\t\tavg episode duration: 24.2\n",
      "\t\t\tmax episode duration: 54\n",
      "\t\tAvg Loss. Total: 0.7761146008968354; Actor: 0.6313503891229629; Critic: 0.46043940683205925\n",
      "Step 210, finished 112 / 10000 episodes. Last 30 episodes:\n",
      "\t\t\tavg episode duration: 22.033333333333335\n",
      "\t\t\tmax episode duration: 54\n",
      "\t\tAvg Loss. Total: 0.7533176104227702; Actor: 0.620527050892512; Critic: 0.4430540810028712\n",
      "Step 240, finished 126 / 10000 episodes. Last 30 episodes:\n",
      "\t\t\tavg episode duration: 19.766666666666666\n",
      "\t\t\tmax episode duration: 42\n",
      "\t\tAvg Loss. Total: 0.771054458618164; Actor: 0.6269398927688599; Critic: 0.45758451024691266\n",
      "Step 270, finished 146 / 10000 episodes. Last 30 episodes:\n",
      "\t\t\tavg episode duration: 22.0\n",
      "\t\t\tmax episode duration: 71\n",
      "\t\tAvg Loss. Total: 0.7608295818169911; Actor: 0.62297669450442; Critic: 0.44934123059113823\n",
      "Step 300, finished 161 / 10000 episodes. Last 30 episodes:\n",
      "\t\t\tavg episode duration: 23.766666666666666\n",
      "\t\t\tmax episode duration: 71\n",
      "\t\tAvg Loss. Total: 0.775279313325882; Actor: 0.6343970815340678; Critic: 0.45808077454566953\n",
      "Step 330, finished 171 / 10000 episodes. Last 30 episodes:\n",
      "\t\t\tavg episode duration: 21.4\n",
      "\t\t\tmax episode duration: 44\n",
      "\t\tAvg Loss. Total: 0.7843509256839752; Actor: 0.641151773929596; Critic: 0.46377504368623096\n",
      "Step 360, finished 187 / 10000 episodes. Last 30 episodes:\n",
      "\t\t\tavg episode duration: 26.5\n",
      "\t\t\tmax episode duration: 68\n",
      "\t\tAvg Loss. Total: 0.7715603212515513; Actor: 0.6334770341714223; Critic: 0.45482180217901863\n",
      "Step 390, finished 202 / 10000 episodes. Last 30 episodes:\n",
      "\t\t\tavg episode duration: 26.066666666666666\n",
      "\t\t\tmax episode duration: 68\n",
      "\t\tAvg Loss. Total: 0.7892301122347514; Actor: 0.643779742717743; Critic: 0.4673402428627014\n",
      "Step 420, finished 215 / 10000 episodes. Last 30 episodes:\n",
      "\t\t\tavg episode duration: 24.666666666666668\n",
      "\t\t\tmax episode duration: 68\n",
      "\t\tAvg Loss. Total: 0.7710846165815989; Actor: 0.6313084840774537; Critic: 0.45543037752310433\n",
      "Step 450, finished 230 / 10000 episodes. Last 30 episodes:\n",
      "\t\t\tavg episode duration: 25.266666666666666\n",
      "\t\t\tmax episode duration: 68\n",
      "\t\tAvg Loss. Total: 0.7655368407567342; Actor: 0.6284144997596741; Critic: 0.45132958590984346\n",
      "Step 480, finished 250 / 10000 episodes. Last 30 episodes:\n",
      "\t\t\tavg episode duration: 22.166666666666668\n",
      "\t\t\tmax episode duration: 61\n",
      "\t\tAvg Loss. Total: 0.7388531466325124; Actor: 0.6068628430366516; Critic: 0.4354217251141866\n",
      "Step 510, finished 265 / 10000 episodes. Last 30 episodes:\n",
      "\t\t\tavg episode duration: 22.9\n",
      "\t\t\tmax episode duration: 52\n",
      "\t\tAvg Loss. Total: 0.7394897143046061; Actor: 0.605465163787206; Critic: 0.4367571294307709\n",
      "Step 540, finished 280 / 10000 episodes. Last 30 episodes:\n",
      "\t\t\tavg episode duration: 23.966666666666665\n",
      "\t\t\tmax episode duration: 52\n",
      "\t\tAvg Loss. Total: 0.7393050352732341; Actor: 0.6076823314030965; Critic: 0.43546386460463204\n",
      "Step 570, finished 297 / 10000 episodes. Last 30 episodes:\n",
      "\t\t\tavg episode duration: 22.833333333333332\n",
      "\t\t\tmax episode duration: 74\n",
      "\t\tAvg Loss. Total: 0.7043821632862091; Actor: 0.5742193957169851; Critic: 0.4172724634408951\n",
      "Step 600, finished 314 / 10000 episodes. Last 30 episodes:\n",
      "\t\t\tavg episode duration: 23.8\n",
      "\t\t\tmax episode duration: 74\n",
      "\t\tAvg Loss. Total: 0.7570703665415446; Actor: 0.6167385955651601; Critic: 0.4487010627985001\n",
      "Step 630, finished 329 / 10000 episodes. Last 30 episodes:\n",
      "\t\t\tavg episode duration: 21.266666666666666\n",
      "\t\t\tmax episode duration: 45\n",
      "\t\tAvg Loss. Total: 0.7313726822535197; Actor: 0.6007511218388876; Critic: 0.4309971203406652\n",
      "Step 660, finished 345 / 10000 episodes. Last 30 episodes:\n",
      "\t\t\tavg episode duration: 20.8\n",
      "\t\t\tmax episode duration: 48\n",
      "\t\tAvg Loss. Total: 0.7074077169100443; Actor: 0.5741412699222564; Critic: 0.4203370819489161\n",
      "Step 690, finished 364 / 10000 episodes. Last 30 episodes:\n",
      "\t\t\tavg episode duration: 21.666666666666668\n",
      "\t\t\tmax episode duration: 41\n",
      "\t\tAvg Loss. Total: 0.7239294906457265; Actor: 0.5926239689191183; Critic: 0.42761750320593517\n",
      "Step 720, finished 380 / 10000 episodes. Last 30 episodes:\n",
      "\t\t\tavg episode duration: 20.766666666666666\n",
      "\t\t\tmax episode duration: 41\n",
      "\t\tAvg Loss. Total: 0.7312284847100575; Actor: 0.5906941095987955; Critic: 0.43588143587112427\n",
      "Step 750, finished 396 / 10000 episodes. Last 30 episodes:\n",
      "\t\t\tavg episode duration: 22.166666666666668\n",
      "\t\t\tmax episode duration: 71\n",
      "\t\tAvg Loss. Total: 0.7287286758422852; Actor: 0.591816716392835; Critic: 0.4328203211228053\n",
      "Step 780, finished 415 / 10000 episodes. Last 30 episodes:\n",
      "\t\t\tavg episode duration: 22.233333333333334\n",
      "\t\t\tmax episode duration: 71\n",
      "\t\tAvg Loss. Total: 0.6971737921237946; Actor: 0.5765426476796468; Critic: 0.4089024643103282\n",
      "Step 810, finished 435 / 10000 episodes. Last 30 episodes:\n",
      "\t\t\tavg episode duration: 16.933333333333334\n",
      "\t\t\tmax episode duration: 33\n",
      "\t\tAvg Loss. Total: 0.6879732052485148; Actor: 0.5646848599116008; Critic: 0.40563077926635743\n",
      "Step 840, finished 450 / 10000 episodes. Last 30 episodes:\n",
      "\t\t\tavg episode duration: 20.033333333333335\n",
      "\t\t\tmax episode duration: 66\n",
      "\t\tAvg Loss. Total: 0.6850522975126903; Actor: 0.5532845079898834; Critic: 0.40841004451115925\n",
      "Step 870, finished 467 / 10000 episodes. Last 30 episodes:\n",
      "\t\t\tavg episode duration: 23.333333333333332\n",
      "\t\t\tmax episode duration: 66\n",
      "\t\tAvg Loss. Total: 0.674217015504837; Actor: 0.5504245032866796; Critic: 0.3990047653516134\n",
      "Step 900, finished 486 / 10000 episodes. Last 30 episodes:\n",
      "\t\t\tavg episode duration: 21.233333333333334\n",
      "\t\t\tmax episode duration: 42\n",
      "\t\tAvg Loss. Total: 0.6718405485153198; Actor: 0.5535874436299006; Critic: 0.39504682819048564\n",
      "Step 930, finished 501 / 10000 episodes. Last 30 episodes:\n",
      "\t\t\tavg episode duration: 21.433333333333334\n",
      "\t\t\tmax episode duration: 42\n",
      "\t\tAvg Loss. Total: 0.6670848449071248; Actor: 0.5450518320004145; Critic: 0.3945589244365692\n",
      "Step 960, finished 516 / 10000 episodes. Last 30 episodes:\n",
      "\t\t\tavg episode duration: 19.933333333333334\n",
      "\t\t\tmax episode duration: 43\n",
      "\t\tAvg Loss. Total: 0.7152721087137858; Actor: 0.580630632241567; Critic: 0.4249567965666453\n",
      "Step 990, finished 535 / 10000 episodes. Last 30 episodes:\n",
      "\t\t\tavg episode duration: 22.233333333333334\n",
      "\t\t\tmax episode duration: 65\n",
      "\t\tAvg Loss. Total: 0.6875721037387847; Actor: 0.5679596265157064; Critic: 0.4035922904809316\n",
      "Step 1020, finished 549 / 10000 episodes. Last 30 episodes:\n",
      "\t\t\tavg episode duration: 22.7\n",
      "\t\t\tmax episode duration: 53\n",
      "\t\tAvg Loss. Total: 0.7286566376686097; Actor: 0.5842434495687485; Critic: 0.4365349173545837\n",
      "Step 1050, finished 565 / 10000 episodes. Last 30 episodes:\n",
      "\t\t\tavg episode duration: 23.0\n",
      "\t\t\tmax episode duration: 61\n",
      "\t\tAvg Loss. Total: 0.7087231794993083; Actor: 0.5843794047832489; Critic: 0.4165334721406301\n",
      "Step 1080, finished 583 / 10000 episodes. Last 30 episodes:\n",
      "\t\t\tavg episode duration: 21.933333333333334\n",
      "\t\t\tmax episode duration: 79\n",
      "\t\tAvg Loss. Total: 0.6823984901110332; Actor: 0.5562558561563492; Critic: 0.4042705655097961\n",
      "Step 1110, finished 599 / 10000 episodes. Last 30 episodes:\n",
      "\t\t\tavg episode duration: 22.433333333333334\n",
      "\t\t\tmax episode duration: 79\n",
      "\t\tAvg Loss. Total: 0.6870220839977265; Actor: 0.5595936924219131; Critic: 0.40722524126370746\n",
      "Step 1140, finished 615 / 10000 episodes. Last 30 episodes:\n",
      "\t\t\tavg episode duration: 20.633333333333333\n",
      "\t\t\tmax episode duration: 42\n"
     ]
    },
    {
     "name": "stdout",
     "output_type": "stream",
     "text": [
      "\t\tAvg Loss. Total: 0.6951808234055837; Actor: 0.5655419399340947; Critic: 0.41240985492865245\n",
      "Step 1170, finished 632 / 10000 episodes. Last 30 episodes:\n",
      "\t\t\tavg episode duration: 20.8\n",
      "\t\t\tmax episode duration: 48\n",
      "\t\tAvg Loss. Total: 0.63165682554245; Actor: 0.5150492618481318; Critic: 0.3741321990887324\n",
      "Step 1200, finished 647 / 10000 episodes. Last 30 episodes:\n",
      "\t\t\tavg episode duration: 21.733333333333334\n",
      "\t\t\tmax episode duration: 58\n",
      "\t\tAvg Loss. Total: 0.6759719669818878; Actor: 0.5396684626738231; Critic: 0.4061377376317978\n",
      "Step 1230, finished 665 / 10000 episodes. Last 30 episodes:\n",
      "\t\t\tavg episode duration: 21.666666666666668\n",
      "\t\t\tmax episode duration: 58\n",
      "\t\tAvg Loss. Total: 0.6716877321402231; Actor: 0.5461045036713282; Critic: 0.3986354817946752\n",
      "Step 1260, finished 679 / 10000 episodes. Last 30 episodes:\n",
      "\t\t\tavg episode duration: 22.3\n",
      "\t\t\tmax episode duration: 53\n",
      "\t\tAvg Loss. Total: 0.6388321399688721; Actor: 0.5239425639311472; Critic: 0.37686085104942324\n",
      "Step 1290, finished 694 / 10000 episodes. Last 30 episodes:\n",
      "\t\t\tavg episode duration: 23.1\n",
      "\t\t\tmax episode duration: 43\n",
      "\t\tAvg Loss. Total: 0.7100765029589335; Actor: 0.5672686854998271; Critic: 0.426442156235377\n",
      "Step 1320, finished 714 / 10000 episodes. Last 30 episodes:\n",
      "\t\t\tavg episode duration: 22.833333333333332\n",
      "\t\t\tmax episode duration: 63\n",
      "\t\tAvg Loss. Total: 0.6553641398747762; Actor: 0.5382424016793569; Critic: 0.38624294598897296\n",
      "Step 1350, finished 725 / 10000 episodes. Last 30 episodes:\n",
      "\t\t\tavg episode duration: 22.066666666666666\n",
      "\t\t\tmax episode duration: 61\n",
      "\t\tAvg Loss. Total: 0.6724652628103892; Actor: 0.5371308734019598; Critic: 0.4038998275995255\n",
      "Step 1380, finished 736 / 10000 episodes. Last 30 episodes:\n",
      "\t\t\tavg episode duration: 22.566666666666666\n",
      "\t\t\tmax episode duration: 47\n",
      "\t\tAvg Loss. Total: 0.7275495330492655; Actor: 0.597984621922175; Critic: 0.4285572280486425\n",
      "Step 1410, finished 750 / 10000 episodes. Last 30 episodes:\n",
      "\t\t\tavg episode duration: 25.9\n",
      "\t\t\tmax episode duration: 79\n",
      "\t\tAvg Loss. Total: 0.692800122499466; Actor: 0.5659579267104466; Critic: 0.40982115467389424\n",
      "Step 1440, finished 764 / 10000 episodes. Last 30 episodes:\n",
      "\t\t\tavg episode duration: 27.333333333333332\n",
      "\t\t\tmax episode duration: 79\n",
      "\t\tAvg Loss. Total: 0.7344269076983134; Actor: 0.5858953018983205; Critic: 0.44147926370302837\n",
      "Step 1470, finished 777 / 10000 episodes. Last 30 episodes:\n",
      "\t\t\tavg episode duration: 28.8\n",
      "\t\t\tmax episode duration: 77\n",
      "\t\tAvg Loss. Total: 0.7387891014417013; Actor: 0.6090208162864049; Critic: 0.4342786967754364\n",
      "Step 1500, finished 793 / 10000 episodes. Last 30 episodes:\n",
      "\t\t\tavg episode duration: 26.7\n",
      "\t\t\tmax episode duration: 68\n",
      "\t\tAvg Loss. Total: 0.6902645587921142; Actor: 0.5499350885550182; Critic: 0.415297011534373\n",
      "Step 1530, finished 805 / 10000 episodes. Last 30 episodes:\n",
      "\t\t\tavg episode duration: 25.733333333333334\n",
      "\t\t\tmax episode duration: 56\n",
      "\t\tAvg Loss. Total: 0.6926521996657053; Actor: 0.5628663718700408; Critic: 0.41121901174386344\n",
      "Step 1560, finished 826 / 10000 episodes. Last 30 episodes:\n",
      "\t\t\tavg episode duration: 22.133333333333333\n",
      "\t\t\tmax episode duration: 48\n",
      "\t\tAvg Loss. Total: 0.679411401351293; Actor: 0.5594087858994802; Critic: 0.39970700442790985\n",
      "Step 1590, finished 842 / 10000 episodes. Last 30 episodes:\n",
      "\t\t\tavg episode duration: 19.2\n",
      "\t\t\tmax episode duration: 46\n",
      "\t\tAvg Loss. Total: 0.6233790477116903; Actor: 0.5080619106690089; Critic: 0.36934809188048046\n",
      "Step 1620, finished 860 / 10000 episodes. Last 30 episodes:\n",
      "\t\t\tavg episode duration: 21.366666666666667\n",
      "\t\t\tmax episode duration: 46\n",
      "\t\tAvg Loss. Total: 0.6560149967670441; Actor: 0.5425335784753164; Critic: 0.3847482035557429\n",
      "Step 1650, finished 878 / 10000 episodes. Last 30 episodes:\n",
      "\t\t\tavg episode duration: 18.866666666666667\n",
      "\t\t\tmax episode duration: 46\n",
      "\t\tAvg Loss. Total: 0.6195402006308238; Actor: 0.5005467742681503; Critic: 0.36926681250333787\n",
      "Step 1680, finished 896 / 10000 episodes. Last 30 episodes:\n",
      "\t\t\tavg episode duration: 21.333333333333332\n",
      "\t\t\tmax episode duration: 56\n",
      "\t\tAvg Loss. Total: 0.6345089773337046; Actor: 0.5291905452807745; Critic: 0.3699137051900228\n",
      "Step 1710, finished 908 / 10000 episodes. Last 30 episodes:\n",
      "\t\t\tavg episode duration: 24.566666666666666\n",
      "\t\t\tmax episode duration: 56\n",
      "\t\tAvg Loss. Total: 0.6527593672275543; Actor: 0.5299382885297139; Critic: 0.38779022097587584\n",
      "Step 1740, finished 924 / 10000 episodes. Last 30 episodes:\n",
      "\t\t\tavg episode duration: 25.566666666666666\n",
      "\t\t\tmax episode duration: 60\n",
      "\t\tAvg Loss. Total: 0.6732554137706757; Actor: 0.5488524774710337; Critic: 0.3988291730483373\n",
      "Step 1770, finished 941 / 10000 episodes. Last 30 episodes:\n",
      "\t\t\tavg episode duration: 22.9\n",
      "\t\t\tmax episode duration: 60\n",
      "\t\tAvg Loss. Total: 0.6923675835132599; Actor: 0.5555598785479864; Critic: 0.41458764175573987\n",
      "Step 1800, finished 957 / 10000 episodes. Last 30 episodes:\n",
      "\t\t\tavg episode duration: 21.166666666666668\n",
      "\t\t\tmax episode duration: 45\n",
      "\t\tAvg Loss. Total: 0.7223670522371928; Actor: 0.5827419817447662; Critic: 0.4309960603713989\n",
      "Step 1830, finished 972 / 10000 episodes. Last 30 episodes:\n",
      "\t\t\tavg episode duration: 22.3\n",
      "\t\t\tmax episode duration: 43\n",
      "\t\tAvg Loss. Total: 0.6429346621036529; Actor: 0.5353136877218883; Critic: 0.37527781625588735\n",
      "Step 1860, finished 988 / 10000 episodes. Last 30 episodes:\n",
      "\t\t\tavg episode duration: 23.5\n",
      "\t\t\tmax episode duration: 43\n",
      "\t\tAvg Loss. Total: 0.6522077818711599; Actor: 0.5418081204096477; Critic: 0.38130372365315757\n",
      "Step 1890, finished 1002 / 10000 episodes. Last 30 episodes:\n",
      "\t\t\tavg episode duration: 24.3\n",
      "\t\t\tmax episode duration: 54\n",
      "\t\tAvg Loss. Total: 0.7004635353883107; Actor: 0.5716997901598613; Critic: 0.4146136462688446\n",
      "Step 1920, finished 1016 / 10000 episodes. Last 30 episodes:\n",
      "\t\t\tavg episode duration: 24.766666666666666\n",
      "\t\t\tmax episode duration: 54\n",
      "\t\tAvg Loss. Total: 0.6958122372627258; Actor: 0.5632872611284256; Critic: 0.4141686032215754\n",
      "Step 1950, finished 1032 / 10000 episodes. Last 30 episodes:\n",
      "\t\t\tavg episode duration: 24.633333333333333\n",
      "\t\t\tmax episode duration: 52\n",
      "\t\tAvg Loss. Total: 0.685944926738739; Actor: 0.557516673207283; Critic: 0.4071865876515706\n",
      "Step 1980, finished 1049 / 10000 episodes. Last 30 episodes:\n",
      "\t\t\tavg episode duration: 23.4\n",
      "\t\t\tmax episode duration: 51\n",
      "\t\tAvg Loss. Total: 0.6696171899636586; Actor: 0.5526971906423569; Critic: 0.39326859414577486\n",
      "Step 2010, finished 1065 / 10000 episodes. Last 30 episodes:\n",
      "\t\t\tavg episode duration: 20.4\n",
      "\t\t\tmax episode duration: 41\n",
      "\t\tAvg Loss. Total: 0.6018465618292491; Actor: 0.4992040942112605; Critic: 0.3522445162137349\n",
      "Step 2040, finished 1084 / 10000 episodes. Last 30 episodes:\n",
      "\t\t\tavg episode duration: 20.766666666666666\n",
      "\t\t\tmax episode duration: 65\n",
      "\t\tAvg Loss. Total: 0.6680592825015386; Actor: 0.5487591842810313; Critic: 0.3936796878774961\n",
      "Step 2070, finished 1099 / 10000 episodes. Last 30 episodes:\n",
      "\t\t\tavg episode duration: 21.866666666666667\n",
      "\t\t\tmax episode duration: 65\n",
      "\t\tAvg Loss. Total: 0.6736136575539907; Actor: 0.5444984525442124; Critic: 0.4013644297917684\n",
      "Step 2100, finished 1112 / 10000 episodes. Last 30 episodes:\n",
      "\t\t\tavg episode duration: 24.133333333333333\n",
      "\t\t\tmax episode duration: 65\n",
      "\t\tAvg Loss. Total: 0.6840929130713145; Actor: 0.5723461518685024; Critic: 0.39791984160741173\n",
      "Step 2130, finished 1132 / 10000 episodes. Last 30 episodes:\n",
      "\t\t\tavg episode duration: 24.6\n",
      "\t\t\tmax episode duration: 45\n",
      "\t\tAvg Loss. Total: 0.656006666024526; Actor: 0.5227394819259643; Critic: 0.39463692605495454\n",
      "Step 2160, finished 1148 / 10000 episodes. Last 30 episodes:\n",
      "\t\t\tavg episode duration: 20.5\n",
      "\t\t\tmax episode duration: 45\n",
      "\t\tAvg Loss. Total: 0.6113847315311431; Actor: 0.5018123547236125; Critic: 0.36047855218251545\n",
      "Step 2190, finished 1167 / 10000 episodes. Last 30 episodes:\n",
      "\t\t\tavg episode duration: 20.466666666666665\n",
      "\t\t\tmax episode duration: 47\n",
      "\t\tAvg Loss. Total: 0.650919775168101; Actor: 0.5284997582435608; Critic: 0.3866699030001958\n",
      "Step 2220, finished 1180 / 10000 episodes. Last 30 episodes:\n",
      "\t\t\tavg episode duration: 21.733333333333334\n",
      "\t\t\tmax episode duration: 47\n",
      "\t\tAvg Loss. Total: 0.6777638514836629; Actor: 0.5558790177106857; Critic: 0.39982433716456095\n",
      "Step 2250, finished 1195 / 10000 episodes. Last 30 episodes:\n",
      "\t\t\tavg episode duration: 22.7\n",
      "\t\t\tmax episode duration: 54\n",
      "\t\tAvg Loss. Total: 0.6753545900185903; Actor: 0.5459653774897257; Critic: 0.4023718992869059\n"
     ]
    },
    {
     "name": "stdout",
     "output_type": "stream",
     "text": [
      "Step 2280, finished 1218 / 10000 episodes. Last 30 episodes:\n",
      "\t\t\tavg episode duration: 18.233333333333334\n",
      "\t\t\tmax episode duration: 42\n",
      "\t\tAvg Loss. Total: 0.6341707626978557; Actor: 0.5241309245427449; Critic: 0.37210529247919716\n",
      "Step 2310, finished 1234 / 10000 episodes. Last 30 episodes:\n",
      "\t\t\tavg episode duration: 19.133333333333333\n",
      "\t\t\tmax episode duration: 42\n",
      "\t\tAvg Loss. Total: 0.6438663810491562; Actor: 0.5280677556991578; Critic: 0.3798325071732203\n",
      "Step 2340, finished 1247 / 10000 episodes. Last 30 episodes:\n",
      "\t\t\tavg episode duration: 22.733333333333334\n",
      "\t\t\tmax episode duration: 49\n",
      "\t\tAvg Loss. Total: 0.6267407655715942; Actor: 0.5121858855088551; Critic: 0.37064782281716663\n",
      "Step 2370, finished 1264 / 10000 episodes. Last 30 episodes:\n",
      "\t\t\tavg episode duration: 22.866666666666667\n",
      "\t\t\tmax episode duration: 58\n",
      "\t\tAvg Loss. Total: 0.6843392709891002; Actor: 0.5646380772193272; Critic: 0.4020202398300171\n",
      "Step 2400, finished 1282 / 10000 episodes. Last 30 episodes:\n",
      "\t\t\tavg episode duration: 23.333333333333332\n",
      "\t\t\tmax episode duration: 72\n",
      "\t\tAvg Loss. Total: 0.622247255841891; Actor: 0.5167558600505193; Critic: 0.3638693203528722\n",
      "Step 2430, finished 1299 / 10000 episodes. Last 30 episodes:\n",
      "\t\t\tavg episode duration: 20.533333333333335\n",
      "\t\t\tmax episode duration: 72\n",
      "\t\tAvg Loss. Total: 0.5989731252193451; Actor: 0.4943779597679774; Critic: 0.3517841468254725\n",
      "Step 2460, finished 1315 / 10000 episodes. Last 30 episodes:\n",
      "\t\t\tavg episode duration: 21.066666666666666\n",
      "\t\t\tmax episode duration: 58\n",
      "\t\tAvg Loss. Total: 0.6079309672117233; Actor: 0.48507494827111564; Critic: 0.3653934940695763\n",
      "Step 2490, finished 1328 / 10000 episodes. Last 30 episodes:\n",
      "\t\t\tavg episode duration: 22.433333333333334\n",
      "\t\t\tmax episode duration: 58\n",
      "\t\tAvg Loss. Total: 0.6937447031339009; Actor: 0.5483418931563695; Critic: 0.41957375009854636\n",
      "Step 2520, finished 1344 / 10000 episodes. Last 30 episodes:\n",
      "\t\t\tavg episode duration: 24.633333333333333\n",
      "\t\t\tmax episode duration: 59\n",
      "\t\tAvg Loss. Total: 0.6361388037602107; Actor: 0.5318142692248027; Critic: 0.37023167113463085\n",
      "Step 2550, finished 1361 / 10000 episodes. Last 30 episodes:\n",
      "\t\t\tavg episode duration: 25.533333333333335\n",
      "\t\t\tmax episode duration: 59\n",
      "\t\tAvg Loss. Total: 0.6791929215192795; Actor: 0.5509920199712117; Critic: 0.40369690557320914\n",
      "Step 2580, finished 1378 / 10000 episodes. Last 30 episodes:\n",
      "\t\t\tavg episode duration: 21.233333333333334\n",
      "\t\t\tmax episode duration: 44\n",
      "\t\tAvg Loss. Total: 0.5687605381011963; Actor: 0.470957288146019; Critic: 0.3332819034655889\n",
      "Step 2610, finished 1391 / 10000 episodes. Last 30 episodes:\n",
      "\t\t\tavg episode duration: 20.4\n",
      "\t\t\tmax episode duration: 48\n",
      "\t\tAvg Loss. Total: 0.6530950744946797; Actor: 0.5129612376292546; Critic: 0.3966144551833471\n",
      "Step 2640, finished 1412 / 10000 episodes. Last 30 episodes:\n",
      "\t\t\tavg episode duration: 22.533333333333335\n",
      "\t\t\tmax episode duration: 50\n",
      "\t\tAvg Loss. Total: 0.6212500999371211; Actor: 0.5152330656846364; Critic: 0.36363356908162436\n",
      "Step 2670, finished 1429 / 10000 episodes. Last 30 episodes:\n",
      "\t\t\tavg episode duration: 19.566666666666666\n",
      "\t\t\tmax episode duration: 50\n",
      "\t\tAvg Loss. Total: 0.5956733137369156; Actor: 0.4948366949955622; Critic: 0.3482549632589022\n",
      "Step 2700, finished 1449 / 10000 episodes. Last 30 episodes:\n",
      "\t\t\tavg episode duration: 20.2\n",
      "\t\t\tmax episode duration: 38\n",
      "\t\tAvg Loss. Total: 0.5527470946311951; Actor: 0.4517642199993134; Critic: 0.32686498363812766\n",
      "Step 2730, finished 1467 / 10000 episodes. Last 30 episodes:\n",
      "\t\t\tavg episode duration: 17.6\n",
      "\t\t\tmax episode duration: 38\n",
      "\t\tAvg Loss. Total: 0.5670205930868785; Actor: 0.4697493096192678; Critic: 0.3321459432442983\n",
      "Step 2760, finished 1485 / 10000 episodes. Last 30 episodes:\n",
      "\t\t\tavg episode duration: 20.166666666666668\n",
      "\t\t\tmax episode duration: 65\n",
      "\t\tAvg Loss. Total: 0.6956312239170075; Actor: 0.5492927352587382; Critic: 0.4209848493337631\n",
      "Step 2790, finished 1502 / 10000 episodes. Last 30 episodes:\n",
      "\t\t\tavg episode duration: 21.766666666666666\n",
      "\t\t\tmax episode duration: 65\n",
      "\t\tAvg Loss. Total: 0.599615541100502; Actor: 0.49048127929369606; Critic: 0.35437490344047545\n",
      "Step 2820, finished 1519 / 10000 episodes. Last 30 episodes:\n",
      "\t\t\tavg episode duration: 19.1\n",
      "\t\t\tmax episode duration: 39\n",
      "\t\tAvg Loss. Total: 0.6315499077240626; Actor: 0.5035938481489818; Critic: 0.37975298215945563\n",
      "Step 2850, finished 1533 / 10000 episodes. Last 30 episodes:\n",
      "\t\t\tavg episode duration: 21.933333333333334\n",
      "\t\t\tmax episode duration: 49\n",
      "\t\tAvg Loss. Total: 0.6687199095884959; Actor: 0.5426365623871485; Critic: 0.3974016269048055\n",
      "Step 2880, finished 1548 / 10000 episodes. Last 30 episodes:\n",
      "\t\t\tavg episode duration: 23.9\n",
      "\t\t\tmax episode duration: 55\n",
      "\t\tAvg Loss. Total: 0.6306762317816417; Actor: 0.5050749272108078; Critic: 0.3781387661894163\n",
      "Step 2910, finished 1566 / 10000 episodes. Last 30 episodes:\n",
      "\t\t\tavg episode duration: 24.333333333333332\n",
      "\t\t\tmax episode duration: 114\n",
      "\t\tAvg Loss. Total: 0.6156256934007008; Actor: 0.5098220070203145; Critic: 0.3607146938641866\n",
      "Step 2940, finished 1586 / 10000 episodes. Last 30 episodes:\n",
      "\t\t\tavg episode duration: 21.333333333333332\n",
      "\t\t\tmax episode duration: 114\n",
      "\t\tAvg Loss. Total: 0.5537382791439692; Actor: 0.4507077972094218; Critic: 0.3283843810359637\n",
      "Step 2970, finished 1603 / 10000 episodes. Last 30 episodes:\n",
      "\t\t\tavg episode duration: 17.366666666666667\n",
      "\t\t\tmax episode duration: 35\n",
      "\t\tAvg Loss. Total: 0.6377297590176264; Actor: 0.5183934440215429; Critic: 0.37853303949038186\n",
      "Step 3000, finished 1619 / 10000 episodes. Last 30 episodes:\n",
      "\t\t\tavg episode duration: 20.666666666666668\n",
      "\t\t\tmax episode duration: 83\n",
      "\t\tAvg Loss. Total: 0.697167573372523; Actor: 0.5620341906944911; Critic: 0.4161504805088043\n",
      "Step 3030, finished 1633 / 10000 episodes. Last 30 episodes:\n",
      "\t\t\tavg episode duration: 24.066666666666666\n",
      "\t\t\tmax episode duration: 83\n",
      "\t\tAvg Loss. Total: 0.6579226573308309; Actor: 0.539870481689771; Critic: 0.3879874179760615\n",
      "Step 3060, finished 1649 / 10000 episodes. Last 30 episodes:\n",
      "\t\t\tavg episode duration: 22.9\n",
      "\t\t\tmax episode duration: 62\n",
      "\t\tAvg Loss. Total: 0.6515476028124492; Actor: 0.5269823988278707; Critic: 0.3880564014116923\n",
      "Step 3090, finished 1667 / 10000 episodes. Last 30 episodes:\n",
      "\t\t\tavg episode duration: 21.9\n",
      "\t\t\tmax episode duration: 81\n",
      "\t\tAvg Loss. Total: 0.6489936470985412; Actor: 0.5308742056290309; Critic: 0.3835565368334452\n",
      "Step 3120, finished 1678 / 10000 episodes. Last 30 episodes:\n",
      "\t\t\tavg episode duration: 24.633333333333333\n",
      "\t\t\tmax episode duration: 81\n",
      "\t\tAvg Loss. Total: 0.6876426180203755; Actor: 0.5630950580040613; Critic: 0.40609509746233624\n",
      "Step 3150, finished 1696 / 10000 episodes. Last 30 episodes:\n",
      "\t\t\tavg episode duration: 22.9\n",
      "\t\t\tmax episode duration: 45\n",
      "\t\tAvg Loss. Total: 0.672258996963501; Actor: 0.5563036759694417; Critic: 0.3941071589787801\n",
      "Step 3180, finished 1714 / 10000 episodes. Last 30 episodes:\n",
      "\t\t\tavg episode duration: 22.066666666666666\n",
      "\t\t\tmax episode duration: 68\n",
      "\t\tAvg Loss. Total: 0.5833131531874339; Actor: 0.4769901305437088; Critic: 0.3448180903991063\n",
      "Step 3210, finished 1732 / 10000 episodes. Last 30 episodes:\n",
      "\t\t\tavg episode duration: 19.766666666666666\n",
      "\t\t\tmax episode duration: 48\n",
      "\t\tAvg Loss. Total: 0.5710417687892914; Actor: 0.46488814254601796; Critic: 0.3385976935426394\n",
      "Step 3240, finished 1751 / 10000 episodes. Last 30 episodes:\n",
      "\t\t\tavg episode duration: 18.533333333333335\n",
      "\t\t\tmax episode duration: 42\n",
      "\t\tAvg Loss. Total: 0.5888851513465245; Actor: 0.48315958778063456; Critic: 0.34730536142985025\n",
      "Step 3270, finished 1769 / 10000 episodes. Last 30 episodes:\n",
      "\t\t\tavg episode duration: 19.8\n",
      "\t\t\tmax episode duration: 46\n",
      "\t\tAvg Loss. Total: 0.6449970185756684; Actor: 0.5126040379206339; Critic: 0.38869499961535137\n",
      "Step 3300, finished 1787 / 10000 episodes. Last 30 episodes:\n",
      "\t\t\tavg episode duration: 19.133333333333333\n",
      "\t\t\tmax episode duration: 41\n",
      "\t\tAvg Loss. Total: 0.5523751010497411; Actor: 0.46386097073554994; Critic: 0.3204446196556091\n",
      "Step 3330, finished 1808 / 10000 episodes. Last 30 episodes:\n",
      "\t\t\tavg episode duration: 17.5\n",
      "\t\t\tmax episode duration: 46\n",
      "\t\tAvg Loss. Total: 0.596557155251503; Actor: 0.4698762898643812; Critic: 0.3616190155347188\n",
      "Step 3360, finished 1825 / 10000 episodes. Last 30 episodes:\n",
      "\t\t\tavg episode duration: 20.1\n",
      "\t\t\tmax episode duration: 46\n",
      "\t\tAvg Loss. Total: 0.5921951125065485; Actor: 0.4844171663125356; Critic: 0.34998652835687\n"
     ]
    },
    {
     "name": "stdout",
     "output_type": "stream",
     "text": [
      "Step 3390, finished 1843 / 10000 episodes. Last 30 episodes:\n",
      "\t\t\tavg episode duration: 21.066666666666666\n",
      "\t\t\tmax episode duration: 50\n",
      "\t\tAvg Loss. Total: 0.5853992899258932; Actor: 0.4732522785663605; Critic: 0.3487731501460075\n",
      "Step 3420, finished 1859 / 10000 episodes. Last 30 episodes:\n",
      "\t\t\tavg episode duration: 21.4\n",
      "\t\t\tmax episode duration: 56\n",
      "\t\tAvg Loss. Total: 0.6061707218488057; Actor: 0.49093963702519733; Critic: 0.3607009038329124\n",
      "Step 3450, finished 1879 / 10000 episodes. Last 30 episodes:\n",
      "\t\t\tavg episode duration: 20.3\n",
      "\t\t\tmax episode duration: 56\n",
      "\t\tAvg Loss. Total: 0.5441399524609248; Actor: 0.4538811335961024; Critic: 0.31719938417275745\n",
      "Step 3480, finished 1895 / 10000 episodes. Last 30 episodes:\n",
      "\t\t\tavg episode duration: 19.8\n",
      "\t\t\tmax episode duration: 56\n",
      "\t\tAvg Loss. Total: 0.5961657454570134; Actor: 0.47072158257166546; Critic: 0.3608049601316452\n",
      "Step 3510, finished 1913 / 10000 episodes. Last 30 episodes:\n",
      "\t\t\tavg episode duration: 21.533333333333335\n",
      "\t\t\tmax episode duration: 56\n",
      "\t\tAvg Loss. Total: 0.6286438425381978; Actor: 0.5008423735698064; Critic: 0.37822265625\n",
      "Step 3540, finished 1931 / 10000 episodes. Last 30 episodes:\n",
      "\t\t\tavg episode duration: 21.666666666666668\n",
      "\t\t\tmax episode duration: 51\n",
      "\t\tAvg Loss. Total: 0.6236640294392903; Actor: 0.4985471576452255; Critic: 0.37439044515291847\n",
      "Step 3570, finished 1949 / 10000 episodes. Last 30 episodes:\n",
      "\t\t\tavg episode duration: 20.733333333333334\n",
      "\t\t\tmax episode duration: 51\n",
      "\t\tAvg Loss. Total: 0.6285457829634349; Actor: 0.5141509095827739; Critic: 0.37147032767534255\n",
      "Step 3600, finished 1965 / 10000 episodes. Last 30 episodes:\n",
      "\t\t\tavg episode duration: 20.0\n",
      "\t\t\tmax episode duration: 46\n",
      "\t\tAvg Loss. Total: 0.5992649286985398; Actor: 0.4646305988232295; Critic: 0.3669496297836304\n",
      "Step 3630, finished 1983 / 10000 episodes. Last 30 episodes:\n",
      "\t\t\tavg episode duration: 21.3\n",
      "\t\t\tmax episode duration: 46\n",
      "\t\tAvg Loss. Total: 0.5887688348690668; Actor: 0.4810728758573532; Critic: 0.34823239892721175\n",
      "Step 3660, finished 2001 / 10000 episodes. Last 30 episodes:\n",
      "\t\t\tavg episode duration: 18.666666666666668\n",
      "\t\t\tmax episode duration: 39\n",
      "\t\tAvg Loss. Total: 0.5188836365938186; Actor: 0.43245454827944435; Critic: 0.3026563649376233\n",
      "Step 3690, finished 2021 / 10000 episodes. Last 30 episodes:\n",
      "\t\t\tavg episode duration: 17.6\n",
      "\t\t\tmax episode duration: 39\n",
      "\t\tAvg Loss. Total: 0.5324039856592814; Actor: 0.4318155348300934; Critic: 0.31649622271458305\n",
      "Step 3720, finished 2041 / 10000 episodes. Last 30 episodes:\n",
      "\t\t\tavg episode duration: 18.966666666666665\n",
      "\t\t\tmax episode duration: 42\n",
      "\t\tAvg Loss. Total: 0.5732876151800156; Actor: 0.46159660120805107; Critic: 0.34248931109905245\n",
      "Step 3750, finished 2059 / 10000 episodes. Last 30 episodes:\n",
      "\t\t\tavg episode duration: 20.5\n",
      "\t\t\tmax episode duration: 58\n",
      "\t\tAvg Loss. Total: 0.5412956655025483; Actor: 0.4266216278076172; Critic: 0.3279848575592041\n",
      "Step 3780, finished 2079 / 10000 episodes. Last 30 episodes:\n",
      "\t\t\tavg episode duration: 17.833333333333332\n",
      "\t\t\tmax episode duration: 47\n",
      "\t\tAvg Loss. Total: 0.4765434046586355; Actor: 0.3873836904764175; Critic: 0.2828515633940697\n",
      "Step 3810, finished 2096 / 10000 episodes. Last 30 episodes:\n",
      "\t\t\tavg episode duration: 18.966666666666665\n",
      "\t\t\tmax episode duration: 47\n",
      "\t\tAvg Loss. Total: 0.5495745559533437; Actor: 0.43932757278283435; Critic: 0.3299107705553373\n",
      "Step 3840, finished 2114 / 10000 episodes. Last 30 episodes:\n",
      "\t\t\tavg episode duration: 19.533333333333335\n",
      "\t\t\tmax episode duration: 35\n",
      "\t\tAvg Loss. Total: 0.5370797137419383; Actor: 0.45138283471266427; Critic: 0.31138829489549\n",
      "Step 3870, finished 2127 / 10000 episodes. Last 30 episodes:\n",
      "\t\t\tavg episode duration: 22.5\n",
      "\t\t\tmax episode duration: 61\n",
      "\t\tAvg Loss. Total: 0.6445369005203248; Actor: 0.5117370883623759; Critic: 0.38866835782925285\n",
      "Step 3900, finished 2143 / 10000 episodes. Last 30 episodes:\n",
      "\t\t\tavg episode duration: 23.7\n",
      "\t\t\tmax episode duration: 61\n",
      "\t\tAvg Loss. Total: 0.5626119077205658; Actor: 0.45071401993433635; Critic: 0.33725490073362985\n",
      "Step 3930, finished 2158 / 10000 episodes. Last 30 episodes:\n",
      "\t\t\tavg episode duration: 21.666666666666668\n",
      "\t\t\tmax episode duration: 57\n",
      "\t\tAvg Loss. Total: 0.6091936886310577; Actor: 0.4950361490249634; Critic: 0.36167561411857607\n",
      "Step 3960, finished 2173 / 10000 episodes. Last 30 episodes:\n",
      "\t\t\tavg episode duration: 23.166666666666668\n",
      "\t\t\tmax episode duration: 57\n",
      "\t\tAvg Loss. Total: 0.640260128180186; Actor: 0.5187885542710622; Critic: 0.3808658589919408\n",
      "Step 3990, finished 2190 / 10000 episodes. Last 30 episodes:\n",
      "\t\t\tavg episode duration: 20.733333333333334\n",
      "\t\t\tmax episode duration: 38\n",
      "\t\tAvg Loss. Total: 0.5707289338111877; Actor: 0.46129927933216097; Critic: 0.3400792966286341\n",
      "Step 4020, finished 2207 / 10000 episodes. Last 30 episodes:\n",
      "\t\t\tavg episode duration: 23.3\n",
      "\t\t\tmax episode duration: 93\n",
      "\t\tAvg Loss. Total: 0.6440907518068949; Actor: 0.5104016979535421; Critic: 0.3888898968696594\n",
      "Step 4050, finished 2223 / 10000 episodes. Last 30 episodes:\n",
      "\t\t\tavg episode duration: 23.466666666666665\n",
      "\t\t\tmax episode duration: 93\n",
      "\t\tAvg Loss. Total: 0.614007298151652; Actor: 0.5178144683440526; Critic: 0.3551000644763311\n",
      "Step 4080, finished 2232 / 10000 episodes. Last 30 episodes:\n",
      "\t\t\tavg episode duration: 22.033333333333335\n",
      "\t\t\tmax episode duration: 70\n",
      "\t\tAvg Loss. Total: 0.6774851481119791; Actor: 0.5320694675048192; Critic: 0.41145041783650715\n",
      "Step 4110, finished 2254 / 10000 episodes. Last 30 episodes:\n",
      "\t\t\tavg episode duration: 24.533333333333335\n",
      "\t\t\tmax episode duration: 70\n",
      "\t\tAvg Loss. Total: 0.5912429600954056; Actor: 0.4726949801047643; Critic: 0.3548954705397288\n",
      "Step 4140, finished 2270 / 10000 episodes. Last 30 episodes:\n",
      "\t\t\tavg episode duration: 19.6\n",
      "\t\t\tmax episode duration: 67\n",
      "\t\tAvg Loss. Total: 0.5991064002116521; Actor: 0.49942339956760406; Critic: 0.34939470489819846\n"
     ]
    }
   ],
   "source": [
    "class QueueReplayMemory:\n",
    "    \n",
    "    def __init__(self, capacity):\n",
    "        self.capacity = capacity\n",
    "        self.memory = []\n",
    "\n",
    "    def push(self, transition):\n",
    "        if len(self) >= self.capacity:\n",
    "            self.memory.pop(0)\n",
    "        self.memory.append(transition)\n",
    "\n",
    "    def sample(self, batch_size):\n",
    "        if batch_size > len(self):\n",
    "            return None\n",
    "        \n",
    "        s, a, r, t, d = zip(*random.sample(self.memory, batch_size))\n",
    "        \n",
    "#         print(len(s), len(a), len(r), len(t), len(d))\n",
    "        \n",
    "        s = torch.cat(s)\n",
    "        t = torch.cat(t)\n",
    "        \n",
    "        r = torch.tensor(r, dtype=torch.float)\n",
    "        d = torch.tensor(d, dtype=torch.float)\n",
    "        a = torch.stack(a)\n",
    "        \n",
    "#         print(s.shape, a.shape, r.shape, t.shape, d.shape)\n",
    "        \n",
    "#         assert s.shape == (batch_size, 3, 40, 80)\n",
    "#         assert t.shape == (batch_size, 3, 40, 80)\n",
    "#         assert r.shape == (batch_size,)\n",
    "#         assert d.shape == (batch_size,)\n",
    "#         assert a.shape == (batch_size,)\n",
    "        \n",
    "        return s, a, r, t, d\n",
    "\n",
    "    def __len__(self):\n",
    "        return len(self.memory)\n",
    "\n",
    "\n",
    "def select_action(model, state):\n",
    "    log_p = model(state)\n",
    "    p = torch.exp(log_p)\n",
    "#     print(p.mean(0), p.var(dim=0))\n",
    "    action = torch.multinomial(p, 1)\n",
    "#     print(p[:, 0].data.view(-1), action.view(-1))\n",
    "    log_p = log_p.gather(1, action).view(-1)\n",
    "    action = action.view(-1)\n",
    "#     n = len(state)\n",
    "#     assert action.size() == (n, )\n",
    "#     assert log_p.size() == (n, )\n",
    "    return action, log_p\n",
    "\n",
    "def train_actor_critic(actor, critic, memory, optimizer, log_ps, state, reward, next_state, done, discount_factor):\n",
    "    \n",
    "    batch = memory.sample(32)\n",
    "    \n",
    "    if batch is None or len(memory) < 128:\n",
    "        return 0, 0, 0\n",
    "    \n",
    "    state, action, reward, next_state, done = batch\n",
    "    \n",
    "    value = critic(state)\n",
    "    \n",
    "    # target = R + gamma * V(S')\n",
    "    dones = done.type(torch.FloatTensor).reshape(-1)\n",
    "    reward = reward.reshape(-1)\n",
    "    next_values = critic(next_state)\n",
    "    target = reward + discount_factor * next_values * (1 - dones)\n",
    "    \n",
    "    adv = target - value\n",
    "    value_loss = F.smooth_l1_loss(adv, torch.zeros_like(adv))\n",
    "    \n",
    "    log_ps = actor(state).gather(1, action.view(-1, 1)).view(-1)\n",
    "    actor_loss = -1 * (adv.detach() * log_ps).mean()\n",
    "    \n",
    "    # The loss is composed of the value_loss (for the critic) and the actor_loss\n",
    "    loss = value_loss + actor_loss * 0.5\n",
    "\n",
    "    # backpropagation of loss to Neural Network (PyTorch magic)\n",
    "    optimizer.zero_grad()\n",
    "    loss.backward()\n",
    "    torch.nn.utils.clip_grad_norm_(actor.parameters(), 0.5)\n",
    "    torch.nn.utils.clip_grad_norm_(critic.parameters(), 0.5)\n",
    "#     print(\n",
    "#         sum([torch.sum(x.grad.data**2).item() for x in actor.parameters()]),\n",
    "#         sum([torch.sum(x.grad.data**2).item() for x in critic.parameters()])\n",
    "#     )\n",
    "    optimizer.step()\n",
    "    \n",
    "    return loss.item(), value_loss.item(), actor_loss.item()  # Returns a Python scalar, and releases history (similar to .detach())\n",
    "\n",
    "def run_episodes_actor_critic(actor, critic, envs, max_episodes, max_steps, discount_factor, actor_learn_rate, critic_learn_rate):\n",
    "    \n",
    "    # We can use a single optimizer for both the actor and the critic, even with separate learn rates\n",
    "    optimizer = optim.Adam([\n",
    "        {'params': actor.parameters(), 'lr': actor_learn_rate},\n",
    "        {'params': critic.parameters(), 'lr': critic_learn_rate}\n",
    "    ])\n",
    "    \n",
    "    episode_durations = []\n",
    "    state = torch.cat([env.reset() for env in envs])\n",
    "    current_episode_lengths = torch.zeros(len(envs), dtype=torch.int64)\n",
    "    step_losses = []  # Keep track of losses for plotting\n",
    "    \n",
    "    memory = QueueReplayMemory(200)\n",
    "    \n",
    "    LOG = 30\n",
    "    \n",
    "    for i in range(max_steps):\n",
    "\n",
    "        if i % LOG == 0 and i > 0:\n",
    "            print(f\"Step {i}, finished {len(episode_durations)} / {max_episodes} episodes. Last {LOG} episodes:\")\n",
    "            print(f\"\\t\\t\\tavg episode duration: {np.mean(episode_durations[-LOG:])}\")\n",
    "            print(f\"\\t\\t\\tmax episode duration: {max(episode_durations[-LOG:])}\")\n",
    "\n",
    "        action, log_ps = select_action(actor, state)\n",
    "        next_state, reward, done, _ = zip(*[env.step(a.item()) for env, a in zip(envs, action)])\n",
    "        \n",
    "        for t in zip(state.split(1, dim=0), action, reward, next_state, done):\n",
    "            memory.push(t)\n",
    "        \n",
    "        next_state = torch.cat(next_state)\n",
    "        reward = torch.tensor(reward, dtype=torch.float)\n",
    "        done = torch.tensor(done, dtype=torch.uint8)  # Boolean\n",
    "        current_episode_lengths += 1\n",
    "\n",
    "        losses = train_actor_critic(actor, critic, memory, optimizer, log_ps, state, reward, next_state, done, discount_factor)\n",
    "\n",
    "        step_losses.append(losses)\n",
    "\n",
    "        if i % LOG == 0 and i > 0:\n",
    "            last_losses = step_losses[-LOG:]\n",
    "            t_loss = np.mean([l for l, _, _  in last_losses])\n",
    "            c_loss = np.mean([c for _, c, _  in last_losses])\n",
    "            a_loss = np.mean([a for _, _, a  in last_losses])\n",
    "            print(f\"\\t\\tAvg Loss. Total: {t_loss}; Actor: {a_loss}; Critic: {c_loss}\")\n",
    "\n",
    "        episode_durations.extend(current_episode_lengths[done])\n",
    "        current_episode_lengths[done] = 0  # PyTorch can also work in place\n",
    "        \n",
    "        # Reset envs that are done\n",
    "        next_state = [\n",
    "            env.reset() if d else s\n",
    "            for env, s, d in zip(envs, next_state.split(1, dim=0), done)\n",
    "        ]\n",
    "        next_state = torch.cat(next_state)\n",
    "        state = next_state\n",
    "\n",
    "        # Check if we have finished sufficiently many episodes\n",
    "        if len(episode_durations) >= max_episodes:\n",
    "            break\n",
    "    \n",
    "    return episode_durations[:max_episodes], step_losses  # In case we want exactly num_episodes returned\n",
    "\n",
    "\n",
    "# Maybe you should make it a bit deeper?\n",
    "class DeepPolicy(nn.Module):\n",
    "    def __init__(self):\n",
    "        nn.Module.__init__(self)\n",
    "        self.cl1 = nn.Conv2d(3, 32, 5, padding=0, stride=2)\n",
    "#         self.pl1 = nn.MaxPool2d(2)\n",
    "#         self.bn1 = nn.BatchNorm2d(16)\n",
    "        \n",
    "        self.cl2 = nn.Conv2d(32, 128, 5, padding=0, stride=2)\n",
    "#         self.pl2 = nn.MaxPool2d(2)\n",
    "#         self.bn2 = nn.BatchNorm2d(32)\n",
    "        \n",
    "#         self.cl3 = nn.Conv2d(64, 128, 5, padding=0, stride=2)\n",
    "#         self.pl3 = nn.MaxPool2d(2)\n",
    "#         self.bn3 = nn.BatchNorm2d(32)\n",
    "        \n",
    "        self.ap = nn.AdaptiveAvgPool2d((1, 1))\n",
    "#         self.l1 = nn.Linear(5*10*32, 2)\n",
    "        self.l1 = nn.Linear(128, 32)\n",
    "        self.l2 = nn.Linear(32, 2)\n",
    "\n",
    "    def forward(self, x):\n",
    "        # Flatten\n",
    "        x = self.cl1(x)\n",
    "#         x = self.pl1(x)\n",
    "#         x = self.bn1(x)\n",
    "        x = torch.relu(x)\n",
    "        \n",
    "        x = self.cl2(x)\n",
    "#         x = self.pl2(x)\n",
    "#         x = self.bn2(x)\n",
    "        x = torch.relu(x)\n",
    "        \n",
    "#         x = self.cl3(x)\n",
    "#         x = self.pl3(x)\n",
    "#         x = self.bn3(x)\n",
    "#         x = torch.relu(x)\n",
    "        \n",
    "        x = self.ap(x)\n",
    "        x = x.view(x.size(0), -1)\n",
    "        \n",
    "        x = self.l1(x)\n",
    "        x = torch.relu(x)\n",
    "        x = self.l2(x)\n",
    "    \n",
    "        return F.log_softmax(x, -1)\n",
    "    \n",
    "class DeepCritic(nn.Module):\n",
    "    \n",
    "    def __init__(self):\n",
    "        nn.Module.__init__(self)\n",
    "        self.cl1 = nn.Conv2d(3, 64, 5, padding=0, stride=2)\n",
    "#         self.pl1 = nn.MaxPool2d(2)\n",
    "#         self.bn1 = nn.BatchNorm2d(16)\n",
    "        self.cl2 = nn.Conv2d(64, 128, 5, padding=0, stride=2)\n",
    "#         self.pl2 = nn.MaxPool2d(2)\n",
    "#         self.bn2 = nn.BatchNorm2d(64)\n",
    "        self.ap = nn.AdaptiveAvgPool2d((1, 1))\n",
    "        self.l1 = nn.Linear(128, 32)\n",
    "#         self.l1 = nn.Linear(7 * 17 * 64, 1)\n",
    "        self.l2 = nn.Linear(32, 1)\n",
    "\n",
    "    def forward(self, x):\n",
    "        # Flatten\n",
    "        x = self.cl1(x)\n",
    "#         x = self.pl1(x)\n",
    "#         x = self.bn1(x)\n",
    "        x = torch.relu(x)\n",
    "        \n",
    "        x = self.cl2(x)\n",
    "#         x = self.pl2(x)\n",
    "#         x = self.bn2(x)\n",
    "        x = torch.relu(x)\n",
    "        \n",
    "        x = self.ap(x)\n",
    "        x = x.view(x.size(0), -1)\n",
    "        \n",
    "        x = self.l1(x)\n",
    "        x = torch.relu(x)\n",
    "        \n",
    "        x = self.l2(x).view(-1)\n",
    "\n",
    "#         x = self.l1(x).view(-1)\n",
    "    \n",
    "        return x\n",
    "\n",
    "def plot_trends(episode_durations, step_losses):\n",
    "    plt.plot(smooth(episode_durations, 20))\n",
    "    plt.title('Episode durations')\n",
    "    plt.show()\n",
    "    loss, v_loss, a_loss = zip(*step_losses)\n",
    "\n",
    "    plt.plot(smooth(v_loss, 100))\n",
    "    plt.title('Value loss')\n",
    "    plt.show()\n",
    "    plt.plot(smooth(a_loss, 100))\n",
    "    plt.title('Actor loss')\n",
    "    plt.show()\n",
    "    \n",
    "policy = DeepPolicy()\n",
    "critic = DeepCritic()\n",
    "filename = 'weights.pt'\n",
    "\n",
    "if os.path.isfile(filename):\n",
    "    print(f\"Loading weights from {filename}\")\n",
    "    weights = torch.load(filename)\n",
    "    \n",
    "    policy.load_state_dict(weights['policy'])\n",
    "    critic.load_state_dict(weights['critic'])\n",
    "    \n",
    "else:\n",
    "    # Train\n",
    "    \n",
    "    ### TODO some training here, maybe? Or run this on a different machine?    \n",
    "    num_envs = 12\n",
    "    max_steps = 10000\n",
    "    max_episodes = 10000\n",
    "    discount_factor = 0.99\n",
    "    lr_actor = 1e-4\n",
    "    lr_critic = 1e-3\n",
    "    seed = 42\n",
    "\n",
    "    envs = [CartPoleRawEnv() for i in range(num_envs)]\n",
    "\n",
    "    for i, env in enumerate(envs):\n",
    "        env.seed(seed + i)\n",
    "    torch.manual_seed(seed)\n",
    "    \n",
    "    try:\n",
    "        episode_durations, step_losses = run_episodes_actor_critic(policy, critic, envs, max_episodes, max_steps, discount_factor, lr_actor, lr_critic)\n",
    "    except KeyboardInterrupt as err:\n",
    "        for e in envs:\n",
    "            e.close()\n",
    "        raise err\n",
    "    \n",
    "    plot_trends(episode_durations, step_losses)\n",
    "        \n",
    "    print(f\"Saving weights to {filename}\")\n",
    "    torch.save({\n",
    "        # You can add more here if you need, e.g. critic\n",
    "        'policy': policy.state_dict(),  # Always save weights rather than objects\n",
    "        'critic': critic.state_dict(),  # Always save weights rather than objects\n",
    "    },\n",
    "    filename)\n",
    "    \n",
    "    plot_trends(episode_durations, step_losses)\n",
    "    \n",
    "def bonus_get_action(x):\n",
    "    return policy(x).exp().multinomial(1)[:, 0]"
   ]
  },
  {
   "cell_type": "code",
   "execution_count": null,
   "metadata": {},
   "outputs": [],
   "source": [
    "for e in envs:\n",
    "    e.close()"
   ]
  },
  {
   "cell_type": "code",
   "execution_count": 45,
   "metadata": {},
   "outputs": [
    {
     "data": {
      "image/png": "[encoded data removed]",
      "text/plain": [
       "<Figure size 432x288 with 1 Axes>"
      ]
     },
     "metadata": {
      "needs_background": "light"
     },
     "output_type": "display_data"
    }
   ],
   "source": [
    "seed = 42\n",
    "episode_durations = []\n",
    "for i in range(20):  # Not too many since it may take forever to render\n",
    "    test_env = CartPoleRawEnv()\n",
    "    test_env.seed(seed + i)\n",
    "    state = test_env.reset()\n",
    "    done = False\n",
    "    steps = 0\n",
    "    while not done:\n",
    "        steps += 1\n",
    "        with torch.no_grad():\n",
    "            action = bonus_get_action(state).item()\n",
    "        state, reward, done, _ = test_env.step(action)\n",
    "    episode_durations.append(steps)\n",
    "    test_env.close()\n",
    "    \n",
    "plt.plot(smooth(episode_durations, 10))\n",
    "plt.title('Episode durations')\n",
    "plt.show()\n"
   ]
  },
  {
   "cell_type": "code",
   "execution_count": 44,
   "metadata": {
    "deletable": false,
    "editable": false,
    "nbgrader": {
     "checksum": "b800bfb91f987f14e0c35bc0c41d538b",
     "grade": true,
     "grade_id": "cell-0d7bd58a23fdfabb",
     "locked": true,
     "points": 5,
     "schema_version": 1,
     "solution": false
    }
   },
   "outputs": [
    {
     "data": {
      "image/png": "[encoded data removed]",
      "text/plain": [
       "<Figure size 432x288 with 1 Axes>"
      ]
     },
     "metadata": {
      "needs_background": "light"
     },
     "output_type": "display_data"
    }
   ],
   "source": [
    "seed = 42\n",
    "episode_durations = []\n",
    "for i in range(20):  # Not too many since it may take forever to render\n",
    "    test_env = CartPoleRawEnv()\n",
    "    test_env.seed(seed + i)\n",
    "    state = test_env.reset()\n",
    "    done = False\n",
    "    steps = 0\n",
    "    while not done:\n",
    "        steps += 1\n",
    "        with torch.no_grad():\n",
    "            action = bonus_get_action(state).item()\n",
    "        state, reward, done, _ = test_env.step(action)\n",
    "    episode_durations.append(steps)\n",
    "    test_env.close()\n",
    "    \n",
    "plt.plot(smooth(episode_durations, 100))\n",
    "plt.title('Episode durations')\n",
    "plt.show()\n"
   ]
  },
  {
   "cell_type": "code",
   "execution_count": null,
   "metadata": {},
   "outputs": [],
   "source": []
  }
 ],
 "metadata": {
  "kernelspec": {
   "display_name": "Python 3",
   "language": "python",
   "name": "python3"
  },
  "language_info": {
   "codemirror_mode": {
    "name": "ipython",
    "version": 3
   },
   "file_extension": ".py",
   "mimetype": "text/x-python",
   "name": "python",
   "nbconvert_exporter": "python",
   "pygments_lexer": "ipython3",
   "version": "3.6.6"
  }
 },
 "nbformat": 4,
 "nbformat_minor": 2
}
